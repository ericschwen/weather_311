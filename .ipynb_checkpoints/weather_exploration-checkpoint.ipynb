{
 "cells": [
  {
   "cell_type": "code",
   "execution_count": 8,
   "id": "8fd02185",
   "metadata": {},
   "outputs": [],
   "source": [
    "import numpy as np\n",
    "import pandas as pd\n",
    "import matplotlib as mpl\n",
    "import matplotlib.pyplot as plt"
   ]
  },
  {
   "cell_type": "code",
   "execution_count": 9,
   "id": "0d984a89",
   "metadata": {},
   "outputs": [],
   "source": [
    "weather_path = 'weather_NY_2010_2018Nov.csv'\n",
    "w = pd.read_csv(weather_path)"
   ]
  },
  {
   "cell_type": "code",
   "execution_count": 10,
   "id": "33c4b631",
   "metadata": {},
   "outputs": [
    {
     "data": {
      "text/html": [
       "<div>\n",
       "<style scoped>\n",
       "    .dataframe tbody tr th:only-of-type {\n",
       "        vertical-align: middle;\n",
       "    }\n",
       "\n",
       "    .dataframe tbody tr th {\n",
       "        vertical-align: top;\n",
       "    }\n",
       "\n",
       "    .dataframe thead th {\n",
       "        text-align: right;\n",
       "    }\n",
       "</style>\n",
       "<table border=\"1\" class=\"dataframe\">\n",
       "  <thead>\n",
       "    <tr style=\"text-align: right;\">\n",
       "      <th></th>\n",
       "      <th>USAF</th>\n",
       "      <th>WBAN</th>\n",
       "      <th>StationName</th>\n",
       "      <th>State</th>\n",
       "      <th>Latitude</th>\n",
       "      <th>Longitude</th>\n",
       "      <th>MeanTemp</th>\n",
       "      <th>MinTemp</th>\n",
       "      <th>MaxTemp</th>\n",
       "      <th>DewPoint</th>\n",
       "      <th>Percipitation</th>\n",
       "      <th>WindSpeed</th>\n",
       "      <th>MaxSustainedWind</th>\n",
       "      <th>Gust</th>\n",
       "      <th>Rain</th>\n",
       "      <th>SnowDepth</th>\n",
       "      <th>SnowIce</th>\n",
       "      <th>Year</th>\n",
       "      <th>Month</th>\n",
       "      <th>Day</th>\n",
       "    </tr>\n",
       "  </thead>\n",
       "  <tbody>\n",
       "    <tr>\n",
       "      <th>0</th>\n",
       "      <td>726228</td>\n",
       "      <td>94740</td>\n",
       "      <td>ADIRONDACK REGIONAL ARPT</td>\n",
       "      <td>NY</td>\n",
       "      <td>44.385</td>\n",
       "      <td>-74.207</td>\n",
       "      <td>27.6</td>\n",
       "      <td>24.8</td>\n",
       "      <td>30.9</td>\n",
       "      <td>25.0</td>\n",
       "      <td>0.07</td>\n",
       "      <td>1.3</td>\n",
       "      <td>6.0</td>\n",
       "      <td>NaN</td>\n",
       "      <td>0</td>\n",
       "      <td>NaN</td>\n",
       "      <td>1</td>\n",
       "      <td>2010</td>\n",
       "      <td>1</td>\n",
       "      <td>1</td>\n",
       "    </tr>\n",
       "    <tr>\n",
       "      <th>1</th>\n",
       "      <td>726228</td>\n",
       "      <td>94740</td>\n",
       "      <td>ADIRONDACK REGIONAL ARPT</td>\n",
       "      <td>NY</td>\n",
       "      <td>44.385</td>\n",
       "      <td>-74.207</td>\n",
       "      <td>-3.2</td>\n",
       "      <td>-20.9</td>\n",
       "      <td>17.1</td>\n",
       "      <td>-9.6</td>\n",
       "      <td>0.00</td>\n",
       "      <td>3.3</td>\n",
       "      <td>9.9</td>\n",
       "      <td>NaN</td>\n",
       "      <td>0</td>\n",
       "      <td>NaN</td>\n",
       "      <td>1</td>\n",
       "      <td>2010</td>\n",
       "      <td>1</td>\n",
       "      <td>10</td>\n",
       "    </tr>\n",
       "    <tr>\n",
       "      <th>2</th>\n",
       "      <td>726228</td>\n",
       "      <td>94740</td>\n",
       "      <td>ADIRONDACK REGIONAL ARPT</td>\n",
       "      <td>NY</td>\n",
       "      <td>44.385</td>\n",
       "      <td>-74.207</td>\n",
       "      <td>20.9</td>\n",
       "      <td>17.1</td>\n",
       "      <td>24.1</td>\n",
       "      <td>15.1</td>\n",
       "      <td>0.00</td>\n",
       "      <td>6.8</td>\n",
       "      <td>12.0</td>\n",
       "      <td>19.0</td>\n",
       "      <td>0</td>\n",
       "      <td>NaN</td>\n",
       "      <td>1</td>\n",
       "      <td>2010</td>\n",
       "      <td>1</td>\n",
       "      <td>11</td>\n",
       "    </tr>\n",
       "    <tr>\n",
       "      <th>3</th>\n",
       "      <td>726228</td>\n",
       "      <td>94740</td>\n",
       "      <td>ADIRONDACK REGIONAL ARPT</td>\n",
       "      <td>NY</td>\n",
       "      <td>44.385</td>\n",
       "      <td>-74.207</td>\n",
       "      <td>13.8</td>\n",
       "      <td>5.0</td>\n",
       "      <td>19.9</td>\n",
       "      <td>8.5</td>\n",
       "      <td>NaN</td>\n",
       "      <td>4.4</td>\n",
       "      <td>8.0</td>\n",
       "      <td>15.9</td>\n",
       "      <td>0</td>\n",
       "      <td>NaN</td>\n",
       "      <td>1</td>\n",
       "      <td>2010</td>\n",
       "      <td>1</td>\n",
       "      <td>12</td>\n",
       "    </tr>\n",
       "    <tr>\n",
       "      <th>4</th>\n",
       "      <td>726228</td>\n",
       "      <td>94740</td>\n",
       "      <td>ADIRONDACK REGIONAL ARPT</td>\n",
       "      <td>NY</td>\n",
       "      <td>44.385</td>\n",
       "      <td>-74.207</td>\n",
       "      <td>6.3</td>\n",
       "      <td>-8.0</td>\n",
       "      <td>19.0</td>\n",
       "      <td>1.9</td>\n",
       "      <td>0.00</td>\n",
       "      <td>3.3</td>\n",
       "      <td>5.1</td>\n",
       "      <td>NaN</td>\n",
       "      <td>0</td>\n",
       "      <td>NaN</td>\n",
       "      <td>1</td>\n",
       "      <td>2010</td>\n",
       "      <td>1</td>\n",
       "      <td>13</td>\n",
       "    </tr>\n",
       "  </tbody>\n",
       "</table>\n",
       "</div>"
      ],
      "text/plain": [
       "     USAF   WBAN               StationName State  Latitude  Longitude  \\\n",
       "0  726228  94740  ADIRONDACK REGIONAL ARPT    NY    44.385    -74.207   \n",
       "1  726228  94740  ADIRONDACK REGIONAL ARPT    NY    44.385    -74.207   \n",
       "2  726228  94740  ADIRONDACK REGIONAL ARPT    NY    44.385    -74.207   \n",
       "3  726228  94740  ADIRONDACK REGIONAL ARPT    NY    44.385    -74.207   \n",
       "4  726228  94740  ADIRONDACK REGIONAL ARPT    NY    44.385    -74.207   \n",
       "\n",
       "   MeanTemp  MinTemp  MaxTemp  DewPoint  Percipitation  WindSpeed  \\\n",
       "0      27.6     24.8     30.9      25.0           0.07        1.3   \n",
       "1      -3.2    -20.9     17.1      -9.6           0.00        3.3   \n",
       "2      20.9     17.1     24.1      15.1           0.00        6.8   \n",
       "3      13.8      5.0     19.9       8.5            NaN        4.4   \n",
       "4       6.3     -8.0     19.0       1.9           0.00        3.3   \n",
       "\n",
       "   MaxSustainedWind  Gust  Rain  SnowDepth  SnowIce  Year  Month  Day  \n",
       "0               6.0   NaN     0        NaN        1  2010      1    1  \n",
       "1               9.9   NaN     0        NaN        1  2010      1   10  \n",
       "2              12.0  19.0     0        NaN        1  2010      1   11  \n",
       "3               8.0  15.9     0        NaN        1  2010      1   12  \n",
       "4               5.1   NaN     0        NaN        1  2010      1   13  "
      ]
     },
     "execution_count": 10,
     "metadata": {},
     "output_type": "execute_result"
    }
   ],
   "source": [
    "w.head()"
   ]
  },
  {
   "cell_type": "code",
   "execution_count": 11,
   "id": "6f24375b",
   "metadata": {},
   "outputs": [
    {
     "data": {
      "text/plain": [
       "160775"
      ]
     },
     "execution_count": 11,
     "metadata": {},
     "output_type": "execute_result"
    }
   ],
   "source": [
    "len(w)"
   ]
  },
  {
   "cell_type": "code",
   "execution_count": 12,
   "id": "8f2f33ac",
   "metadata": {},
   "outputs": [
    {
     "data": {
      "text/plain": [
       "USAF                                  726228\n",
       "WBAN                                   94740\n",
       "StationName         ADIRONDACK REGIONAL ARPT\n",
       "State                                     NY\n",
       "Latitude                              44.385\n",
       "Longitude                            -74.207\n",
       "MeanTemp                                27.6\n",
       "MinTemp                                 24.8\n",
       "MaxTemp                                 30.9\n",
       "DewPoint                                25.0\n",
       "Percipitation                           0.07\n",
       "WindSpeed                                1.3\n",
       "MaxSustainedWind                         6.0\n",
       "Gust                                     NaN\n",
       "Rain                                       0\n",
       "SnowDepth                                NaN\n",
       "SnowIce                                    1\n",
       "Year                                    2010\n",
       "Month                                      1\n",
       "Day                                        1\n",
       "Name: 0, dtype: object"
      ]
     },
     "execution_count": 12,
     "metadata": {},
     "output_type": "execute_result"
    }
   ],
   "source": [
    "w.loc[0]"
   ]
  },
  {
   "cell_type": "code",
   "execution_count": 35,
   "id": "8d6e90a0",
   "metadata": {},
   "outputs": [
    {
     "data": {
      "text/plain": [
       "USAF                         int64\n",
       "WBAN                         int64\n",
       "StationName                 object\n",
       "State                       object\n",
       "Latitude                   float64\n",
       "Longitude                  float64\n",
       "MeanTemp                   float64\n",
       "MinTemp                    float64\n",
       "MaxTemp                    float64\n",
       "DewPoint                   float64\n",
       "Percipitation              float64\n",
       "WindSpeed                  float64\n",
       "MaxSustainedWind           float64\n",
       "Gust                       float64\n",
       "Rain                         int64\n",
       "SnowDepth                  float64\n",
       "SnowIce                      int64\n",
       "Year                         int64\n",
       "Month                        int64\n",
       "Day                          int64\n",
       "Date                datetime64[ns]\n",
       "dtype: object"
      ]
     },
     "execution_count": 35,
     "metadata": {},
     "output_type": "execute_result"
    }
   ],
   "source": [
    "w.dtypes"
   ]
  },
  {
   "cell_type": "markdown",
   "id": "7bbcc9a5",
   "metadata": {},
   "source": [
    "It appears that Rain and SnowIce are binary (either 1 or zero)."
   ]
  },
  {
   "cell_type": "code",
   "execution_count": 51,
   "id": "da189213",
   "metadata": {},
   "outputs": [
    {
     "data": {
      "text/plain": [
       "array([0, 1], dtype=int64)"
      ]
     },
     "execution_count": 51,
     "metadata": {},
     "output_type": "execute_result"
    }
   ],
   "source": [
    "np.unique(w['Rain'])"
   ]
  },
  {
   "cell_type": "code",
   "execution_count": 52,
   "id": "2ca29e4b",
   "metadata": {},
   "outputs": [
    {
     "data": {
      "text/plain": [
       "array([0, 1], dtype=int64)"
      ]
     },
     "execution_count": 52,
     "metadata": {},
     "output_type": "execute_result"
    }
   ],
   "source": [
    "np.unique(w['SnowIce'])"
   ]
  },
  {
   "cell_type": "markdown",
   "id": "7db1ab4b",
   "metadata": {},
   "source": [
    "Look at limits on temperature. These numbers must be in Fahrenheit."
   ]
  },
  {
   "cell_type": "code",
   "execution_count": 78,
   "id": "0bdb9755",
   "metadata": {},
   "outputs": [
    {
     "name": "stdout",
     "output_type": "stream",
     "text": [
      "-36.9\n",
      "87.8\n"
     ]
    }
   ],
   "source": [
    "print(np.min(w.MinTemp))\n",
    "print(np.max(w.MinTemp))"
   ]
  },
  {
   "cell_type": "code",
   "execution_count": 83,
   "id": "2b366b66",
   "metadata": {},
   "outputs": [
    {
     "data": {
      "text/plain": [
       "33.1"
      ]
     },
     "execution_count": 83,
     "metadata": {},
     "output_type": "execute_result"
    }
   ],
   "source": [
    "np.max(w['SnowDepth'])"
   ]
  },
  {
   "cell_type": "code",
   "execution_count": 84,
   "id": "dcd1a7e5",
   "metadata": {},
   "outputs": [
    {
     "data": {
      "text/plain": [
       "0.4"
      ]
     },
     "execution_count": 84,
     "metadata": {},
     "output_type": "execute_result"
    }
   ],
   "source": [
    "np.min(w['SnowDepth'])"
   ]
  },
  {
   "cell_type": "markdown",
   "id": "0ab4c5d7",
   "metadata": {},
   "source": [
    "Make smaller dataframe (for testing purposes)."
   ]
  },
  {
   "cell_type": "code",
   "execution_count": 80,
   "id": "519712d6",
   "metadata": {},
   "outputs": [],
   "source": [
    "#w.loc[0:99].to_csv('weather_abridged.csv', index=False)"
   ]
  },
  {
   "cell_type": "code",
   "execution_count": 81,
   "id": "98e49a99",
   "metadata": {},
   "outputs": [],
   "source": [
    "#wab = pd.read_csv('weather_abridged.csv')\n",
    "##wab = pd.read_csv('weather_abridged.csv', dtype = {'StationName':'string'}) # can specify dtype for individual columns"
   ]
  },
  {
   "cell_type": "markdown",
   "id": "de16654b",
   "metadata": {},
   "source": [
    "Convert date information into one datetime64 column (which I can use for convenient comparison)."
   ]
  },
  {
   "cell_type": "code",
   "execution_count": 15,
   "id": "0038ca8b",
   "metadata": {},
   "outputs": [],
   "source": [
    "w.loc[:, 'Date'] = pd.to_datetime(w.loc[:, ['Year', 'Month', 'Day']])"
   ]
  },
  {
   "cell_type": "markdown",
   "id": "a893e802",
   "metadata": {},
   "source": [
    "Create dataframe with date restricted to between 2016 and 2018 (to compare with 311 calls data)."
   ]
  },
  {
   "cell_type": "code",
   "execution_count": 16,
   "id": "a5de2b2c",
   "metadata": {},
   "outputs": [],
   "source": [
    "wd = w.loc[(w['Date']>=np.datetime64('2016')) & (w['Date']<np.datetime64('2019'))]"
   ]
  },
  {
   "cell_type": "code",
   "execution_count": 17,
   "id": "05e5c5ec",
   "metadata": {},
   "outputs": [
    {
     "name": "stdout",
     "output_type": "stream",
     "text": [
      "Min Date:  2016-01-01 00:00:00\n",
      "Max Date:  2018-11-12 00:00:00\n"
     ]
    }
   ],
   "source": [
    "print('Min Date: ', np.min(wd.Date))\n",
    "print('Max Date: ', np.max(wd.Date))"
   ]
  },
  {
   "cell_type": "code",
   "execution_count": 18,
   "id": "54e15867",
   "metadata": {},
   "outputs": [
    {
     "data": {
      "text/plain": [
       "51329"
      ]
     },
     "execution_count": 18,
     "metadata": {},
     "output_type": "execute_result"
    }
   ],
   "source": [
    "len(wd)"
   ]
  },
  {
   "cell_type": "markdown",
   "id": "279a7907",
   "metadata": {},
   "source": [
    "It looks like our weather data only goes through November 12 of 2018."
   ]
  },
  {
   "cell_type": "markdown",
   "id": "3aac0e7d",
   "metadata": {},
   "source": [
    "Look at limits on latitude and longitude. These fit with the station names, which are from all over the state of New York. I will likely want to limit to just stations in NYC."
   ]
  },
  {
   "cell_type": "code",
   "execution_count": 19,
   "id": "126e76fd",
   "metadata": {},
   "outputs": [
    {
     "name": "stdout",
     "output_type": "stream",
     "text": [
      "Min Latitude:  40.639\n",
      "Max Latitude:  44.936\n"
     ]
    }
   ],
   "source": [
    "print('Min Latitude: ', np.min(wd.Latitude))\n",
    "print('Max Latitude: ', np.max(wd.Latitude))"
   ]
  },
  {
   "cell_type": "markdown",
   "id": "40be429b",
   "metadata": {},
   "source": [
    "From checking the 311 data, I know the minimum and maximum latitude and longitude values for calls to be:"
   ]
  },
  {
   "cell_type": "code",
   "execution_count": 20,
   "id": "1f09a0cb",
   "metadata": {},
   "outputs": [],
   "source": [
    "min_311_lat = 40.49804421521046\n",
    "max_311_lat = 40.91294056699566\n",
    "min_311_long = -74.25521082506387\n",
    "max_311_long = -73.70038354802529"
   ]
  },
  {
   "cell_type": "markdown",
   "id": "f07ddb50",
   "metadata": {},
   "source": [
    "Since I am trying to relate weather and 311 calls, I want to restrict the weather data I am looking at to this same region."
   ]
  },
  {
   "cell_type": "code",
   "execution_count": 23,
   "id": "b12387df",
   "metadata": {},
   "outputs": [],
   "source": [
    "wdp = wd.loc[(wd['Latitude']>min_311_lat) & ((wd['Latitude']<max_311_lat)) &\n",
    "           ((wd['Longitude']<max_311_long)) & ((wd['Longitude']<max_311_long))]\n",
    "# Note: I could do a slightly more precise version by selecting stations, but should get largely the same results."
   ]
  },
  {
   "cell_type": "code",
   "execution_count": 24,
   "id": "410eb706",
   "metadata": {},
   "outputs": [
    {
     "data": {
      "text/plain": [
       "6417"
      ]
     },
     "execution_count": 24,
     "metadata": {},
     "output_type": "execute_result"
    }
   ],
   "source": [
    "len(wdp)"
   ]
  },
  {
   "cell_type": "markdown",
   "id": "12c35579",
   "metadata": {},
   "source": [
    "Check the stations that remain in the dataframe with restricted latitude and longitude. These make sense for NYC."
   ]
  },
  {
   "cell_type": "code",
   "execution_count": 25,
   "id": "262faa8b",
   "metadata": {},
   "outputs": [
    {
     "data": {
      "text/plain": [
       "array(['BERGEN POINT', 'CENTRAL PARK',\n",
       "       'JOHN F KENNEDY INTERNATIONAL AIRPORT', 'KINGS POINT',\n",
       "       'LA GUARDIA AIRPORT', 'PORT AUTH DOWNTN MANHATTAN WALL ST HEL',\n",
       "       'THE BATTERY'], dtype=object)"
      ]
     },
     "execution_count": 25,
     "metadata": {},
     "output_type": "execute_result"
    }
   ],
   "source": [
    "np.unique(wdp.StationName)"
   ]
  },
  {
   "cell_type": "markdown",
   "id": "e5539800",
   "metadata": {},
   "source": [
    "I don't expect too much variation in weather across NYC. For my inital modelling purposes, I will look at averages across all NYC weather stations. I could later look to see if 311 calls vary with weather on a more granualr level (by checking weather at closest weather station) but daily averages seem reasonable for now."
   ]
  },
  {
   "cell_type": "markdown",
   "id": "f5060588",
   "metadata": {},
   "source": [
    "First, explore what data looks like for a single date. The numbers tend to be very similar, which fits with my instinct to average them together and just use a single value."
   ]
  },
  {
   "cell_type": "code",
   "execution_count": 87,
   "id": "380926df",
   "metadata": {},
   "outputs": [
    {
     "data": {
      "text/html": [
       "<div>\n",
       "<style scoped>\n",
       "    .dataframe tbody tr th:only-of-type {\n",
       "        vertical-align: middle;\n",
       "    }\n",
       "\n",
       "    .dataframe tbody tr th {\n",
       "        vertical-align: top;\n",
       "    }\n",
       "\n",
       "    .dataframe thead th {\n",
       "        text-align: right;\n",
       "    }\n",
       "</style>\n",
       "<table border=\"1\" class=\"dataframe\">\n",
       "  <thead>\n",
       "    <tr style=\"text-align: right;\">\n",
       "      <th></th>\n",
       "      <th>USAF</th>\n",
       "      <th>WBAN</th>\n",
       "      <th>StationName</th>\n",
       "      <th>State</th>\n",
       "      <th>Latitude</th>\n",
       "      <th>Longitude</th>\n",
       "      <th>MeanTemp</th>\n",
       "      <th>MinTemp</th>\n",
       "      <th>MaxTemp</th>\n",
       "      <th>DewPoint</th>\n",
       "      <th>...</th>\n",
       "      <th>WindSpeed</th>\n",
       "      <th>MaxSustainedWind</th>\n",
       "      <th>Gust</th>\n",
       "      <th>Rain</th>\n",
       "      <th>SnowDepth</th>\n",
       "      <th>SnowIce</th>\n",
       "      <th>Year</th>\n",
       "      <th>Month</th>\n",
       "      <th>Day</th>\n",
       "      <th>Date</th>\n",
       "    </tr>\n",
       "  </thead>\n",
       "  <tbody>\n",
       "    <tr>\n",
       "      <th>20750</th>\n",
       "      <td>725053</td>\n",
       "      <td>94728</td>\n",
       "      <td>CENTRAL PARK</td>\n",
       "      <td>NY</td>\n",
       "      <td>40.779</td>\n",
       "      <td>-73.969</td>\n",
       "      <td>53.4</td>\n",
       "      <td>46.9</td>\n",
       "      <td>63.0</td>\n",
       "      <td>31.4</td>\n",
       "      <td>...</td>\n",
       "      <td>7.6</td>\n",
       "      <td>15.0</td>\n",
       "      <td>29.9</td>\n",
       "      <td>1</td>\n",
       "      <td>NaN</td>\n",
       "      <td>0</td>\n",
       "      <td>2016</td>\n",
       "      <td>11</td>\n",
       "      <td>11</td>\n",
       "      <td>2016-11-11</td>\n",
       "    </tr>\n",
       "    <tr>\n",
       "      <th>67850</th>\n",
       "      <td>744860</td>\n",
       "      <td>94789</td>\n",
       "      <td>JOHN F KENNEDY INTERNATIONAL AIRPORT</td>\n",
       "      <td>NY</td>\n",
       "      <td>40.639</td>\n",
       "      <td>-73.762</td>\n",
       "      <td>54.7</td>\n",
       "      <td>48.0</td>\n",
       "      <td>66.0</td>\n",
       "      <td>32.5</td>\n",
       "      <td>...</td>\n",
       "      <td>16.8</td>\n",
       "      <td>27.0</td>\n",
       "      <td>35.0</td>\n",
       "      <td>0</td>\n",
       "      <td>NaN</td>\n",
       "      <td>0</td>\n",
       "      <td>2016</td>\n",
       "      <td>11</td>\n",
       "      <td>11</td>\n",
       "      <td>2016-11-11</td>\n",
       "    </tr>\n",
       "    <tr>\n",
       "      <th>74094</th>\n",
       "      <td>725030</td>\n",
       "      <td>14732</td>\n",
       "      <td>LA GUARDIA AIRPORT</td>\n",
       "      <td>NY</td>\n",
       "      <td>40.779</td>\n",
       "      <td>-73.880</td>\n",
       "      <td>55.7</td>\n",
       "      <td>48.9</td>\n",
       "      <td>63.0</td>\n",
       "      <td>33.4</td>\n",
       "      <td>...</td>\n",
       "      <td>14.7</td>\n",
       "      <td>28.0</td>\n",
       "      <td>38.1</td>\n",
       "      <td>0</td>\n",
       "      <td>NaN</td>\n",
       "      <td>0</td>\n",
       "      <td>2016</td>\n",
       "      <td>11</td>\n",
       "      <td>11</td>\n",
       "      <td>2016-11-11</td>\n",
       "    </tr>\n",
       "    <tr>\n",
       "      <th>123307</th>\n",
       "      <td>720553</td>\n",
       "      <td>99999</td>\n",
       "      <td>PORT AUTH DOWNTN MANHATTAN WALL ST HEL</td>\n",
       "      <td>NY</td>\n",
       "      <td>40.701</td>\n",
       "      <td>-74.009</td>\n",
       "      <td>59.8</td>\n",
       "      <td>48.2</td>\n",
       "      <td>64.9</td>\n",
       "      <td>32.3</td>\n",
       "      <td>...</td>\n",
       "      <td>3.7</td>\n",
       "      <td>7.0</td>\n",
       "      <td>NaN</td>\n",
       "      <td>0</td>\n",
       "      <td>NaN</td>\n",
       "      <td>0</td>\n",
       "      <td>2016</td>\n",
       "      <td>11</td>\n",
       "      <td>11</td>\n",
       "      <td>2016-11-11</td>\n",
       "    </tr>\n",
       "  </tbody>\n",
       "</table>\n",
       "<p>4 rows × 21 columns</p>\n",
       "</div>"
      ],
      "text/plain": [
       "          USAF   WBAN                             StationName State  Latitude  \\\n",
       "20750   725053  94728                            CENTRAL PARK    NY    40.779   \n",
       "67850   744860  94789    JOHN F KENNEDY INTERNATIONAL AIRPORT    NY    40.639   \n",
       "74094   725030  14732                      LA GUARDIA AIRPORT    NY    40.779   \n",
       "123307  720553  99999  PORT AUTH DOWNTN MANHATTAN WALL ST HEL    NY    40.701   \n",
       "\n",
       "        Longitude  MeanTemp  MinTemp  MaxTemp  DewPoint  ...  WindSpeed  \\\n",
       "20750     -73.969      53.4     46.9     63.0      31.4  ...        7.6   \n",
       "67850     -73.762      54.7     48.0     66.0      32.5  ...       16.8   \n",
       "74094     -73.880      55.7     48.9     63.0      33.4  ...       14.7   \n",
       "123307    -74.009      59.8     48.2     64.9      32.3  ...        3.7   \n",
       "\n",
       "        MaxSustainedWind  Gust  Rain  SnowDepth  SnowIce  Year  Month  Day  \\\n",
       "20750               15.0  29.9     1        NaN        0  2016     11   11   \n",
       "67850               27.0  35.0     0        NaN        0  2016     11   11   \n",
       "74094               28.0  38.1     0        NaN        0  2016     11   11   \n",
       "123307               7.0   NaN     0        NaN        0  2016     11   11   \n",
       "\n",
       "             Date  \n",
       "20750  2016-11-11  \n",
       "67850  2016-11-11  \n",
       "74094  2016-11-11  \n",
       "123307 2016-11-11  \n",
       "\n",
       "[4 rows x 21 columns]"
      ]
     },
     "execution_count": 87,
     "metadata": {},
     "output_type": "execute_result"
    }
   ],
   "source": [
    "wdp.loc[wdp['Date'] == np.datetime64('2016-11-11')]"
   ]
  },
  {
   "cell_type": "code",
   "execution_count": 88,
   "id": "c5df892c",
   "metadata": {},
   "outputs": [
    {
     "data": {
      "text/plain": [
       "20750     53.4\n",
       "67850     54.7\n",
       "74094     55.7\n",
       "123307    59.8\n",
       "Name: MeanTemp, dtype: float64"
      ]
     },
     "execution_count": 88,
     "metadata": {},
     "output_type": "execute_result"
    }
   ],
   "source": [
    "wdp.loc[wdp['Date'] == np.datetime64('2016-11-11'), 'MeanTemp']"
   ]
  },
  {
   "cell_type": "code",
   "execution_count": 89,
   "id": "1475e9d6",
   "metadata": {},
   "outputs": [
    {
     "data": {
      "text/plain": [
       "MeanTemp            55.900000\n",
       "MinTemp             48.000000\n",
       "MaxTemp             64.225000\n",
       "DewPoint            32.400000\n",
       "Percipitation        0.072500\n",
       "WindSpeed           10.700000\n",
       "MaxSustainedWind    19.250000\n",
       "Gust                34.333333\n",
       "SnowDepth                 NaN\n",
       "dtype: float64"
      ]
     },
     "execution_count": 89,
     "metadata": {},
     "output_type": "execute_result"
    }
   ],
   "source": [
    "wdp.loc[wdp['Date'] == np.datetime64('2016-11-11'), ['MeanTemp', 'MinTemp', 'MaxTemp', 'DewPoint', 'Percipitation',\n",
    "                                                    'WindSpeed', 'MaxSustainedWind', 'Gust', 'SnowDepth']].mean()"
   ]
  },
  {
   "cell_type": "markdown",
   "id": "019a4248",
   "metadata": {},
   "source": [
    "Note: pandas is ignoring NaN values when calculating the mean (as in the Gust average here)."
   ]
  },
  {
   "cell_type": "markdown",
   "id": "54ac3860",
   "metadata": {},
   "source": [
    "Make an array for all dates in data"
   ]
  },
  {
   "cell_type": "code",
   "execution_count": 44,
   "id": "6aedd1fd",
   "metadata": {},
   "outputs": [],
   "source": [
    "dates = np.arange(np.datetime64('2016-01-01'), np.datetime64('2018-11-12'), np.timedelta64(1, 'D'))"
   ]
  },
  {
   "cell_type": "markdown",
   "id": "a85ed08a",
   "metadata": {},
   "source": [
    "Make dataframe to hold average value of weather data for each date. Initialize all variables except date to NaN."
   ]
  },
  {
   "cell_type": "code",
   "execution_count": 85,
   "id": "d282d705",
   "metadata": {},
   "outputs": [],
   "source": [
    "d = {'Date': dates, \n",
    "     'MeanTemp': np.full(len(dates), np.nan, dtype='float64'), 'MinTemp': np.full(len(dates), np.nan, dtype='float64'), \n",
    "     'MaxTemp': np.full(len(dates), np.nan, dtype='float64'), 'DewPoint': np.full(len(dates), np.nan, dtype='float64'), \n",
    "     'Percipitation': np.full(len(dates), np.nan, dtype='float64'), 'WindSpeed': np.full(len(dates), np.nan, dtype='float64'), \n",
    "     'MaxSustainedWind': np.full(len(dates), np.nan, dtype='float64'), 'Gust': np.full(len(dates), np.nan, dtype='float64'),\n",
    "     'SnowDepth': np.full(len(dates), np.nan, dtype='float64')}\n",
    "\n",
    "df = pd.DataFrame(data=d)"
   ]
  },
  {
   "cell_type": "markdown",
   "id": "c06d0e30",
   "metadata": {},
   "source": [
    "Loop through dates and find average weather across NYC weather stations for each date."
   ]
  },
  {
   "cell_type": "code",
   "execution_count": 86,
   "id": "c321f628",
   "metadata": {},
   "outputs": [],
   "source": [
    "for i in range(len(df)):\n",
    "    temp = wdp.loc[wdp['Date'] == df.loc[i,'Date'], ['MeanTemp', 'MinTemp', 'MaxTemp', 'DewPoint', 'Percipitation',\n",
    "                                                    'WindSpeed', 'MaxSustainedWind', 'Gust', 'SnowDepth']].mean()\n",
    "    df.loc[i, ['MeanTemp', 'MinTemp', 'MaxTemp', 'DewPoint', 'Percipitation',\n",
    "               'WindSpeed', 'MaxSustainedWind', 'Gust', 'SnowDepth']] = temp\n",
    "    "
   ]
  },
  {
   "cell_type": "code",
   "execution_count": 74,
   "id": "b6d53dbf",
   "metadata": {},
   "outputs": [
    {
     "data": {
      "text/html": [
       "<div>\n",
       "<style scoped>\n",
       "    .dataframe tbody tr th:only-of-type {\n",
       "        vertical-align: middle;\n",
       "    }\n",
       "\n",
       "    .dataframe tbody tr th {\n",
       "        vertical-align: top;\n",
       "    }\n",
       "\n",
       "    .dataframe thead th {\n",
       "        text-align: right;\n",
       "    }\n",
       "</style>\n",
       "<table border=\"1\" class=\"dataframe\">\n",
       "  <thead>\n",
       "    <tr style=\"text-align: right;\">\n",
       "      <th></th>\n",
       "      <th>Date</th>\n",
       "      <th>MeanTemp</th>\n",
       "      <th>MinTemp</th>\n",
       "      <th>MaxTemp</th>\n",
       "      <th>DewPoint</th>\n",
       "      <th>Percipitation</th>\n",
       "      <th>WindSpeed</th>\n",
       "      <th>MaxSustainedWind</th>\n",
       "      <th>Gust</th>\n",
       "      <th>SnowDepth</th>\n",
       "    </tr>\n",
       "  </thead>\n",
       "  <tbody>\n",
       "    <tr>\n",
       "      <th>0</th>\n",
       "      <td>2016-01-01</td>\n",
       "      <td>41.280</td>\n",
       "      <td>38.380</td>\n",
       "      <td>48.080</td>\n",
       "      <td>25.800000</td>\n",
       "      <td>0.0240</td>\n",
       "      <td>6.000000</td>\n",
       "      <td>15.333333</td>\n",
       "      <td>24.666667</td>\n",
       "      <td>NaN</td>\n",
       "    </tr>\n",
       "    <tr>\n",
       "      <th>1</th>\n",
       "      <td>2016-01-02</td>\n",
       "      <td>36.820</td>\n",
       "      <td>33.420</td>\n",
       "      <td>41.920</td>\n",
       "      <td>18.466667</td>\n",
       "      <td>0.0000</td>\n",
       "      <td>6.140000</td>\n",
       "      <td>15.733333</td>\n",
       "      <td>22.433333</td>\n",
       "      <td>NaN</td>\n",
       "    </tr>\n",
       "    <tr>\n",
       "      <th>2</th>\n",
       "      <td>2016-01-03</td>\n",
       "      <td>38.800</td>\n",
       "      <td>33.180</td>\n",
       "      <td>45.920</td>\n",
       "      <td>21.333333</td>\n",
       "      <td>0.0000</td>\n",
       "      <td>5.680000</td>\n",
       "      <td>14.333333</td>\n",
       "      <td>23.066667</td>\n",
       "      <td>NaN</td>\n",
       "    </tr>\n",
       "    <tr>\n",
       "      <th>3</th>\n",
       "      <td>2016-01-04</td>\n",
       "      <td>32.540</td>\n",
       "      <td>21.620</td>\n",
       "      <td>42.640</td>\n",
       "      <td>15.066667</td>\n",
       "      <td>0.0000</td>\n",
       "      <td>7.060000</td>\n",
       "      <td>17.700000</td>\n",
       "      <td>27.366667</td>\n",
       "      <td>NaN</td>\n",
       "    </tr>\n",
       "    <tr>\n",
       "      <th>4</th>\n",
       "      <td>2016-01-05</td>\n",
       "      <td>18.900</td>\n",
       "      <td>11.820</td>\n",
       "      <td>34.320</td>\n",
       "      <td>-0.500000</td>\n",
       "      <td>0.0000</td>\n",
       "      <td>7.080000</td>\n",
       "      <td>20.400000</td>\n",
       "      <td>30.000000</td>\n",
       "      <td>NaN</td>\n",
       "    </tr>\n",
       "    <tr>\n",
       "      <th>...</th>\n",
       "      <td>...</td>\n",
       "      <td>...</td>\n",
       "      <td>...</td>\n",
       "      <td>...</td>\n",
       "      <td>...</td>\n",
       "      <td>...</td>\n",
       "      <td>...</td>\n",
       "      <td>...</td>\n",
       "      <td>...</td>\n",
       "      <td>...</td>\n",
       "    </tr>\n",
       "    <tr>\n",
       "      <th>1041</th>\n",
       "      <td>2018-11-07</td>\n",
       "      <td>57.700</td>\n",
       "      <td>50.225</td>\n",
       "      <td>63.500</td>\n",
       "      <td>45.800000</td>\n",
       "      <td>0.6875</td>\n",
       "      <td>10.833333</td>\n",
       "      <td>15.600000</td>\n",
       "      <td>29.733333</td>\n",
       "      <td>NaN</td>\n",
       "    </tr>\n",
       "    <tr>\n",
       "      <th>1042</th>\n",
       "      <td>2018-11-08</td>\n",
       "      <td>53.725</td>\n",
       "      <td>46.750</td>\n",
       "      <td>63.500</td>\n",
       "      <td>34.525000</td>\n",
       "      <td>0.0125</td>\n",
       "      <td>8.566667</td>\n",
       "      <td>14.666667</td>\n",
       "      <td>19.300000</td>\n",
       "      <td>NaN</td>\n",
       "    </tr>\n",
       "    <tr>\n",
       "      <th>1043</th>\n",
       "      <td>2018-11-09</td>\n",
       "      <td>47.775</td>\n",
       "      <td>42.250</td>\n",
       "      <td>56.325</td>\n",
       "      <td>36.125000</td>\n",
       "      <td>0.0000</td>\n",
       "      <td>9.800000</td>\n",
       "      <td>15.700000</td>\n",
       "      <td>20.000000</td>\n",
       "      <td>NaN</td>\n",
       "    </tr>\n",
       "    <tr>\n",
       "      <th>1044</th>\n",
       "      <td>2018-11-10</td>\n",
       "      <td>47.125</td>\n",
       "      <td>39.175</td>\n",
       "      <td>52.775</td>\n",
       "      <td>35.700000</td>\n",
       "      <td>0.7475</td>\n",
       "      <td>12.433333</td>\n",
       "      <td>22.733333</td>\n",
       "      <td>31.333333</td>\n",
       "      <td>NaN</td>\n",
       "    </tr>\n",
       "    <tr>\n",
       "      <th>1045</th>\n",
       "      <td>2018-11-11</td>\n",
       "      <td>39.950</td>\n",
       "      <td>34.775</td>\n",
       "      <td>51.050</td>\n",
       "      <td>21.900000</td>\n",
       "      <td>0.0150</td>\n",
       "      <td>9.500000</td>\n",
       "      <td>14.000000</td>\n",
       "      <td>27.000000</td>\n",
       "      <td>NaN</td>\n",
       "    </tr>\n",
       "  </tbody>\n",
       "</table>\n",
       "<p>1046 rows × 10 columns</p>\n",
       "</div>"
      ],
      "text/plain": [
       "           Date  MeanTemp  MinTemp  MaxTemp   DewPoint  Percipitation  \\\n",
       "0    2016-01-01    41.280   38.380   48.080  25.800000         0.0240   \n",
       "1    2016-01-02    36.820   33.420   41.920  18.466667         0.0000   \n",
       "2    2016-01-03    38.800   33.180   45.920  21.333333         0.0000   \n",
       "3    2016-01-04    32.540   21.620   42.640  15.066667         0.0000   \n",
       "4    2016-01-05    18.900   11.820   34.320  -0.500000         0.0000   \n",
       "...         ...       ...      ...      ...        ...            ...   \n",
       "1041 2018-11-07    57.700   50.225   63.500  45.800000         0.6875   \n",
       "1042 2018-11-08    53.725   46.750   63.500  34.525000         0.0125   \n",
       "1043 2018-11-09    47.775   42.250   56.325  36.125000         0.0000   \n",
       "1044 2018-11-10    47.125   39.175   52.775  35.700000         0.7475   \n",
       "1045 2018-11-11    39.950   34.775   51.050  21.900000         0.0150   \n",
       "\n",
       "      WindSpeed  MaxSustainedWind       Gust  SnowDepth  \n",
       "0      6.000000         15.333333  24.666667        NaN  \n",
       "1      6.140000         15.733333  22.433333        NaN  \n",
       "2      5.680000         14.333333  23.066667        NaN  \n",
       "3      7.060000         17.700000  27.366667        NaN  \n",
       "4      7.080000         20.400000  30.000000        NaN  \n",
       "...         ...               ...        ...        ...  \n",
       "1041  10.833333         15.600000  29.733333        NaN  \n",
       "1042   8.566667         14.666667  19.300000        NaN  \n",
       "1043   9.800000         15.700000  20.000000        NaN  \n",
       "1044  12.433333         22.733333  31.333333        NaN  \n",
       "1045   9.500000         14.000000  27.000000        NaN  \n",
       "\n",
       "[1046 rows x 10 columns]"
      ]
     },
     "execution_count": 74,
     "metadata": {},
     "output_type": "execute_result"
    }
   ],
   "source": [
    "df"
   ]
  },
  {
   "cell_type": "markdown",
   "id": "282095d3",
   "metadata": {},
   "source": [
    "SnowDepth appears to be usually NaN (for no snow), but does have a positive value sometimes."
   ]
  },
  {
   "cell_type": "code",
   "execution_count": 77,
   "id": "c6c5cd60",
   "metadata": {},
   "outputs": [
    {
     "data": {
      "text/plain": [
       "26.2"
      ]
     },
     "execution_count": 77,
     "metadata": {},
     "output_type": "execute_result"
    }
   ],
   "source": [
    "np.max(df['SnowDepth'])"
   ]
  },
  {
   "cell_type": "markdown",
   "id": "3b5d3be6",
   "metadata": {},
   "source": [
    "The weather dataframe I now have allows some easy plotting of how the weather varies with time."
   ]
  },
  {
   "cell_type": "code",
   "execution_count": 93,
   "id": "771a7f09",
   "metadata": {},
   "outputs": [],
   "source": [
    "import matplotlib.dates as mdates"
   ]
  },
  {
   "cell_type": "code",
   "execution_count": 104,
   "id": "a8d57342",
   "metadata": {},
   "outputs": [
    {
     "data": {
      "image/png": "[encoded data removed]",
      "text/plain": [
       "<Figure size 640x480 with 1 Axes>"
      ]
     },
     "metadata": {},
     "output_type": "display_data"
    }
   ],
   "source": [
    "fig, ax = plt.subplots()\n",
    "# common to all three:\n",
    "ax.plot('Date', 'MeanTemp', data=df)\n",
    "# Major ticks every half year, minor ticks every month,\n",
    "ax.xaxis.set_major_locator(mdates.MonthLocator(bymonth=(1, 7)))\n",
    "ax.xaxis.set_minor_locator(mdates.MonthLocator())\n",
    "ax.grid(True)\n",
    "ax.set_ylabel(r'MeanTemp [$^\\circ$F]')\n",
    "ax.set_title('Mean temperature over time', fontsize='medium')\n",
    "\n",
    "plt.show()"
   ]
  },
  {
   "cell_type": "code",
   "execution_count": null,
   "id": "ea60f968",
   "metadata": {},
   "outputs": [],
   "source": []
  }
 ],
 "metadata": {
  "kernelspec": {
   "display_name": "Python 3 (ipykernel)",
   "language": "python",
   "name": "python3"
  },
  "language_info": {
   "codemirror_mode": {
    "name": "ipython",
    "version": 3
   },
   "file_extension": ".py",
   "mimetype": "text/x-python",
   "name": "python",
   "nbconvert_exporter": "python",
   "pygments_lexer": "ipython3",
   "version": "3.10.11"
  }
 },
 "nbformat": 4,
 "nbformat_minor": 5
}
