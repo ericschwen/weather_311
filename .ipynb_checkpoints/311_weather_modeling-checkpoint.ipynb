{
 "cells": [
  {
   "cell_type": "markdown",
   "id": "61b156b7",
   "metadata": {},
   "source": [
    "# Data Science case study: 311 service request modeling\n",
    "\n",
    "Project using two data sets: 311 service requests and weather data from NY weather stations"
   ]
  },
  {
   "cell_type": "markdown",
   "id": "a545f88e",
   "metadata": {},
   "source": [
    "### Final goal of project: predict the daily 311 inbound calls for the next 7 days \n",
    "\n",
    "•\tUse your insights from previous sections to build a predictive model of your choice – explain the assumptions of your model and why you picked it.\n",
    "\n",
    "•\tWhat features are you using in your model and, how does your data exploration process help you decide which features you are incorporating in your model?\n",
    "\n",
    "•\tEvaluate the impact of weather on the call volume, find patterns and define causal impact if there’s any. \n",
    "\n",
    "•\tBuild a reasonable model framework, explain your model results, and justify the relationships identified in the model. Not necessary to dig into complex models.\n"
   ]
  },
  {
   "cell_type": "markdown",
   "id": "24696781",
   "metadata": {},
   "source": [
    "### Previous work in 311_exploration and weather_exploration files\n",
    "\n",
    "Grouped 311 calls by day to get a call count for each day.\n",
    "\n",
    "Restricted weather data to NYC region and averaged data over the reporting weather stations for each day.\n",
    "\n",
    "I can now import and combine these dataframes to model the 311 calls."
   ]
  },
  {
   "cell_type": "code",
   "execution_count": 124,
   "id": "9b5f5000",
   "metadata": {},
   "outputs": [],
   "source": [
    "import numpy as np\n",
    "import pandas as pd\n",
    "import matplotlib as mpl\n",
    "import matplotlib.pyplot as plt\n",
    "import matplotlib.dates as mdates\n",
    "\n",
    "# for building linear regression models and preparing data\n",
    "from sklearn.linear_model import LinearRegression\n",
    "from sklearn.preprocessing import StandardScaler, PolynomialFeatures\n",
    "from sklearn.model_selection import train_test_split\n",
    "from sklearn.metrics import mean_squared_error"
   ]
  },
  {
   "cell_type": "code",
   "execution_count": 34,
   "id": "c7f2efed",
   "metadata": {},
   "outputs": [],
   "source": [
    "weather_path = 'weather_daily_avg.csv'\n",
    "dfw = pd.read_csv(weather_path, parse_dates=['Date'])"
   ]
  },
  {
   "cell_type": "code",
   "execution_count": 38,
   "id": "3be283f7",
   "metadata": {},
   "outputs": [],
   "source": [
    "daily_311_path = '311_daily_counts.csv'\n",
    "d311 = pd.read_csv(daily_311_path, parse_dates=['Date'])"
   ]
  },
  {
   "cell_type": "code",
   "execution_count": 39,
   "id": "513a0806",
   "metadata": {},
   "outputs": [
    {
     "data": {
      "text/html": [
       "<div>\n",
       "<style scoped>\n",
       "    .dataframe tbody tr th:only-of-type {\n",
       "        vertical-align: middle;\n",
       "    }\n",
       "\n",
       "    .dataframe tbody tr th {\n",
       "        vertical-align: top;\n",
       "    }\n",
       "\n",
       "    .dataframe thead th {\n",
       "        text-align: right;\n",
       "    }\n",
       "</style>\n",
       "<table border=\"1\" class=\"dataframe\">\n",
       "  <thead>\n",
       "    <tr style=\"text-align: right;\">\n",
       "      <th></th>\n",
       "      <th>Date</th>\n",
       "      <th>MeanTemp</th>\n",
       "      <th>MinTemp</th>\n",
       "      <th>MaxTemp</th>\n",
       "      <th>DewPoint</th>\n",
       "      <th>Percipitation</th>\n",
       "      <th>WindSpeed</th>\n",
       "      <th>MaxSustainedWind</th>\n",
       "      <th>Gust</th>\n",
       "      <th>SnowDepth</th>\n",
       "    </tr>\n",
       "  </thead>\n",
       "  <tbody>\n",
       "    <tr>\n",
       "      <th>0</th>\n",
       "      <td>2016-01-01</td>\n",
       "      <td>41.280</td>\n",
       "      <td>38.380</td>\n",
       "      <td>48.080</td>\n",
       "      <td>25.800000</td>\n",
       "      <td>0.0240</td>\n",
       "      <td>6.000000</td>\n",
       "      <td>15.333333</td>\n",
       "      <td>24.666667</td>\n",
       "      <td>NaN</td>\n",
       "    </tr>\n",
       "    <tr>\n",
       "      <th>1</th>\n",
       "      <td>2016-01-02</td>\n",
       "      <td>36.820</td>\n",
       "      <td>33.420</td>\n",
       "      <td>41.920</td>\n",
       "      <td>18.466667</td>\n",
       "      <td>0.0000</td>\n",
       "      <td>6.140000</td>\n",
       "      <td>15.733333</td>\n",
       "      <td>22.433333</td>\n",
       "      <td>NaN</td>\n",
       "    </tr>\n",
       "    <tr>\n",
       "      <th>2</th>\n",
       "      <td>2016-01-03</td>\n",
       "      <td>38.800</td>\n",
       "      <td>33.180</td>\n",
       "      <td>45.920</td>\n",
       "      <td>21.333333</td>\n",
       "      <td>0.0000</td>\n",
       "      <td>5.680000</td>\n",
       "      <td>14.333333</td>\n",
       "      <td>23.066667</td>\n",
       "      <td>NaN</td>\n",
       "    </tr>\n",
       "    <tr>\n",
       "      <th>3</th>\n",
       "      <td>2016-01-04</td>\n",
       "      <td>32.540</td>\n",
       "      <td>21.620</td>\n",
       "      <td>42.640</td>\n",
       "      <td>15.066667</td>\n",
       "      <td>0.0000</td>\n",
       "      <td>7.060000</td>\n",
       "      <td>17.700000</td>\n",
       "      <td>27.366667</td>\n",
       "      <td>NaN</td>\n",
       "    </tr>\n",
       "    <tr>\n",
       "      <th>4</th>\n",
       "      <td>2016-01-05</td>\n",
       "      <td>18.900</td>\n",
       "      <td>11.820</td>\n",
       "      <td>34.320</td>\n",
       "      <td>-0.500000</td>\n",
       "      <td>0.0000</td>\n",
       "      <td>7.080000</td>\n",
       "      <td>20.400000</td>\n",
       "      <td>30.000000</td>\n",
       "      <td>NaN</td>\n",
       "    </tr>\n",
       "    <tr>\n",
       "      <th>...</th>\n",
       "      <td>...</td>\n",
       "      <td>...</td>\n",
       "      <td>...</td>\n",
       "      <td>...</td>\n",
       "      <td>...</td>\n",
       "      <td>...</td>\n",
       "      <td>...</td>\n",
       "      <td>...</td>\n",
       "      <td>...</td>\n",
       "      <td>...</td>\n",
       "    </tr>\n",
       "    <tr>\n",
       "      <th>1041</th>\n",
       "      <td>2018-11-07</td>\n",
       "      <td>57.700</td>\n",
       "      <td>50.225</td>\n",
       "      <td>63.500</td>\n",
       "      <td>45.800000</td>\n",
       "      <td>0.6875</td>\n",
       "      <td>10.833333</td>\n",
       "      <td>15.600000</td>\n",
       "      <td>29.733333</td>\n",
       "      <td>NaN</td>\n",
       "    </tr>\n",
       "    <tr>\n",
       "      <th>1042</th>\n",
       "      <td>2018-11-08</td>\n",
       "      <td>53.725</td>\n",
       "      <td>46.750</td>\n",
       "      <td>63.500</td>\n",
       "      <td>34.525000</td>\n",
       "      <td>0.0125</td>\n",
       "      <td>8.566667</td>\n",
       "      <td>14.666667</td>\n",
       "      <td>19.300000</td>\n",
       "      <td>NaN</td>\n",
       "    </tr>\n",
       "    <tr>\n",
       "      <th>1043</th>\n",
       "      <td>2018-11-09</td>\n",
       "      <td>47.775</td>\n",
       "      <td>42.250</td>\n",
       "      <td>56.325</td>\n",
       "      <td>36.125000</td>\n",
       "      <td>0.0000</td>\n",
       "      <td>9.800000</td>\n",
       "      <td>15.700000</td>\n",
       "      <td>20.000000</td>\n",
       "      <td>NaN</td>\n",
       "    </tr>\n",
       "    <tr>\n",
       "      <th>1044</th>\n",
       "      <td>2018-11-10</td>\n",
       "      <td>47.125</td>\n",
       "      <td>39.175</td>\n",
       "      <td>52.775</td>\n",
       "      <td>35.700000</td>\n",
       "      <td>0.7475</td>\n",
       "      <td>12.433333</td>\n",
       "      <td>22.733333</td>\n",
       "      <td>31.333333</td>\n",
       "      <td>NaN</td>\n",
       "    </tr>\n",
       "    <tr>\n",
       "      <th>1045</th>\n",
       "      <td>2018-11-11</td>\n",
       "      <td>39.950</td>\n",
       "      <td>34.775</td>\n",
       "      <td>51.050</td>\n",
       "      <td>21.900000</td>\n",
       "      <td>0.0150</td>\n",
       "      <td>9.500000</td>\n",
       "      <td>14.000000</td>\n",
       "      <td>27.000000</td>\n",
       "      <td>NaN</td>\n",
       "    </tr>\n",
       "  </tbody>\n",
       "</table>\n",
       "<p>1046 rows × 10 columns</p>\n",
       "</div>"
      ],
      "text/plain": [
       "           Date  MeanTemp  MinTemp  MaxTemp   DewPoint  Percipitation  \\\n",
       "0    2016-01-01    41.280   38.380   48.080  25.800000         0.0240   \n",
       "1    2016-01-02    36.820   33.420   41.920  18.466667         0.0000   \n",
       "2    2016-01-03    38.800   33.180   45.920  21.333333         0.0000   \n",
       "3    2016-01-04    32.540   21.620   42.640  15.066667         0.0000   \n",
       "4    2016-01-05    18.900   11.820   34.320  -0.500000         0.0000   \n",
       "...         ...       ...      ...      ...        ...            ...   \n",
       "1041 2018-11-07    57.700   50.225   63.500  45.800000         0.6875   \n",
       "1042 2018-11-08    53.725   46.750   63.500  34.525000         0.0125   \n",
       "1043 2018-11-09    47.775   42.250   56.325  36.125000         0.0000   \n",
       "1044 2018-11-10    47.125   39.175   52.775  35.700000         0.7475   \n",
       "1045 2018-11-11    39.950   34.775   51.050  21.900000         0.0150   \n",
       "\n",
       "      WindSpeed  MaxSustainedWind       Gust  SnowDepth  \n",
       "0      6.000000         15.333333  24.666667        NaN  \n",
       "1      6.140000         15.733333  22.433333        NaN  \n",
       "2      5.680000         14.333333  23.066667        NaN  \n",
       "3      7.060000         17.700000  27.366667        NaN  \n",
       "4      7.080000         20.400000  30.000000        NaN  \n",
       "...         ...               ...        ...        ...  \n",
       "1041  10.833333         15.600000  29.733333        NaN  \n",
       "1042   8.566667         14.666667  19.300000        NaN  \n",
       "1043   9.800000         15.700000  20.000000        NaN  \n",
       "1044  12.433333         22.733333  31.333333        NaN  \n",
       "1045   9.500000         14.000000  27.000000        NaN  \n",
       "\n",
       "[1046 rows x 10 columns]"
      ]
     },
     "execution_count": 39,
     "metadata": {},
     "output_type": "execute_result"
    }
   ],
   "source": [
    "dfw"
   ]
  },
  {
   "cell_type": "code",
   "execution_count": 40,
   "id": "5fbf018d",
   "metadata": {},
   "outputs": [
    {
     "data": {
      "text/html": [
       "<div>\n",
       "<style scoped>\n",
       "    .dataframe tbody tr th:only-of-type {\n",
       "        vertical-align: middle;\n",
       "    }\n",
       "\n",
       "    .dataframe tbody tr th {\n",
       "        vertical-align: top;\n",
       "    }\n",
       "\n",
       "    .dataframe thead th {\n",
       "        text-align: right;\n",
       "    }\n",
       "</style>\n",
       "<table border=\"1\" class=\"dataframe\">\n",
       "  <thead>\n",
       "    <tr style=\"text-align: right;\">\n",
       "      <th></th>\n",
       "      <th>Date</th>\n",
       "      <th>call_count</th>\n",
       "    </tr>\n",
       "  </thead>\n",
       "  <tbody>\n",
       "    <tr>\n",
       "      <th>0</th>\n",
       "      <td>2016-01-01</td>\n",
       "      <td>4260.0</td>\n",
       "    </tr>\n",
       "    <tr>\n",
       "      <th>1</th>\n",
       "      <td>2016-01-02</td>\n",
       "      <td>4505.0</td>\n",
       "    </tr>\n",
       "    <tr>\n",
       "      <th>2</th>\n",
       "      <td>2016-01-03</td>\n",
       "      <td>4749.0</td>\n",
       "    </tr>\n",
       "    <tr>\n",
       "      <th>3</th>\n",
       "      <td>2016-01-04</td>\n",
       "      <td>8900.0</td>\n",
       "    </tr>\n",
       "    <tr>\n",
       "      <th>4</th>\n",
       "      <td>2016-01-05</td>\n",
       "      <td>11936.0</td>\n",
       "    </tr>\n",
       "    <tr>\n",
       "      <th>...</th>\n",
       "      <td>...</td>\n",
       "      <td>...</td>\n",
       "    </tr>\n",
       "    <tr>\n",
       "      <th>1091</th>\n",
       "      <td>2018-12-27</td>\n",
       "      <td>7019.0</td>\n",
       "    </tr>\n",
       "    <tr>\n",
       "      <th>1092</th>\n",
       "      <td>2018-12-28</td>\n",
       "      <td>6923.0</td>\n",
       "    </tr>\n",
       "    <tr>\n",
       "      <th>1093</th>\n",
       "      <td>2018-12-29</td>\n",
       "      <td>5153.0</td>\n",
       "    </tr>\n",
       "    <tr>\n",
       "      <th>1094</th>\n",
       "      <td>2018-12-30</td>\n",
       "      <td>5112.0</td>\n",
       "    </tr>\n",
       "    <tr>\n",
       "      <th>1095</th>\n",
       "      <td>2018-12-31</td>\n",
       "      <td>6270.0</td>\n",
       "    </tr>\n",
       "  </tbody>\n",
       "</table>\n",
       "<p>1096 rows × 2 columns</p>\n",
       "</div>"
      ],
      "text/plain": [
       "           Date  call_count\n",
       "0    2016-01-01      4260.0\n",
       "1    2016-01-02      4505.0\n",
       "2    2016-01-03      4749.0\n",
       "3    2016-01-04      8900.0\n",
       "4    2016-01-05     11936.0\n",
       "...         ...         ...\n",
       "1091 2018-12-27      7019.0\n",
       "1092 2018-12-28      6923.0\n",
       "1093 2018-12-29      5153.0\n",
       "1094 2018-12-30      5112.0\n",
       "1095 2018-12-31      6270.0\n",
       "\n",
       "[1096 rows x 2 columns]"
      ]
     },
     "execution_count": 40,
     "metadata": {},
     "output_type": "execute_result"
    }
   ],
   "source": [
    "d311"
   ]
  },
  {
   "cell_type": "markdown",
   "id": "43fea725",
   "metadata": {},
   "source": [
    "Weather data only goes through 2018-11-11. Restrict 311 call data to this region as well."
   ]
  },
  {
   "cell_type": "code",
   "execution_count": 44,
   "id": "192f10ac",
   "metadata": {},
   "outputs": [],
   "source": [
    "d311_r = d311.loc[d311['Date'] <np.datetime64('2018-11-12')]"
   ]
  },
  {
   "cell_type": "code",
   "execution_count": 45,
   "id": "bab1176a",
   "metadata": {},
   "outputs": [
    {
     "data": {
      "text/html": [
       "<div>\n",
       "<style scoped>\n",
       "    .dataframe tbody tr th:only-of-type {\n",
       "        vertical-align: middle;\n",
       "    }\n",
       "\n",
       "    .dataframe tbody tr th {\n",
       "        vertical-align: top;\n",
       "    }\n",
       "\n",
       "    .dataframe thead th {\n",
       "        text-align: right;\n",
       "    }\n",
       "</style>\n",
       "<table border=\"1\" class=\"dataframe\">\n",
       "  <thead>\n",
       "    <tr style=\"text-align: right;\">\n",
       "      <th></th>\n",
       "      <th>Date</th>\n",
       "      <th>call_count</th>\n",
       "    </tr>\n",
       "  </thead>\n",
       "  <tbody>\n",
       "    <tr>\n",
       "      <th>0</th>\n",
       "      <td>2016-01-01</td>\n",
       "      <td>4260.0</td>\n",
       "    </tr>\n",
       "    <tr>\n",
       "      <th>1</th>\n",
       "      <td>2016-01-02</td>\n",
       "      <td>4505.0</td>\n",
       "    </tr>\n",
       "    <tr>\n",
       "      <th>2</th>\n",
       "      <td>2016-01-03</td>\n",
       "      <td>4749.0</td>\n",
       "    </tr>\n",
       "    <tr>\n",
       "      <th>3</th>\n",
       "      <td>2016-01-04</td>\n",
       "      <td>8900.0</td>\n",
       "    </tr>\n",
       "    <tr>\n",
       "      <th>4</th>\n",
       "      <td>2016-01-05</td>\n",
       "      <td>11936.0</td>\n",
       "    </tr>\n",
       "    <tr>\n",
       "      <th>...</th>\n",
       "      <td>...</td>\n",
       "      <td>...</td>\n",
       "    </tr>\n",
       "    <tr>\n",
       "      <th>1041</th>\n",
       "      <td>2018-11-07</td>\n",
       "      <td>7926.0</td>\n",
       "    </tr>\n",
       "    <tr>\n",
       "      <th>1042</th>\n",
       "      <td>2018-11-08</td>\n",
       "      <td>8138.0</td>\n",
       "    </tr>\n",
       "    <tr>\n",
       "      <th>1043</th>\n",
       "      <td>2018-11-09</td>\n",
       "      <td>7468.0</td>\n",
       "    </tr>\n",
       "    <tr>\n",
       "      <th>1044</th>\n",
       "      <td>2018-11-10</td>\n",
       "      <td>6524.0</td>\n",
       "    </tr>\n",
       "    <tr>\n",
       "      <th>1045</th>\n",
       "      <td>2018-11-11</td>\n",
       "      <td>5883.0</td>\n",
       "    </tr>\n",
       "  </tbody>\n",
       "</table>\n",
       "<p>1046 rows × 2 columns</p>\n",
       "</div>"
      ],
      "text/plain": [
       "           Date  call_count\n",
       "0    2016-01-01      4260.0\n",
       "1    2016-01-02      4505.0\n",
       "2    2016-01-03      4749.0\n",
       "3    2016-01-04      8900.0\n",
       "4    2016-01-05     11936.0\n",
       "...         ...         ...\n",
       "1041 2018-11-07      7926.0\n",
       "1042 2018-11-08      8138.0\n",
       "1043 2018-11-09      7468.0\n",
       "1044 2018-11-10      6524.0\n",
       "1045 2018-11-11      5883.0\n",
       "\n",
       "[1046 rows x 2 columns]"
      ]
     },
     "execution_count": 45,
     "metadata": {},
     "output_type": "execute_result"
    }
   ],
   "source": [
    "d311_r"
   ]
  },
  {
   "cell_type": "markdown",
   "id": "6071377f",
   "metadata": {},
   "source": [
    "Combine dataframes. They have identical Date and index columns, so I can just add the call counts to the end of the weather dataframe."
   ]
  },
  {
   "cell_type": "code",
   "execution_count": 46,
   "id": "5caaf081",
   "metadata": {},
   "outputs": [],
   "source": [
    "dfw['call_count'] = d311_r['call_count']"
   ]
  },
  {
   "cell_type": "code",
   "execution_count": 50,
   "id": "f654a24c",
   "metadata": {},
   "outputs": [],
   "source": [
    "# rename new dataframe with all data\n",
    "df = dfw"
   ]
  },
  {
   "cell_type": "code",
   "execution_count": 51,
   "id": "1f69c97e",
   "metadata": {},
   "outputs": [
    {
     "data": {
      "text/html": [
       "<div>\n",
       "<style scoped>\n",
       "    .dataframe tbody tr th:only-of-type {\n",
       "        vertical-align: middle;\n",
       "    }\n",
       "\n",
       "    .dataframe tbody tr th {\n",
       "        vertical-align: top;\n",
       "    }\n",
       "\n",
       "    .dataframe thead th {\n",
       "        text-align: right;\n",
       "    }\n",
       "</style>\n",
       "<table border=\"1\" class=\"dataframe\">\n",
       "  <thead>\n",
       "    <tr style=\"text-align: right;\">\n",
       "      <th></th>\n",
       "      <th>Date</th>\n",
       "      <th>MeanTemp</th>\n",
       "      <th>MinTemp</th>\n",
       "      <th>MaxTemp</th>\n",
       "      <th>DewPoint</th>\n",
       "      <th>Percipitation</th>\n",
       "      <th>WindSpeed</th>\n",
       "      <th>MaxSustainedWind</th>\n",
       "      <th>Gust</th>\n",
       "      <th>SnowDepth</th>\n",
       "      <th>call_count</th>\n",
       "    </tr>\n",
       "  </thead>\n",
       "  <tbody>\n",
       "    <tr>\n",
       "      <th>0</th>\n",
       "      <td>2016-01-01</td>\n",
       "      <td>41.280</td>\n",
       "      <td>38.380</td>\n",
       "      <td>48.080</td>\n",
       "      <td>25.800000</td>\n",
       "      <td>0.0240</td>\n",
       "      <td>6.000000</td>\n",
       "      <td>15.333333</td>\n",
       "      <td>24.666667</td>\n",
       "      <td>NaN</td>\n",
       "      <td>4260.0</td>\n",
       "    </tr>\n",
       "    <tr>\n",
       "      <th>1</th>\n",
       "      <td>2016-01-02</td>\n",
       "      <td>36.820</td>\n",
       "      <td>33.420</td>\n",
       "      <td>41.920</td>\n",
       "      <td>18.466667</td>\n",
       "      <td>0.0000</td>\n",
       "      <td>6.140000</td>\n",
       "      <td>15.733333</td>\n",
       "      <td>22.433333</td>\n",
       "      <td>NaN</td>\n",
       "      <td>4505.0</td>\n",
       "    </tr>\n",
       "    <tr>\n",
       "      <th>2</th>\n",
       "      <td>2016-01-03</td>\n",
       "      <td>38.800</td>\n",
       "      <td>33.180</td>\n",
       "      <td>45.920</td>\n",
       "      <td>21.333333</td>\n",
       "      <td>0.0000</td>\n",
       "      <td>5.680000</td>\n",
       "      <td>14.333333</td>\n",
       "      <td>23.066667</td>\n",
       "      <td>NaN</td>\n",
       "      <td>4749.0</td>\n",
       "    </tr>\n",
       "    <tr>\n",
       "      <th>3</th>\n",
       "      <td>2016-01-04</td>\n",
       "      <td>32.540</td>\n",
       "      <td>21.620</td>\n",
       "      <td>42.640</td>\n",
       "      <td>15.066667</td>\n",
       "      <td>0.0000</td>\n",
       "      <td>7.060000</td>\n",
       "      <td>17.700000</td>\n",
       "      <td>27.366667</td>\n",
       "      <td>NaN</td>\n",
       "      <td>8900.0</td>\n",
       "    </tr>\n",
       "    <tr>\n",
       "      <th>4</th>\n",
       "      <td>2016-01-05</td>\n",
       "      <td>18.900</td>\n",
       "      <td>11.820</td>\n",
       "      <td>34.320</td>\n",
       "      <td>-0.500000</td>\n",
       "      <td>0.0000</td>\n",
       "      <td>7.080000</td>\n",
       "      <td>20.400000</td>\n",
       "      <td>30.000000</td>\n",
       "      <td>NaN</td>\n",
       "      <td>11936.0</td>\n",
       "    </tr>\n",
       "    <tr>\n",
       "      <th>...</th>\n",
       "      <td>...</td>\n",
       "      <td>...</td>\n",
       "      <td>...</td>\n",
       "      <td>...</td>\n",
       "      <td>...</td>\n",
       "      <td>...</td>\n",
       "      <td>...</td>\n",
       "      <td>...</td>\n",
       "      <td>...</td>\n",
       "      <td>...</td>\n",
       "      <td>...</td>\n",
       "    </tr>\n",
       "    <tr>\n",
       "      <th>1041</th>\n",
       "      <td>2018-11-07</td>\n",
       "      <td>57.700</td>\n",
       "      <td>50.225</td>\n",
       "      <td>63.500</td>\n",
       "      <td>45.800000</td>\n",
       "      <td>0.6875</td>\n",
       "      <td>10.833333</td>\n",
       "      <td>15.600000</td>\n",
       "      <td>29.733333</td>\n",
       "      <td>NaN</td>\n",
       "      <td>7926.0</td>\n",
       "    </tr>\n",
       "    <tr>\n",
       "      <th>1042</th>\n",
       "      <td>2018-11-08</td>\n",
       "      <td>53.725</td>\n",
       "      <td>46.750</td>\n",
       "      <td>63.500</td>\n",
       "      <td>34.525000</td>\n",
       "      <td>0.0125</td>\n",
       "      <td>8.566667</td>\n",
       "      <td>14.666667</td>\n",
       "      <td>19.300000</td>\n",
       "      <td>NaN</td>\n",
       "      <td>8138.0</td>\n",
       "    </tr>\n",
       "    <tr>\n",
       "      <th>1043</th>\n",
       "      <td>2018-11-09</td>\n",
       "      <td>47.775</td>\n",
       "      <td>42.250</td>\n",
       "      <td>56.325</td>\n",
       "      <td>36.125000</td>\n",
       "      <td>0.0000</td>\n",
       "      <td>9.800000</td>\n",
       "      <td>15.700000</td>\n",
       "      <td>20.000000</td>\n",
       "      <td>NaN</td>\n",
       "      <td>7468.0</td>\n",
       "    </tr>\n",
       "    <tr>\n",
       "      <th>1044</th>\n",
       "      <td>2018-11-10</td>\n",
       "      <td>47.125</td>\n",
       "      <td>39.175</td>\n",
       "      <td>52.775</td>\n",
       "      <td>35.700000</td>\n",
       "      <td>0.7475</td>\n",
       "      <td>12.433333</td>\n",
       "      <td>22.733333</td>\n",
       "      <td>31.333333</td>\n",
       "      <td>NaN</td>\n",
       "      <td>6524.0</td>\n",
       "    </tr>\n",
       "    <tr>\n",
       "      <th>1045</th>\n",
       "      <td>2018-11-11</td>\n",
       "      <td>39.950</td>\n",
       "      <td>34.775</td>\n",
       "      <td>51.050</td>\n",
       "      <td>21.900000</td>\n",
       "      <td>0.0150</td>\n",
       "      <td>9.500000</td>\n",
       "      <td>14.000000</td>\n",
       "      <td>27.000000</td>\n",
       "      <td>NaN</td>\n",
       "      <td>5883.0</td>\n",
       "    </tr>\n",
       "  </tbody>\n",
       "</table>\n",
       "<p>1046 rows × 11 columns</p>\n",
       "</div>"
      ],
      "text/plain": [
       "           Date  MeanTemp  MinTemp  MaxTemp   DewPoint  Percipitation  \\\n",
       "0    2016-01-01    41.280   38.380   48.080  25.800000         0.0240   \n",
       "1    2016-01-02    36.820   33.420   41.920  18.466667         0.0000   \n",
       "2    2016-01-03    38.800   33.180   45.920  21.333333         0.0000   \n",
       "3    2016-01-04    32.540   21.620   42.640  15.066667         0.0000   \n",
       "4    2016-01-05    18.900   11.820   34.320  -0.500000         0.0000   \n",
       "...         ...       ...      ...      ...        ...            ...   \n",
       "1041 2018-11-07    57.700   50.225   63.500  45.800000         0.6875   \n",
       "1042 2018-11-08    53.725   46.750   63.500  34.525000         0.0125   \n",
       "1043 2018-11-09    47.775   42.250   56.325  36.125000         0.0000   \n",
       "1044 2018-11-10    47.125   39.175   52.775  35.700000         0.7475   \n",
       "1045 2018-11-11    39.950   34.775   51.050  21.900000         0.0150   \n",
       "\n",
       "      WindSpeed  MaxSustainedWind       Gust  SnowDepth  call_count  \n",
       "0      6.000000         15.333333  24.666667        NaN      4260.0  \n",
       "1      6.140000         15.733333  22.433333        NaN      4505.0  \n",
       "2      5.680000         14.333333  23.066667        NaN      4749.0  \n",
       "3      7.060000         17.700000  27.366667        NaN      8900.0  \n",
       "4      7.080000         20.400000  30.000000        NaN     11936.0  \n",
       "...         ...               ...        ...        ...         ...  \n",
       "1041  10.833333         15.600000  29.733333        NaN      7926.0  \n",
       "1042   8.566667         14.666667  19.300000        NaN      8138.0  \n",
       "1043   9.800000         15.700000  20.000000        NaN      7468.0  \n",
       "1044  12.433333         22.733333  31.333333        NaN      6524.0  \n",
       "1045   9.500000         14.000000  27.000000        NaN      5883.0  \n",
       "\n",
       "[1046 rows x 11 columns]"
      ]
     },
     "execution_count": 51,
     "metadata": {},
     "output_type": "execute_result"
    }
   ],
   "source": [
    "df"
   ]
  },
  {
   "cell_type": "markdown",
   "id": "ad55a3ac",
   "metadata": {},
   "source": [
    "Add a date_iter column. This column counts the number of days since 2016-01-01. It is useful as a model input to account for changes in 311 patterns over time (since I previously saw that call numbers increased over time)\n"
   ]
  },
  {
   "cell_type": "code",
   "execution_count": 61,
   "id": "b12abaf6",
   "metadata": {},
   "outputs": [],
   "source": [
    "df['date_iter'] = np.arange(len(df))"
   ]
  },
  {
   "cell_type": "markdown",
   "id": "6cbdbbb0",
   "metadata": {},
   "source": [
    "### Try a very basic linear regression. \n",
    "\n",
    "Date_iter and MeanTemp as inputs, output is call_count."
   ]
  },
  {
   "cell_type": "code",
   "execution_count": 166,
   "id": "6f3f22e4",
   "metadata": {},
   "outputs": [],
   "source": [
    "x = df.loc[:,['date_iter', 'MeanTemp']].to_numpy()"
   ]
  },
  {
   "cell_type": "code",
   "execution_count": 167,
   "id": "9bb0cfec",
   "metadata": {},
   "outputs": [
    {
     "data": {
      "text/plain": [
       "array([[0.0000e+00, 4.1280e+01],\n",
       "       [1.0000e+00, 3.6820e+01],\n",
       "       [2.0000e+00, 3.8800e+01],\n",
       "       ...,\n",
       "       [1.0430e+03, 4.7775e+01],\n",
       "       [1.0440e+03, 4.7125e+01],\n",
       "       [1.0450e+03, 3.9950e+01]])"
      ]
     },
     "execution_count": 167,
     "metadata": {},
     "output_type": "execute_result"
    }
   ],
   "source": [
    "x"
   ]
  },
  {
   "cell_type": "code",
   "execution_count": 168,
   "id": "62302def",
   "metadata": {},
   "outputs": [],
   "source": [
    "y = df['call_count'].to_numpy()"
   ]
  },
  {
   "cell_type": "code",
   "execution_count": 169,
   "id": "f48a039e",
   "metadata": {},
   "outputs": [
    {
     "data": {
      "text/plain": [
       "array([4260., 4505., 4749., ..., 7468., 6524., 5883.])"
      ]
     },
     "execution_count": 169,
     "metadata": {},
     "output_type": "execute_result"
    }
   ],
   "source": [
    "y"
   ]
  },
  {
   "cell_type": "code",
   "execution_count": 170,
   "id": "f845f634",
   "metadata": {},
   "outputs": [],
   "source": [
    "model = LinearRegression().fit(x, y)"
   ]
  },
  {
   "cell_type": "code",
   "execution_count": 171,
   "id": "ff20e827",
   "metadata": {},
   "outputs": [
    {
     "name": "stdout",
     "output_type": "stream",
     "text": [
      "R^2: 0.12322257655244895\n",
      "intercept: 6452.286039483872\n",
      "coefficients: [ 1.4051034 -6.2075403]\n"
     ]
    }
   ],
   "source": [
    "r_sq = model.score(x, y)\n",
    "print(f\"R^2: {r_sq}\")\n",
    "print(f\"intercept: {model.intercept_}\")\n",
    "print(f\"coefficients: {model.coef_}\")"
   ]
  },
  {
   "cell_type": "markdown",
   "id": "e501abb6",
   "metadata": {},
   "source": [
    "The R^2 value here is quite low since this model isn't doing a great job fitting the data. It's only a bit better than not including temerature."
   ]
  },
  {
   "cell_type": "code",
   "execution_count": 172,
   "id": "45e3398d",
   "metadata": {
    "scrolled": false
   },
   "outputs": [
    {
     "data": {
      "image/png": "[encoded data removed]",
      "text/plain": [
       "<Figure size 640x480 with 1 Axes>"
      ]
     },
     "metadata": {},
     "output_type": "display_data"
    }
   ],
   "source": [
    "fig, ax = plt.subplots()\n",
    "# common to all three:\n",
    "ax.plot('Date', 'call_count', data=df)\n",
    "ax.plot(df['Date'], model.predict(x))\n",
    "# ax.plot(df['Date'], df['date_iter']*model.coef_[0] + df['MeanTemp']*model.coef_[1] + model.intercept_)\n",
    "ax.xaxis.set_major_locator(mdates.MonthLocator(bymonth=(1, 7)))\n",
    "ax.xaxis.set_minor_locator(mdates.MonthLocator())\n",
    "\n",
    "ax.grid(True)\n",
    "ax.set_ylabel(r'Call count')\n",
    "# ax.set_title('Calls per day', fontsize='medium')\n",
    "plt.show()"
   ]
  },
  {
   "cell_type": "markdown",
   "id": "506f269b",
   "metadata": {},
   "source": [
    "### Polynomial Regression\n",
    "\n",
    "Try a slightly more complicated model. Still using date_iter and MeanTemp, but now using polynomial terms with degree=2."
   ]
  },
  {
   "cell_type": "code",
   "execution_count": 173,
   "id": "33401dcb",
   "metadata": {},
   "outputs": [],
   "source": [
    "from sklearn.preprocessing import PolynomialFeatures"
   ]
  },
  {
   "cell_type": "code",
   "execution_count": 174,
   "id": "2b019519",
   "metadata": {},
   "outputs": [],
   "source": [
    "transformer = PolynomialFeatures(degree=2, include_bias=False)\n",
    "transformer.fit(x)\n",
    "x_ = transformer.transform(x)\n",
    "# x_ = PolynomialFeatures(degree=2, include_bias=False).fit_transform(x)"
   ]
  },
  {
   "cell_type": "code",
   "execution_count": 175,
   "id": "017987e1",
   "metadata": {},
   "outputs": [
    {
     "data": {
      "text/plain": [
       "array([[0.00000000e+00, 4.12800000e+01, 0.00000000e+00, 0.00000000e+00,\n",
       "        1.70403840e+03],\n",
       "       [1.00000000e+00, 3.68200000e+01, 1.00000000e+00, 3.68200000e+01,\n",
       "        1.35571240e+03],\n",
       "       [2.00000000e+00, 3.88000000e+01, 4.00000000e+00, 7.76000000e+01,\n",
       "        1.50544000e+03],\n",
       "       ...,\n",
       "       [1.04300000e+03, 4.77750000e+01, 1.08784900e+06, 4.98293250e+04,\n",
       "        2.28245062e+03],\n",
       "       [1.04400000e+03, 4.71250000e+01, 1.08993600e+06, 4.91985000e+04,\n",
       "        2.22076562e+03],\n",
       "       [1.04500000e+03, 3.99500000e+01, 1.09202500e+06, 4.17477500e+04,\n",
       "        1.59600250e+03]])"
      ]
     },
     "execution_count": 175,
     "metadata": {},
     "output_type": "execute_result"
    }
   ],
   "source": [
    "x_"
   ]
  },
  {
   "cell_type": "markdown",
   "id": "58a84620",
   "metadata": {},
   "source": [
    "Parameters of x_: [date_iter, MeanTemp, date_iter^2, date_iter*MeanTemp, MeanTemp^2]"
   ]
  },
  {
   "cell_type": "code",
   "execution_count": 176,
   "id": "4a155f13",
   "metadata": {},
   "outputs": [],
   "source": [
    "model = LinearRegression().fit(x_, y)"
   ]
  },
  {
   "cell_type": "code",
   "execution_count": 177,
   "id": "e453a5e8",
   "metadata": {},
   "outputs": [
    {
     "name": "stdout",
     "output_type": "stream",
     "text": [
      "R^2: 0.21238921464198002\n",
      "intercept: 9900.912014295021\n",
      "coefficients: [-6.89901966e-01 -1.29203315e+02  1.76948099e-03  3.85093614e-03\n",
      "  1.10223561e+00]\n"
     ]
    }
   ],
   "source": [
    "r_sq = model.score(x_, y)\n",
    "print(f\"R^2: {r_sq}\")\n",
    "print(f\"intercept: {model.intercept_}\")\n",
    "print(f\"coefficients: {model.coef_}\")"
   ]
  },
  {
   "cell_type": "code",
   "execution_count": 179,
   "id": "d79b5bb8",
   "metadata": {},
   "outputs": [],
   "source": [
    "y_pred = model.predict(x_)"
   ]
  },
  {
   "cell_type": "code",
   "execution_count": 180,
   "id": "7c47efd2",
   "metadata": {},
   "outputs": [
    {
     "data": {
      "text/plain": [
       "array([6445.65097248, 6637.41409544, 6546.09907183, ..., 7641.27191669,\n",
       "       7657.83640592, 7870.54820836])"
      ]
     },
     "execution_count": 180,
     "metadata": {},
     "output_type": "execute_result"
    }
   ],
   "source": [
    "y_pred"
   ]
  },
  {
   "cell_type": "code",
   "execution_count": 181,
   "id": "75675b12",
   "metadata": {},
   "outputs": [
    {
     "data": {
      "image/png": "[encoded data removed]",
      "text/plain": [
       "<Figure size 640x480 with 1 Axes>"
      ]
     },
     "metadata": {},
     "output_type": "display_data"
    }
   ],
   "source": [
    "fig, ax = plt.subplots()\n",
    "# common to all three:\n",
    "# ax.plot('Date', 'call_count', data=df)\n",
    "ax.plot('Date', 'call_count', data=df)\n",
    "ax.plot(df['Date'], y_pred)\n",
    "ax.xaxis.set_major_locator(mdates.MonthLocator(bymonth=(1, 7)))\n",
    "ax.xaxis.set_minor_locator(mdates.MonthLocator())\n",
    "\n",
    "ax.grid(True)\n",
    "ax.set_ylabel(r'Call count')\n",
    "# ax.set_title('Calls per day', fontsize='medium')\n",
    "plt.show()"
   ]
  },
  {
   "cell_type": "markdown",
   "id": "6bf8d244",
   "metadata": {},
   "source": [
    "This polynomial model, which includes temperature and time up to degree 2, does seem to caputure some of the large peaks in 311 calls."
   ]
  },
  {
   "cell_type": "markdown",
   "id": "4890824b",
   "metadata": {},
   "source": [
    "### Modeling a bit more rigorously.\n",
    "Split the dataset into training, cross validation, and test sets"
   ]
  },
  {
   "cell_type": "code",
   "execution_count": 182,
   "id": "83f72202",
   "metadata": {},
   "outputs": [
    {
     "name": "stdout",
     "output_type": "stream",
     "text": [
      "the shape of the training set (input) is: (627, 2)\n",
      "the shape of the training set (target) is: (627,)\n",
      "\n",
      "the shape of the cross validation set (input) is: (209, 2)\n",
      "the shape of the cross validation set (target) is: (209,)\n",
      "\n",
      "the shape of the test set (input) is: (210, 2)\n",
      "the shape of the test set (target) is: (210,)\n"
     ]
    }
   ],
   "source": [
    "# Get 60% of the dataset as the training set. Put the remaining 40% in temporary variables: x_ and y_.\n",
    "x_train, x_, y_train, y_ = train_test_split(x, y, test_size=0.40, random_state=1)\n",
    "\n",
    "# Split the 40% subset above into two: one half for cross validation and the other for the test set\n",
    "x_cv, x_test, y_cv, y_test = train_test_split(x_, y_, test_size=0.50, random_state=1)\n",
    "\n",
    "# Delete temporary variables\n",
    "del x_, y_\n",
    "\n",
    "print(f\"the shape of the training set (input) is: {x_train.shape}\")\n",
    "print(f\"the shape of the training set (target) is: {y_train.shape}\\n\")\n",
    "print(f\"the shape of the cross validation set (input) is: {x_cv.shape}\")\n",
    "print(f\"the shape of the cross validation set (target) is: {y_cv.shape}\\n\")\n",
    "print(f\"the shape of the test set (input) is: {x_test.shape}\")\n",
    "print(f\"the shape of the test set (target) is: {y_test.shape}\")"
   ]
  },
  {
   "cell_type": "markdown",
   "id": "0af9c873",
   "metadata": {},
   "source": [
    "Run Feature Scaling"
   ]
  },
  {
   "cell_type": "code",
   "execution_count": 183,
   "id": "24535ee7",
   "metadata": {},
   "outputs": [
    {
     "name": "stdout",
     "output_type": "stream",
     "text": [
      "Computed mean of the training set: [524.51834131  57.43282411]\n",
      "Computed standard deviation of the training set: [295.09337462  16.77529258]\n"
     ]
    }
   ],
   "source": [
    "# Initialize the class\n",
    "scaler_linear = StandardScaler()\n",
    "\n",
    "# Compute the mean and standard deviation of the training set then transform it\n",
    "X_train_scaled = scaler_linear.fit_transform(x_train)\n",
    "\n",
    "print(f\"Computed mean of the training set: {scaler_linear.mean_.squeeze()}\")\n",
    "print(f\"Computed standard deviation of the training set: {scaler_linear.scale_.squeeze():}\")"
   ]
  },
  {
   "cell_type": "code",
   "execution_count": 184,
   "id": "16d39d74",
   "metadata": {},
   "outputs": [
    {
     "data": {
      "text/html": [
       "<style>#sk-container-id-4 {color: black;background-color: white;}#sk-container-id-4 pre{padding: 0;}#sk-container-id-4 div.sk-toggleable {background-color: white;}#sk-container-id-4 label.sk-toggleable__label {cursor: pointer;display: block;width: 100%;margin-bottom: 0;padding: 0.3em;box-sizing: border-box;text-align: center;}#sk-container-id-4 label.sk-toggleable__label-arrow:before {content: \"▸\";float: left;margin-right: 0.25em;color: #696969;}#sk-container-id-4 label.sk-toggleable__label-arrow:hover:before {color: black;}#sk-container-id-4 div.sk-estimator:hover label.sk-toggleable__label-arrow:before {color: black;}#sk-container-id-4 div.sk-toggleable__content {max-height: 0;max-width: 0;overflow: hidden;text-align: left;background-color: #f0f8ff;}#sk-container-id-4 div.sk-toggleable__content pre {margin: 0.2em;color: black;border-radius: 0.25em;background-color: #f0f8ff;}#sk-container-id-4 input.sk-toggleable__control:checked~div.sk-toggleable__content {max-height: 200px;max-width: 100%;overflow: auto;}#sk-container-id-4 input.sk-toggleable__control:checked~label.sk-toggleable__label-arrow:before {content: \"▾\";}#sk-container-id-4 div.sk-estimator input.sk-toggleable__control:checked~label.sk-toggleable__label {background-color: #d4ebff;}#sk-container-id-4 div.sk-label input.sk-toggleable__control:checked~label.sk-toggleable__label {background-color: #d4ebff;}#sk-container-id-4 input.sk-hidden--visually {border: 0;clip: rect(1px 1px 1px 1px);clip: rect(1px, 1px, 1px, 1px);height: 1px;margin: -1px;overflow: hidden;padding: 0;position: absolute;width: 1px;}#sk-container-id-4 div.sk-estimator {font-family: monospace;background-color: #f0f8ff;border: 1px dotted black;border-radius: 0.25em;box-sizing: border-box;margin-bottom: 0.5em;}#sk-container-id-4 div.sk-estimator:hover {background-color: #d4ebff;}#sk-container-id-4 div.sk-parallel-item::after {content: \"\";width: 100%;border-bottom: 1px solid gray;flex-grow: 1;}#sk-container-id-4 div.sk-label:hover label.sk-toggleable__label {background-color: #d4ebff;}#sk-container-id-4 div.sk-serial::before {content: \"\";position: absolute;border-left: 1px solid gray;box-sizing: border-box;top: 0;bottom: 0;left: 50%;z-index: 0;}#sk-container-id-4 div.sk-serial {display: flex;flex-direction: column;align-items: center;background-color: white;padding-right: 0.2em;padding-left: 0.2em;position: relative;}#sk-container-id-4 div.sk-item {position: relative;z-index: 1;}#sk-container-id-4 div.sk-parallel {display: flex;align-items: stretch;justify-content: center;background-color: white;position: relative;}#sk-container-id-4 div.sk-item::before, #sk-container-id-4 div.sk-parallel-item::before {content: \"\";position: absolute;border-left: 1px solid gray;box-sizing: border-box;top: 0;bottom: 0;left: 50%;z-index: -1;}#sk-container-id-4 div.sk-parallel-item {display: flex;flex-direction: column;z-index: 1;position: relative;background-color: white;}#sk-container-id-4 div.sk-parallel-item:first-child::after {align-self: flex-end;width: 50%;}#sk-container-id-4 div.sk-parallel-item:last-child::after {align-self: flex-start;width: 50%;}#sk-container-id-4 div.sk-parallel-item:only-child::after {width: 0;}#sk-container-id-4 div.sk-dashed-wrapped {border: 1px dashed gray;margin: 0 0.4em 0.5em 0.4em;box-sizing: border-box;padding-bottom: 0.4em;background-color: white;}#sk-container-id-4 div.sk-label label {font-family: monospace;font-weight: bold;display: inline-block;line-height: 1.2em;}#sk-container-id-4 div.sk-label-container {text-align: center;}#sk-container-id-4 div.sk-container {/* jupyter's `normalize.less` sets `[hidden] { display: none; }` but bootstrap.min.css set `[hidden] { display: none !important; }` so we also need the `!important` here to be able to override the default hidden behavior on the sphinx rendered scikit-learn.org. See: https://github.com/scikit-learn/scikit-learn/issues/21755 */display: inline-block !important;position: relative;}#sk-container-id-4 div.sk-text-repr-fallback {display: none;}</style><div id=\"sk-container-id-4\" class=\"sk-top-container\"><div class=\"sk-text-repr-fallback\"><pre>LinearRegression()</pre><b>In a Jupyter environment, please rerun this cell to show the HTML representation or trust the notebook. <br />On GitHub, the HTML representation is unable to render, please try loading this page with nbviewer.org.</b></div><div class=\"sk-container\" hidden><div class=\"sk-item\"><div class=\"sk-estimator sk-toggleable\"><input class=\"sk-toggleable__control sk-hidden--visually\" id=\"sk-estimator-id-4\" type=\"checkbox\" checked><label for=\"sk-estimator-id-4\" class=\"sk-toggleable__label sk-toggleable__label-arrow\">LinearRegression</label><div class=\"sk-toggleable__content\"><pre>LinearRegression()</pre></div></div></div></div></div>"
      ],
      "text/plain": [
       "LinearRegression()"
      ]
     },
     "execution_count": 184,
     "metadata": {},
     "output_type": "execute_result"
    }
   ],
   "source": [
    "# Initialize the class\n",
    "linear_model = LinearRegression()\n",
    "\n",
    "# Train the model\n",
    "linear_model.fit(X_train_scaled, y_train )"
   ]
  },
  {
   "cell_type": "code",
   "execution_count": 185,
   "id": "832cc6f2",
   "metadata": {},
   "outputs": [
    {
     "name": "stdout",
     "output_type": "stream",
     "text": [
      "training MSE (using sklearn function): 641473.5551966255\n"
     ]
    }
   ],
   "source": [
    "# Feed the scaled training set and get the predictions\n",
    "yhat = linear_model.predict(X_train_scaled)\n",
    "\n",
    "# Use scikit-learn's utility function and divide by 2\n",
    "print(f\"training MSE (using sklearn function): {mean_squared_error(y_train, yhat) / 2}\")"
   ]
  },
  {
   "cell_type": "code",
   "execution_count": 201,
   "id": "0373bbc3",
   "metadata": {},
   "outputs": [
    {
     "data": {
      "image/png": "[encoded data removed]",
      "text/plain": [
       "<Figure size 640x480 with 1 Axes>"
      ]
     },
     "metadata": {},
     "output_type": "display_data"
    }
   ],
   "source": [
    "fig, ax = plt.subplots()\n",
    "\n",
    "# ax.plot('Date', 'call_count', data=df)\n",
    "ax.plot(X_train_scaled[:,0], y_train, 'o', color = 'r', label = 'training data')\n",
    "ax.plot(X_train_scaled[:,0], yhat, 'o', color = 'b', label = 'prediction')\n",
    "\n",
    "# ax.plot(df['Date'], df['date_iter']*model.coef_[0] + df['MeanTemp']*model.coef_[1] + model.intercept_)\n",
    "# ax.xaxis.set_major_locator(mdates.MonthLocator(bymonth=(1, 7)))\n",
    "# ax.xaxis.set_minor_locator(mdates.MonthLocator())\n",
    "\n",
    "ax.grid(True)\n",
    "ax.set_ylabel(r'Call count')\n",
    "ax.set_xlabel(r'Scaled date iter')\n",
    "ax.legend()\n",
    "# ax.set_title('Calls per day', fontsize='medium')\n",
    "plt.show()"
   ]
  },
  {
   "cell_type": "code",
   "execution_count": null,
   "id": "e495dd37",
   "metadata": {},
   "outputs": [],
   "source": []
  }
 ],
 "metadata": {
  "kernelspec": {
   "display_name": "Python 3 (ipykernel)",
   "language": "python",
   "name": "python3"
  },
  "language_info": {
   "codemirror_mode": {
    "name": "ipython",
    "version": 3
   },
   "file_extension": ".py",
   "mimetype": "text/x-python",
   "name": "python",
   "nbconvert_exporter": "python",
   "pygments_lexer": "ipython3",
   "version": "3.10.11"
  }
 },
 "nbformat": 4,
 "nbformat_minor": 5
}
