{
 "cells": [
  {
   "cell_type": "code",
   "execution_count": 1,
   "id": "8fd02185",
   "metadata": {},
   "outputs": [],
   "source": [
    "import numpy as np\n",
    "import pandas as pd\n",
    "import matplotlib as mpl\n",
    "import matplotlib.pyplot as plt"
   ]
  },
  {
   "cell_type": "code",
   "execution_count": 11,
   "id": "0d984a89",
   "metadata": {},
   "outputs": [],
   "source": [
    "weather_path = 'weather_NY_2010_2018Nov.csv'\n",
    "w = pd.read_csv(weather_path)"
   ]
  },
  {
   "cell_type": "code",
   "execution_count": 12,
   "id": "33c4b631",
   "metadata": {},
   "outputs": [
    {
     "data": {
      "text/html": [
       "<div>\n",
       "<style scoped>\n",
       "    .dataframe tbody tr th:only-of-type {\n",
       "        vertical-align: middle;\n",
       "    }\n",
       "\n",
       "    .dataframe tbody tr th {\n",
       "        vertical-align: top;\n",
       "    }\n",
       "\n",
       "    .dataframe thead th {\n",
       "        text-align: right;\n",
       "    }\n",
       "</style>\n",
       "<table border=\"1\" class=\"dataframe\">\n",
       "  <thead>\n",
       "    <tr style=\"text-align: right;\">\n",
       "      <th></th>\n",
       "      <th>USAF</th>\n",
       "      <th>WBAN</th>\n",
       "      <th>StationName</th>\n",
       "      <th>State</th>\n",
       "      <th>Latitude</th>\n",
       "      <th>Longitude</th>\n",
       "      <th>MeanTemp</th>\n",
       "      <th>MinTemp</th>\n",
       "      <th>MaxTemp</th>\n",
       "      <th>DewPoint</th>\n",
       "      <th>Percipitation</th>\n",
       "      <th>WindSpeed</th>\n",
       "      <th>MaxSustainedWind</th>\n",
       "      <th>Gust</th>\n",
       "      <th>Rain</th>\n",
       "      <th>SnowDepth</th>\n",
       "      <th>SnowIce</th>\n",
       "      <th>Year</th>\n",
       "      <th>Month</th>\n",
       "      <th>Day</th>\n",
       "    </tr>\n",
       "  </thead>\n",
       "  <tbody>\n",
       "    <tr>\n",
       "      <th>0</th>\n",
       "      <td>726228</td>\n",
       "      <td>94740</td>\n",
       "      <td>ADIRONDACK REGIONAL ARPT</td>\n",
       "      <td>NY</td>\n",
       "      <td>44.385</td>\n",
       "      <td>-74.207</td>\n",
       "      <td>27.6</td>\n",
       "      <td>24.8</td>\n",
       "      <td>30.9</td>\n",
       "      <td>25.0</td>\n",
       "      <td>0.07</td>\n",
       "      <td>1.3</td>\n",
       "      <td>6.0</td>\n",
       "      <td>NaN</td>\n",
       "      <td>0</td>\n",
       "      <td>NaN</td>\n",
       "      <td>1</td>\n",
       "      <td>2010</td>\n",
       "      <td>1</td>\n",
       "      <td>1</td>\n",
       "    </tr>\n",
       "    <tr>\n",
       "      <th>1</th>\n",
       "      <td>726228</td>\n",
       "      <td>94740</td>\n",
       "      <td>ADIRONDACK REGIONAL ARPT</td>\n",
       "      <td>NY</td>\n",
       "      <td>44.385</td>\n",
       "      <td>-74.207</td>\n",
       "      <td>-3.2</td>\n",
       "      <td>-20.9</td>\n",
       "      <td>17.1</td>\n",
       "      <td>-9.6</td>\n",
       "      <td>0.00</td>\n",
       "      <td>3.3</td>\n",
       "      <td>9.9</td>\n",
       "      <td>NaN</td>\n",
       "      <td>0</td>\n",
       "      <td>NaN</td>\n",
       "      <td>1</td>\n",
       "      <td>2010</td>\n",
       "      <td>1</td>\n",
       "      <td>10</td>\n",
       "    </tr>\n",
       "    <tr>\n",
       "      <th>2</th>\n",
       "      <td>726228</td>\n",
       "      <td>94740</td>\n",
       "      <td>ADIRONDACK REGIONAL ARPT</td>\n",
       "      <td>NY</td>\n",
       "      <td>44.385</td>\n",
       "      <td>-74.207</td>\n",
       "      <td>20.9</td>\n",
       "      <td>17.1</td>\n",
       "      <td>24.1</td>\n",
       "      <td>15.1</td>\n",
       "      <td>0.00</td>\n",
       "      <td>6.8</td>\n",
       "      <td>12.0</td>\n",
       "      <td>19.0</td>\n",
       "      <td>0</td>\n",
       "      <td>NaN</td>\n",
       "      <td>1</td>\n",
       "      <td>2010</td>\n",
       "      <td>1</td>\n",
       "      <td>11</td>\n",
       "    </tr>\n",
       "    <tr>\n",
       "      <th>3</th>\n",
       "      <td>726228</td>\n",
       "      <td>94740</td>\n",
       "      <td>ADIRONDACK REGIONAL ARPT</td>\n",
       "      <td>NY</td>\n",
       "      <td>44.385</td>\n",
       "      <td>-74.207</td>\n",
       "      <td>13.8</td>\n",
       "      <td>5.0</td>\n",
       "      <td>19.9</td>\n",
       "      <td>8.5</td>\n",
       "      <td>NaN</td>\n",
       "      <td>4.4</td>\n",
       "      <td>8.0</td>\n",
       "      <td>15.9</td>\n",
       "      <td>0</td>\n",
       "      <td>NaN</td>\n",
       "      <td>1</td>\n",
       "      <td>2010</td>\n",
       "      <td>1</td>\n",
       "      <td>12</td>\n",
       "    </tr>\n",
       "    <tr>\n",
       "      <th>4</th>\n",
       "      <td>726228</td>\n",
       "      <td>94740</td>\n",
       "      <td>ADIRONDACK REGIONAL ARPT</td>\n",
       "      <td>NY</td>\n",
       "      <td>44.385</td>\n",
       "      <td>-74.207</td>\n",
       "      <td>6.3</td>\n",
       "      <td>-8.0</td>\n",
       "      <td>19.0</td>\n",
       "      <td>1.9</td>\n",
       "      <td>0.00</td>\n",
       "      <td>3.3</td>\n",
       "      <td>5.1</td>\n",
       "      <td>NaN</td>\n",
       "      <td>0</td>\n",
       "      <td>NaN</td>\n",
       "      <td>1</td>\n",
       "      <td>2010</td>\n",
       "      <td>1</td>\n",
       "      <td>13</td>\n",
       "    </tr>\n",
       "  </tbody>\n",
       "</table>\n",
       "</div>"
      ],
      "text/plain": [
       "     USAF   WBAN               StationName State  Latitude  Longitude  \\\n",
       "0  726228  94740  ADIRONDACK REGIONAL ARPT    NY    44.385    -74.207   \n",
       "1  726228  94740  ADIRONDACK REGIONAL ARPT    NY    44.385    -74.207   \n",
       "2  726228  94740  ADIRONDACK REGIONAL ARPT    NY    44.385    -74.207   \n",
       "3  726228  94740  ADIRONDACK REGIONAL ARPT    NY    44.385    -74.207   \n",
       "4  726228  94740  ADIRONDACK REGIONAL ARPT    NY    44.385    -74.207   \n",
       "\n",
       "   MeanTemp  MinTemp  MaxTemp  DewPoint  Percipitation  WindSpeed  \\\n",
       "0      27.6     24.8     30.9      25.0           0.07        1.3   \n",
       "1      -3.2    -20.9     17.1      -9.6           0.00        3.3   \n",
       "2      20.9     17.1     24.1      15.1           0.00        6.8   \n",
       "3      13.8      5.0     19.9       8.5            NaN        4.4   \n",
       "4       6.3     -8.0     19.0       1.9           0.00        3.3   \n",
       "\n",
       "   MaxSustainedWind  Gust  Rain  SnowDepth  SnowIce  Year  Month  Day  \n",
       "0               6.0   NaN     0        NaN        1  2010      1    1  \n",
       "1               9.9   NaN     0        NaN        1  2010      1   10  \n",
       "2              12.0  19.0     0        NaN        1  2010      1   11  \n",
       "3               8.0  15.9     0        NaN        1  2010      1   12  \n",
       "4               5.1   NaN     0        NaN        1  2010      1   13  "
      ]
     },
     "execution_count": 12,
     "metadata": {},
     "output_type": "execute_result"
    }
   ],
   "source": [
    "w.head()"
   ]
  },
  {
   "cell_type": "code",
   "execution_count": 6,
   "id": "519712d6",
   "metadata": {},
   "outputs": [
    {
     "data": {
      "text/plain": [
       "0         44.385\n",
       "1         44.385\n",
       "2         44.385\n",
       "3         44.385\n",
       "4         44.385\n",
       "           ...  \n",
       "160770    44.050\n",
       "160771    44.050\n",
       "160772    44.050\n",
       "160773    44.050\n",
       "160774    44.050\n",
       "Name: Latitude, Length: 160775, dtype: float64"
      ]
     },
     "execution_count": 6,
     "metadata": {},
     "output_type": "execute_result"
    }
   ],
   "source": [
    "w.Latitude"
   ]
  },
  {
   "cell_type": "markdown",
   "id": "3aac0e7d",
   "metadata": {},
   "source": [
    "Look at limits on latitude and longitude. These fit with the station names, which are from all over the state of New York. I will likelywant to limit to just stations in NYC."
   ]
  },
  {
   "cell_type": "code",
   "execution_count": 13,
   "id": "126e76fd",
   "metadata": {},
   "outputs": [
    {
     "name": "stdout",
     "output_type": "stream",
     "text": [
      "40.639\n",
      "44.936\n"
     ]
    }
   ],
   "source": [
    "print(np.min(w.Latitude))\n",
    "print(np.max(w.Latitude))"
   ]
  },
  {
   "cell_type": "markdown",
   "id": "d55d9148",
   "metadata": {},
   "source": [
    "Look at limits on temperature. These numbers must be in Fahrenheit."
   ]
  },
  {
   "cell_type": "code",
   "execution_count": 20,
   "id": "e644e1b7",
   "metadata": {},
   "outputs": [
    {
     "name": "stdout",
     "output_type": "stream",
     "text": [
      "-36.9\n",
      "87.8\n"
     ]
    }
   ],
   "source": [
    "print(np.min(w.MinTemp))\n",
    "print(np.max(w.MinTemp))"
   ]
  },
  {
   "cell_type": "code",
   "execution_count": null,
   "id": "fcffa5d9",
   "metadata": {},
   "outputs": [],
   "source": []
  }
 ],
 "metadata": {
  "kernelspec": {
   "display_name": "Python 3 (ipykernel)",
   "language": "python",
   "name": "python3"
  },
  "language_info": {
   "codemirror_mode": {
    "name": "ipython",
    "version": 3
   },
   "file_extension": ".py",
   "mimetype": "text/x-python",
   "name": "python",
   "nbconvert_exporter": "python",
   "pygments_lexer": "ipython3",
   "version": "3.10.11"
  }
 },
 "nbformat": 4,
 "nbformat_minor": 5
}
