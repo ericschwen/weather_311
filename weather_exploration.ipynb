{
 "cells": [
  {
   "cell_type": "code",
   "execution_count": 96,
   "id": "8fd02185",
   "metadata": {},
   "outputs": [],
   "source": [
    "import numpy as np\n",
    "import pandas as pd\n",
    "import matplotlib as mpl\n",
    "import matplotlib.pyplot as plt"
   ]
  },
  {
   "cell_type": "code",
   "execution_count": 97,
   "id": "0d984a89",
   "metadata": {},
   "outputs": [],
   "source": [
    "weather_path = 'weather_NY_2010_2018Nov.csv'\n",
    "w = pd.read_csv(weather_path)"
   ]
  },
  {
   "cell_type": "code",
   "execution_count": 98,
   "id": "33c4b631",
   "metadata": {},
   "outputs": [
    {
     "data": {
      "text/html": [
       "<div>\n",
       "<style scoped>\n",
       "    .dataframe tbody tr th:only-of-type {\n",
       "        vertical-align: middle;\n",
       "    }\n",
       "\n",
       "    .dataframe tbody tr th {\n",
       "        vertical-align: top;\n",
       "    }\n",
       "\n",
       "    .dataframe thead th {\n",
       "        text-align: right;\n",
       "    }\n",
       "</style>\n",
       "<table border=\"1\" class=\"dataframe\">\n",
       "  <thead>\n",
       "    <tr style=\"text-align: right;\">\n",
       "      <th></th>\n",
       "      <th>USAF</th>\n",
       "      <th>WBAN</th>\n",
       "      <th>StationName</th>\n",
       "      <th>State</th>\n",
       "      <th>Latitude</th>\n",
       "      <th>Longitude</th>\n",
       "      <th>MeanTemp</th>\n",
       "      <th>MinTemp</th>\n",
       "      <th>MaxTemp</th>\n",
       "      <th>DewPoint</th>\n",
       "      <th>Percipitation</th>\n",
       "      <th>WindSpeed</th>\n",
       "      <th>MaxSustainedWind</th>\n",
       "      <th>Gust</th>\n",
       "      <th>Rain</th>\n",
       "      <th>SnowDepth</th>\n",
       "      <th>SnowIce</th>\n",
       "      <th>Year</th>\n",
       "      <th>Month</th>\n",
       "      <th>Day</th>\n",
       "    </tr>\n",
       "  </thead>\n",
       "  <tbody>\n",
       "    <tr>\n",
       "      <th>0</th>\n",
       "      <td>726228</td>\n",
       "      <td>94740</td>\n",
       "      <td>ADIRONDACK REGIONAL ARPT</td>\n",
       "      <td>NY</td>\n",
       "      <td>44.385</td>\n",
       "      <td>-74.207</td>\n",
       "      <td>27.6</td>\n",
       "      <td>24.8</td>\n",
       "      <td>30.9</td>\n",
       "      <td>25.0</td>\n",
       "      <td>0.07</td>\n",
       "      <td>1.3</td>\n",
       "      <td>6.0</td>\n",
       "      <td>NaN</td>\n",
       "      <td>0</td>\n",
       "      <td>NaN</td>\n",
       "      <td>1</td>\n",
       "      <td>2010</td>\n",
       "      <td>1</td>\n",
       "      <td>1</td>\n",
       "    </tr>\n",
       "    <tr>\n",
       "      <th>1</th>\n",
       "      <td>726228</td>\n",
       "      <td>94740</td>\n",
       "      <td>ADIRONDACK REGIONAL ARPT</td>\n",
       "      <td>NY</td>\n",
       "      <td>44.385</td>\n",
       "      <td>-74.207</td>\n",
       "      <td>-3.2</td>\n",
       "      <td>-20.9</td>\n",
       "      <td>17.1</td>\n",
       "      <td>-9.6</td>\n",
       "      <td>0.00</td>\n",
       "      <td>3.3</td>\n",
       "      <td>9.9</td>\n",
       "      <td>NaN</td>\n",
       "      <td>0</td>\n",
       "      <td>NaN</td>\n",
       "      <td>1</td>\n",
       "      <td>2010</td>\n",
       "      <td>1</td>\n",
       "      <td>10</td>\n",
       "    </tr>\n",
       "    <tr>\n",
       "      <th>2</th>\n",
       "      <td>726228</td>\n",
       "      <td>94740</td>\n",
       "      <td>ADIRONDACK REGIONAL ARPT</td>\n",
       "      <td>NY</td>\n",
       "      <td>44.385</td>\n",
       "      <td>-74.207</td>\n",
       "      <td>20.9</td>\n",
       "      <td>17.1</td>\n",
       "      <td>24.1</td>\n",
       "      <td>15.1</td>\n",
       "      <td>0.00</td>\n",
       "      <td>6.8</td>\n",
       "      <td>12.0</td>\n",
       "      <td>19.0</td>\n",
       "      <td>0</td>\n",
       "      <td>NaN</td>\n",
       "      <td>1</td>\n",
       "      <td>2010</td>\n",
       "      <td>1</td>\n",
       "      <td>11</td>\n",
       "    </tr>\n",
       "    <tr>\n",
       "      <th>3</th>\n",
       "      <td>726228</td>\n",
       "      <td>94740</td>\n",
       "      <td>ADIRONDACK REGIONAL ARPT</td>\n",
       "      <td>NY</td>\n",
       "      <td>44.385</td>\n",
       "      <td>-74.207</td>\n",
       "      <td>13.8</td>\n",
       "      <td>5.0</td>\n",
       "      <td>19.9</td>\n",
       "      <td>8.5</td>\n",
       "      <td>NaN</td>\n",
       "      <td>4.4</td>\n",
       "      <td>8.0</td>\n",
       "      <td>15.9</td>\n",
       "      <td>0</td>\n",
       "      <td>NaN</td>\n",
       "      <td>1</td>\n",
       "      <td>2010</td>\n",
       "      <td>1</td>\n",
       "      <td>12</td>\n",
       "    </tr>\n",
       "    <tr>\n",
       "      <th>4</th>\n",
       "      <td>726228</td>\n",
       "      <td>94740</td>\n",
       "      <td>ADIRONDACK REGIONAL ARPT</td>\n",
       "      <td>NY</td>\n",
       "      <td>44.385</td>\n",
       "      <td>-74.207</td>\n",
       "      <td>6.3</td>\n",
       "      <td>-8.0</td>\n",
       "      <td>19.0</td>\n",
       "      <td>1.9</td>\n",
       "      <td>0.00</td>\n",
       "      <td>3.3</td>\n",
       "      <td>5.1</td>\n",
       "      <td>NaN</td>\n",
       "      <td>0</td>\n",
       "      <td>NaN</td>\n",
       "      <td>1</td>\n",
       "      <td>2010</td>\n",
       "      <td>1</td>\n",
       "      <td>13</td>\n",
       "    </tr>\n",
       "  </tbody>\n",
       "</table>\n",
       "</div>"
      ],
      "text/plain": [
       "     USAF   WBAN               StationName State  Latitude  Longitude  \\\n",
       "0  726228  94740  ADIRONDACK REGIONAL ARPT    NY    44.385    -74.207   \n",
       "1  726228  94740  ADIRONDACK REGIONAL ARPT    NY    44.385    -74.207   \n",
       "2  726228  94740  ADIRONDACK REGIONAL ARPT    NY    44.385    -74.207   \n",
       "3  726228  94740  ADIRONDACK REGIONAL ARPT    NY    44.385    -74.207   \n",
       "4  726228  94740  ADIRONDACK REGIONAL ARPT    NY    44.385    -74.207   \n",
       "\n",
       "   MeanTemp  MinTemp  MaxTemp  DewPoint  Percipitation  WindSpeed  \\\n",
       "0      27.6     24.8     30.9      25.0           0.07        1.3   \n",
       "1      -3.2    -20.9     17.1      -9.6           0.00        3.3   \n",
       "2      20.9     17.1     24.1      15.1           0.00        6.8   \n",
       "3      13.8      5.0     19.9       8.5            NaN        4.4   \n",
       "4       6.3     -8.0     19.0       1.9           0.00        3.3   \n",
       "\n",
       "   MaxSustainedWind  Gust  Rain  SnowDepth  SnowIce  Year  Month  Day  \n",
       "0               6.0   NaN     0        NaN        1  2010      1    1  \n",
       "1               9.9   NaN     0        NaN        1  2010      1   10  \n",
       "2              12.0  19.0     0        NaN        1  2010      1   11  \n",
       "3               8.0  15.9     0        NaN        1  2010      1   12  \n",
       "4               5.1   NaN     0        NaN        1  2010      1   13  "
      ]
     },
     "execution_count": 98,
     "metadata": {},
     "output_type": "execute_result"
    }
   ],
   "source": [
    "w.head()"
   ]
  },
  {
   "cell_type": "code",
   "execution_count": 99,
   "id": "6f24375b",
   "metadata": {},
   "outputs": [
    {
     "data": {
      "text/plain": [
       "160775"
      ]
     },
     "execution_count": 99,
     "metadata": {},
     "output_type": "execute_result"
    }
   ],
   "source": [
    "len(w)"
   ]
  },
  {
   "cell_type": "code",
   "execution_count": 101,
   "id": "8f2f33ac",
   "metadata": {},
   "outputs": [
    {
     "data": {
      "text/plain": [
       "USAF                                  726228\n",
       "WBAN                                   94740\n",
       "StationName         ADIRONDACK REGIONAL ARPT\n",
       "State                                     NY\n",
       "Latitude                              44.385\n",
       "Longitude                            -74.207\n",
       "MeanTemp                                27.6\n",
       "MinTemp                                 24.8\n",
       "MaxTemp                                 30.9\n",
       "DewPoint                                25.0\n",
       "Percipitation                           0.07\n",
       "WindSpeed                                1.3\n",
       "MaxSustainedWind                         6.0\n",
       "Gust                                     NaN\n",
       "Rain                                       0\n",
       "SnowDepth                                NaN\n",
       "SnowIce                                    1\n",
       "Year                                    2010\n",
       "Month                                      1\n",
       "Day                                        1\n",
       "Name: 0, dtype: object"
      ]
     },
     "execution_count": 101,
     "metadata": {},
     "output_type": "execute_result"
    }
   ],
   "source": [
    "w.loc[0]"
   ]
  },
  {
   "cell_type": "markdown",
   "id": "0ab4c5d7",
   "metadata": {},
   "source": [
    "Make smaller dataframe (for testing purposes)."
   ]
  },
  {
   "cell_type": "code",
   "execution_count": 102,
   "id": "519712d6",
   "metadata": {},
   "outputs": [],
   "source": [
    "w.loc[0:99].to_csv('weather_abridged.csv', index=False)"
   ]
  },
  {
   "cell_type": "code",
   "execution_count": 103,
   "id": "98e49a99",
   "metadata": {},
   "outputs": [],
   "source": [
    "wab = pd.read_csv('weather_abridged.csv')\n",
    "#wab = pd.read_csv('weather_abridged.csv', dtype = {'StationName':'string'}) # can specify dtype for individual columns"
   ]
  },
  {
   "cell_type": "markdown",
   "id": "de16654b",
   "metadata": {},
   "source": [
    "Convert date information into one datetime64 column (which I can use for convenient comparison)."
   ]
  },
  {
   "cell_type": "code",
   "execution_count": 117,
   "id": "0038ca8b",
   "metadata": {},
   "outputs": [
    {
     "name": "stderr",
     "output_type": "stream",
     "text": [
      "C:\\Users\\erics\\AppData\\Local\\Temp\\ipykernel_3884\\1908940965.py:1: DeprecationWarning: In a future version, `df.iloc[:, i] = newvals` will attempt to set the values inplace instead of always setting a new array. To retain the old behavior, use either `df[df.columns[i]] = newvals` or, if columns are non-unique, `df.isetitem(i, newvals)`\n",
      "  w.loc[:, 'Date'] = pd.to_datetime(w.loc[:, ['Year', 'Month', 'Day']])\n"
     ]
    }
   ],
   "source": [
    "w.loc[:, 'Date'] = pd.to_datetime(w.loc[:, ['Year', 'Month', 'Day']])"
   ]
  },
  {
   "cell_type": "markdown",
   "id": "a893e802",
   "metadata": {},
   "source": [
    "Create dataframe with date restricted to between 2016 and 2018 (to compare with 311 calls data)."
   ]
  },
  {
   "cell_type": "code",
   "execution_count": 167,
   "id": "a5de2b2c",
   "metadata": {},
   "outputs": [],
   "source": [
    "wd = w.loc[(w['Date']>=np.datetime64('2016')) & (w['Date']<np.datetime64('2019'))]"
   ]
  },
  {
   "cell_type": "code",
   "execution_count": 168,
   "id": "05e5c5ec",
   "metadata": {},
   "outputs": [
    {
     "name": "stdout",
     "output_type": "stream",
     "text": [
      "Min Date:  2016-01-01 00:00:00\n",
      "Max Date:  2018-11-12 00:00:00\n"
     ]
    }
   ],
   "source": [
    "print('Min Date: ', np.min(wd.Date))\n",
    "print('Max Date: ', np.max(wd.Date))"
   ]
  },
  {
   "cell_type": "code",
   "execution_count": 169,
   "id": "54e15867",
   "metadata": {},
   "outputs": [
    {
     "data": {
      "text/plain": [
       "51329"
      ]
     },
     "execution_count": 169,
     "metadata": {},
     "output_type": "execute_result"
    }
   ],
   "source": [
    "len(wd)"
   ]
  },
  {
   "cell_type": "markdown",
   "id": "279a7907",
   "metadata": {},
   "source": [
    "It looks like our weather data only goes through November 12 of 2018."
   ]
  },
  {
   "cell_type": "markdown",
   "id": "3aac0e7d",
   "metadata": {},
   "source": [
    "Look at limits on latitude and longitude. These fit with the station names, which are from all over the state of New York. I will likely want to limit to just stations in NYC."
   ]
  },
  {
   "cell_type": "code",
   "execution_count": 170,
   "id": "126e76fd",
   "metadata": {},
   "outputs": [
    {
     "name": "stdout",
     "output_type": "stream",
     "text": [
      "Min Latitude:  40.639\n",
      "Max Latitude:  44.936\n"
     ]
    }
   ],
   "source": [
    "print('Min Latitude: ', np.min(wd.Latitude))\n",
    "print('Max Latitude: ', np.max(wd.Latitude))"
   ]
  },
  {
   "cell_type": "markdown",
   "id": "40be429b",
   "metadata": {},
   "source": [
    "From checking the 311 data, I know the minimum and maximum latitude and longitude values for calls to be:"
   ]
  },
  {
   "cell_type": "code",
   "execution_count": 171,
   "id": "1f09a0cb",
   "metadata": {},
   "outputs": [],
   "source": [
    "min_311_lat = 40.49804421521046\n",
    "max_311_lat = 40.91294056699566\n",
    "min_311_long = -74.25521082506387\n",
    "max_311_long = -73.70038354802529"
   ]
  },
  {
   "cell_type": "markdown",
   "id": "f07ddb50",
   "metadata": {},
   "source": [
    "Since I am trying to relate weather and 311 calls, I want to restrict the weather data I am looking at to this same region."
   ]
  },
  {
   "cell_type": "code",
   "execution_count": 172,
   "id": "b12387df",
   "metadata": {},
   "outputs": [],
   "source": [
    "wdp = wd.loc[(wdr['Latitude']>min_311_lat) & ((wd['Latitude']<max_311_lat)) &\n",
    "           ((wd['Longitude']<max_311_long)) & ((wd['Longitude']<max_311_long))]\n",
    "# Note: I could do a slightly more precise version by selecting stations, but should get largely the same results."
   ]
  },
  {
   "cell_type": "code",
   "execution_count": 173,
   "id": "410eb706",
   "metadata": {},
   "outputs": [
    {
     "data": {
      "text/plain": [
       "6417"
      ]
     },
     "execution_count": 173,
     "metadata": {},
     "output_type": "execute_result"
    }
   ],
   "source": [
    "len(wdp)"
   ]
  },
  {
   "cell_type": "markdown",
   "id": "12c35579",
   "metadata": {},
   "source": [
    "Check the stations that remain in the dataframe with restricted latitude and longitude. These make sense for NYC."
   ]
  },
  {
   "cell_type": "code",
   "execution_count": 175,
   "id": "262faa8b",
   "metadata": {},
   "outputs": [
    {
     "data": {
      "text/plain": [
       "array(['BERGEN POINT', 'CENTRAL PARK',\n",
       "       'JOHN F KENNEDY INTERNATIONAL AIRPORT', 'KINGS POINT',\n",
       "       'LA GUARDIA AIRPORT', 'PORT AUTH DOWNTN MANHATTAN WALL ST HEL',\n",
       "       'THE BATTERY'], dtype=object)"
      ]
     },
     "execution_count": 175,
     "metadata": {},
     "output_type": "execute_result"
    }
   ],
   "source": [
    "np.unique(wdp.StationName)"
   ]
  },
  {
   "cell_type": "markdown",
   "id": "e5539800",
   "metadata": {},
   "source": [
    "I don't expect too much variation in weather across NYC. For my inital modelling purposes, I will look at averages across all NYC weather stations. I could later look to see if 311 calls vary with weather on a more granualr level (by checking weather at closest weather station) but daily averages seem reasonable for now."
   ]
  },
  {
   "cell_type": "code",
   "execution_count": 191,
   "id": "c5df892c",
   "metadata": {},
   "outputs": [
    {
     "data": {
      "text/plain": [
       "10098     75.7\n",
       "21017     74.5\n",
       "68117     74.1\n",
       "71336     74.3\n",
       "74361     77.4\n",
       "123396    76.2\n",
       "150563    74.6\n",
       "Name: MeanTemp, dtype: float64"
      ]
     },
     "execution_count": 191,
     "metadata": {},
     "output_type": "execute_result"
    }
   ],
   "source": [
    "wdp.loc[wdp['Date'] == np.datetime64('2016-08-05'), 'MeanTemp']"
   ]
  },
  {
   "cell_type": "code",
   "execution_count": 193,
   "id": "1df804f7",
   "metadata": {},
   "outputs": [
    {
     "data": {
      "text/plain": [
       "55.900000000000006"
      ]
     },
     "execution_count": 193,
     "metadata": {},
     "output_type": "execute_result"
    }
   ],
   "source": [
    "np.mean(wdp.loc[wdp['Date'] == np.datetime64('2016-11-11'), 'MeanTemp'])"
   ]
  },
  {
   "cell_type": "markdown",
   "id": "d55d9148",
   "metadata": {},
   "source": [
    "Look at limits on temperature. These numbers must be in Fahrenheit."
   ]
  },
  {
   "cell_type": "code",
   "execution_count": 165,
   "id": "e644e1b7",
   "metadata": {},
   "outputs": [
    {
     "name": "stdout",
     "output_type": "stream",
     "text": [
      "-36.9\n",
      "87.8\n"
     ]
    }
   ],
   "source": [
    "print(np.min(w.MinTemp))\n",
    "print(np.max(w.MinTemp))"
   ]
  },
  {
   "cell_type": "code",
   "execution_count": null,
   "id": "fcffa5d9",
   "metadata": {},
   "outputs": [],
   "source": []
  }
 ],
 "metadata": {
  "kernelspec": {
   "display_name": "Python 3 (ipykernel)",
   "language": "python",
   "name": "python3"
  },
  "language_info": {
   "codemirror_mode": {
    "name": "ipython",
    "version": 3
   },
   "file_extension": ".py",
   "mimetype": "text/x-python",
   "name": "python",
   "nbconvert_exporter": "python",
   "pygments_lexer": "ipython3",
   "version": "3.10.11"
  }
 },
 "nbformat": 4,
 "nbformat_minor": 5
}
