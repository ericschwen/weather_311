{
 "cells": [
  {
   "cell_type": "markdown",
   "id": "0f5e5865",
   "metadata": {},
   "source": [
    "# Case study: 311 service requests.\n",
    "\n",
    "Prompt: Please describe the steps you take to ingest and process the data, what are the challenges and how you overcome them.\n",
    "\n",
    "Aggregate the 311 records in ways that best describes the characteristics of the inbound call patterns. Explain and visualize your findings. What are the implications you can infer from the patterns?\n"
   ]
  },
  {
   "cell_type": "markdown",
   "id": "68c901db",
   "metadata": {},
   "source": [
    "### Final goal of project:predict the daily 311 inbound calls for the next 7 days \n",
    "\n",
    "•\tUse your insights from previous sections to build a predictive model of your choice – explain the assumptions of your model and why you picked it.\n",
    "\n",
    "•\tWhat features are you using in your model and, how does your data exploration process help you decide which features you are incorporating in your model?\n",
    "\n",
    "•\tEvaluate the impact of weather on the call volume, find patterns and define causal impact if there’s any. \n",
    "\n",
    "•\tBuild a reasonable model framework, explain your model results, and justify the relationships identified in the model. Not necessary to dig into complex models.\n"
   ]
  },
  {
   "cell_type": "code",
   "execution_count": 1,
   "id": "fadaa444",
   "metadata": {},
   "outputs": [],
   "source": [
    "import numpy as np\n",
    "import pandas as pd\n",
    "import matplotlib as mpl\n",
    "import matplotlib.pyplot as plt\n",
    "import matplotlib.dates as mdates"
   ]
  },
  {
   "cell_type": "markdown",
   "id": "44cd1052",
   "metadata": {},
   "source": [
    "Import data. Note that this takes a couple of minutes due to the large file size."
   ]
  },
  {
   "cell_type": "code",
   "execution_count": 2,
   "id": "80296e4f",
   "metadata": {},
   "outputs": [],
   "source": [
    "c_path = '311-2016-2018.csv'\n",
    "c = pd.read_csv(c_path, low_memory=False)\n",
    "# Could parse dates during input here. I've done so later instead.\n",
    "c = pd.read_csv(c_path, parse_dates=['Created Date', 'Closed Date', 'Resolution Action Updated Date'],low_memory=False)"
   ]
  },
  {
   "cell_type": "markdown",
   "id": "b3541092",
   "metadata": {},
   "source": [
    "Get an initial impression of the table we are working with."
   ]
  },
  {
   "cell_type": "code",
   "execution_count": 3,
   "id": "a3baaa90",
   "metadata": {},
   "outputs": [
    {
     "data": {
      "text/html": [
       "<div>\n",
       "<style scoped>\n",
       "    .dataframe tbody tr th:only-of-type {\n",
       "        vertical-align: middle;\n",
       "    }\n",
       "\n",
       "    .dataframe tbody tr th {\n",
       "        vertical-align: top;\n",
       "    }\n",
       "\n",
       "    .dataframe thead th {\n",
       "        text-align: right;\n",
       "    }\n",
       "</style>\n",
       "<table border=\"1\" class=\"dataframe\">\n",
       "  <thead>\n",
       "    <tr style=\"text-align: right;\">\n",
       "      <th></th>\n",
       "      <th>Unique Key</th>\n",
       "      <th>Created Date</th>\n",
       "      <th>Closed Date</th>\n",
       "      <th>Agency</th>\n",
       "      <th>Agency Name</th>\n",
       "      <th>Complaint Type</th>\n",
       "      <th>Descriptor</th>\n",
       "      <th>Location Type</th>\n",
       "      <th>Incident Zip</th>\n",
       "      <th>Incident Address</th>\n",
       "      <th>...</th>\n",
       "      <th>Taxi Company Borough</th>\n",
       "      <th>Taxi Pick Up Location</th>\n",
       "      <th>Bridge Highway Name</th>\n",
       "      <th>Bridge Highway Direction</th>\n",
       "      <th>Road Ramp</th>\n",
       "      <th>Bridge Highway Segment</th>\n",
       "      <th>Latitude</th>\n",
       "      <th>Longitude</th>\n",
       "      <th>Location</th>\n",
       "      <th>Created Year</th>\n",
       "    </tr>\n",
       "  </thead>\n",
       "  <tbody>\n",
       "    <tr>\n",
       "      <th>0</th>\n",
       "      <td>38237851</td>\n",
       "      <td>01/17/2018 02:39:00 PM</td>\n",
       "      <td>01/24/2018 12:00:00 AM</td>\n",
       "      <td>DSNY</td>\n",
       "      <td>Department of Sanitation</td>\n",
       "      <td>Request Large Bulky Item Collection</td>\n",
       "      <td>Request Large Bulky Item Collection</td>\n",
       "      <td>Sidewalk</td>\n",
       "      <td>11222</td>\n",
       "      <td>95 GREENPOINT AVENUE</td>\n",
       "      <td>...</td>\n",
       "      <td>NaN</td>\n",
       "      <td>NaN</td>\n",
       "      <td>NaN</td>\n",
       "      <td>NaN</td>\n",
       "      <td>NaN</td>\n",
       "      <td>NaN</td>\n",
       "      <td>40.730013</td>\n",
       "      <td>-73.956267</td>\n",
       "      <td>(40.73001299919553, -73.95626650502489)</td>\n",
       "      <td>2018.0</td>\n",
       "    </tr>\n",
       "    <tr>\n",
       "      <th>1</th>\n",
       "      <td>38237852</td>\n",
       "      <td>01/17/2018 01:40:00 PM</td>\n",
       "      <td>01/21/2018 12:00:00 AM</td>\n",
       "      <td>DSNY</td>\n",
       "      <td>Department of Sanitation</td>\n",
       "      <td>Request Large Bulky Item Collection</td>\n",
       "      <td>Request Large Bulky Item Collection</td>\n",
       "      <td>Sidewalk</td>\n",
       "      <td>10308</td>\n",
       "      <td>40 ASHWOOD COURT</td>\n",
       "      <td>...</td>\n",
       "      <td>NaN</td>\n",
       "      <td>NaN</td>\n",
       "      <td>NaN</td>\n",
       "      <td>NaN</td>\n",
       "      <td>NaN</td>\n",
       "      <td>NaN</td>\n",
       "      <td>40.558494</td>\n",
       "      <td>-74.141962</td>\n",
       "      <td>(40.558494382393974, -74.14196245468202)</td>\n",
       "      <td>2018.0</td>\n",
       "    </tr>\n",
       "    <tr>\n",
       "      <th>2</th>\n",
       "      <td>38237855</td>\n",
       "      <td>01/17/2018 10:42:00 PM</td>\n",
       "      <td>01/20/2018 10:02:00 PM</td>\n",
       "      <td>DSNY</td>\n",
       "      <td>Department of Sanitation</td>\n",
       "      <td>Request Large Bulky Item Collection</td>\n",
       "      <td>Request Large Bulky Item Collection</td>\n",
       "      <td>Sidewalk</td>\n",
       "      <td>11361</td>\n",
       "      <td>204-36 47 ROAD</td>\n",
       "      <td>...</td>\n",
       "      <td>NaN</td>\n",
       "      <td>NaN</td>\n",
       "      <td>NaN</td>\n",
       "      <td>NaN</td>\n",
       "      <td>NaN</td>\n",
       "      <td>NaN</td>\n",
       "      <td>40.754075</td>\n",
       "      <td>-73.775594</td>\n",
       "      <td>(40.75407455058778, -73.77559379608053)</td>\n",
       "      <td>2018.0</td>\n",
       "    </tr>\n",
       "    <tr>\n",
       "      <th>3</th>\n",
       "      <td>38237856</td>\n",
       "      <td>01/17/2018 07:26:00 PM</td>\n",
       "      <td>01/19/2018 12:00:00 AM</td>\n",
       "      <td>DSNY</td>\n",
       "      <td>Department of Sanitation</td>\n",
       "      <td>Request Large Bulky Item Collection</td>\n",
       "      <td>Request Large Bulky Item Collection</td>\n",
       "      <td>Sidewalk</td>\n",
       "      <td>10467</td>\n",
       "      <td>3851 BARNES AVENUE</td>\n",
       "      <td>...</td>\n",
       "      <td>NaN</td>\n",
       "      <td>NaN</td>\n",
       "      <td>NaN</td>\n",
       "      <td>NaN</td>\n",
       "      <td>NaN</td>\n",
       "      <td>NaN</td>\n",
       "      <td>40.884181</td>\n",
       "      <td>-73.859111</td>\n",
       "      <td>(40.88418051177941, -73.85911054646147)</td>\n",
       "      <td>2018.0</td>\n",
       "    </tr>\n",
       "    <tr>\n",
       "      <th>4</th>\n",
       "      <td>38237857</td>\n",
       "      <td>01/17/2018 07:13:00 PM</td>\n",
       "      <td>01/20/2018 07:41:00 PM</td>\n",
       "      <td>DSNY</td>\n",
       "      <td>Department of Sanitation</td>\n",
       "      <td>Request Large Bulky Item Collection</td>\n",
       "      <td>Request Large Bulky Item Collection</td>\n",
       "      <td>Sidewalk</td>\n",
       "      <td>11215</td>\n",
       "      <td>160 7 AVENUE</td>\n",
       "      <td>...</td>\n",
       "      <td>NaN</td>\n",
       "      <td>NaN</td>\n",
       "      <td>NaN</td>\n",
       "      <td>NaN</td>\n",
       "      <td>NaN</td>\n",
       "      <td>NaN</td>\n",
       "      <td>40.672113</td>\n",
       "      <td>-73.977242</td>\n",
       "      <td>(40.67211272839247, -73.97724198791173)</td>\n",
       "      <td>2018.0</td>\n",
       "    </tr>\n",
       "  </tbody>\n",
       "</table>\n",
       "<p>5 rows × 42 columns</p>\n",
       "</div>"
      ],
      "text/plain": [
       "   Unique Key            Created Date             Closed Date Agency  \\\n",
       "0    38237851  01/17/2018 02:39:00 PM  01/24/2018 12:00:00 AM   DSNY   \n",
       "1    38237852  01/17/2018 01:40:00 PM  01/21/2018 12:00:00 AM   DSNY   \n",
       "2    38237855  01/17/2018 10:42:00 PM  01/20/2018 10:02:00 PM   DSNY   \n",
       "3    38237856  01/17/2018 07:26:00 PM  01/19/2018 12:00:00 AM   DSNY   \n",
       "4    38237857  01/17/2018 07:13:00 PM  01/20/2018 07:41:00 PM   DSNY   \n",
       "\n",
       "                Agency Name                       Complaint Type  \\\n",
       "0  Department of Sanitation  Request Large Bulky Item Collection   \n",
       "1  Department of Sanitation  Request Large Bulky Item Collection   \n",
       "2  Department of Sanitation  Request Large Bulky Item Collection   \n",
       "3  Department of Sanitation  Request Large Bulky Item Collection   \n",
       "4  Department of Sanitation  Request Large Bulky Item Collection   \n",
       "\n",
       "                            Descriptor Location Type Incident Zip  \\\n",
       "0  Request Large Bulky Item Collection      Sidewalk        11222   \n",
       "1  Request Large Bulky Item Collection      Sidewalk        10308   \n",
       "2  Request Large Bulky Item Collection      Sidewalk        11361   \n",
       "3  Request Large Bulky Item Collection      Sidewalk        10467   \n",
       "4  Request Large Bulky Item Collection      Sidewalk        11215   \n",
       "\n",
       "       Incident Address  ... Taxi Company Borough Taxi Pick Up Location  \\\n",
       "0  95 GREENPOINT AVENUE  ...                  NaN                   NaN   \n",
       "1      40 ASHWOOD COURT  ...                  NaN                   NaN   \n",
       "2        204-36 47 ROAD  ...                  NaN                   NaN   \n",
       "3    3851 BARNES AVENUE  ...                  NaN                   NaN   \n",
       "4          160 7 AVENUE  ...                  NaN                   NaN   \n",
       "\n",
       "  Bridge Highway Name Bridge Highway Direction Road Ramp  \\\n",
       "0                 NaN                      NaN       NaN   \n",
       "1                 NaN                      NaN       NaN   \n",
       "2                 NaN                      NaN       NaN   \n",
       "3                 NaN                      NaN       NaN   \n",
       "4                 NaN                      NaN       NaN   \n",
       "\n",
       "  Bridge Highway Segment   Latitude  Longitude  \\\n",
       "0                    NaN  40.730013 -73.956267   \n",
       "1                    NaN  40.558494 -74.141962   \n",
       "2                    NaN  40.754075 -73.775594   \n",
       "3                    NaN  40.884181 -73.859111   \n",
       "4                    NaN  40.672113 -73.977242   \n",
       "\n",
       "                                   Location Created Year  \n",
       "0   (40.73001299919553, -73.95626650502489)       2018.0  \n",
       "1  (40.558494382393974, -74.14196245468202)       2018.0  \n",
       "2   (40.75407455058778, -73.77559379608053)       2018.0  \n",
       "3   (40.88418051177941, -73.85911054646147)       2018.0  \n",
       "4   (40.67211272839247, -73.97724198791173)       2018.0  \n",
       "\n",
       "[5 rows x 42 columns]"
      ]
     },
     "execution_count": 3,
     "metadata": {},
     "output_type": "execute_result"
    }
   ],
   "source": [
    "c.head()"
   ]
  },
  {
   "cell_type": "markdown",
   "id": "2059dd40",
   "metadata": {},
   "source": [
    "Look at a single row to see what columns exist and what data types there are. Many entries are NaN, which is likely going to be true quite often.\n",
    "\n",
    "Many of these variables probalby aren't that interesting for predicting how many calls there are or relating to weather.\n",
    "Created Date is certainly of interest, and is what I will start with.\n",
    "\n",
    "I could also group by Agency, Borough, Incident Zip, Location (as determined by latitude and longitude), Location type, or Complaint type (though there are a couple hundred different complaint types as I find below). I could certainly imagine complaint type or complaint agency changes with season and weather (garbage is stinky in the summer, snow complaints are only going to be in the winter, etc.)"
   ]
  },
  {
   "cell_type": "code",
   "execution_count": 118,
   "id": "c99e4846",
   "metadata": {},
   "outputs": [
    {
     "data": {
      "text/plain": [
       "Unique Key                                                       38237851\n",
       "Created Date                                          2018-01-17 14:39:00\n",
       "Closed Date                                        01/24/2018 12:00:00 AM\n",
       "Agency                                                               DSNY\n",
       "Agency Name                                      Department of Sanitation\n",
       "Complaint Type                        Request Large Bulky Item Collection\n",
       "Descriptor                            Request Large Bulky Item Collection\n",
       "Location Type                                                    Sidewalk\n",
       "Incident Zip                                                        11222\n",
       "Incident Address                                     95 GREENPOINT AVENUE\n",
       "Street Name                                             GREENPOINT AVENUE\n",
       "Cross Street 1                                            FRANKLIN STREET\n",
       "Cross Street 2                                           MANHATTAN AVENUE\n",
       "Intersection Street 1                                                 NaN\n",
       "Intersection Street 2                                                 NaN\n",
       "Address Type                                                      ADDRESS\n",
       "City                                                             BROOKLYN\n",
       "Landmark                                                              NaN\n",
       "Facility Type                                                         NaN\n",
       "Status                                                             Closed\n",
       "Due Date                                                              NaN\n",
       "Resolution Description                                                NaN\n",
       "Resolution Action Updated Date                     01/24/2018 12:00:00 AM\n",
       "Community Board                                               01 BROOKLYN\n",
       "BBL                                                            3025580072\n",
       "Borough                                                          BROOKLYN\n",
       "X Coordinate (State Plane)                                       996371.0\n",
       "Y Coordinate (State Plane)                                       205243.0\n",
       "Open Data Channel Type                                              PHONE\n",
       "Park Facility Name                                            Unspecified\n",
       "Park Borough                                                     BROOKLYN\n",
       "Vehicle Type                                                          NaN\n",
       "Taxi Company Borough                                                  NaN\n",
       "Taxi Pick Up Location                                                 NaN\n",
       "Bridge Highway Name                                                   NaN\n",
       "Bridge Highway Direction                                              NaN\n",
       "Road Ramp                                                             NaN\n",
       "Bridge Highway Segment                                                NaN\n",
       "Latitude                                                        40.730013\n",
       "Longitude                                                      -73.956267\n",
       "Location                          (40.73001299919553, -73.95626650502489)\n",
       "Created Year                                                       2018.0\n",
       "Name: 0, dtype: object"
      ]
     },
     "execution_count": 118,
     "metadata": {},
     "output_type": "execute_result"
    }
   ],
   "source": [
    "c.iloc[0,:]"
   ]
  },
  {
   "cell_type": "code",
   "execution_count": 120,
   "id": "cb29a705",
   "metadata": {},
   "outputs": [],
   "source": [
    "#Create abidged dataframe for testing\n",
    "c.loc[0:99].to_csv('311_abridged.csv', index=False)\n",
    "cab = pd.read_csv('311_abridged.csv')"
   ]
  },
  {
   "cell_type": "markdown",
   "id": "db54004d",
   "metadata": {},
   "source": [
    "Convert date columns to datetime64 type for use in comparing dates."
   ]
  },
  {
   "cell_type": "code",
   "execution_count": 6,
   "id": "1b046682",
   "metadata": {},
   "outputs": [],
   "source": [
    "c['Created Date'] = c['Created Date'].astype('datetime64')\n",
    "\n",
    "# # Closed date should also be converted to datetime64 format, but I likely won't use it for anything.\n",
    "#c['Closed Date'] = c['Closed Date'].astype('datetime64') "
   ]
  },
  {
   "cell_type": "markdown",
   "id": "3dadc2ac",
   "metadata": {},
   "source": [
    "Check that the datetime conversion is working correctly."
   ]
  },
  {
   "cell_type": "code",
   "execution_count": 121,
   "id": "efa76b64",
   "metadata": {},
   "outputs": [
    {
     "data": {
      "text/plain": [
       "0     01/17/2018 02:39:00 PM\n",
       "1     01/17/2018 01:40:00 PM\n",
       "2     01/17/2018 10:42:00 PM\n",
       "3     01/17/2018 07:26:00 PM\n",
       "4     01/17/2018 07:13:00 PM\n",
       "               ...          \n",
       "95    01/17/2018 07:13:09 AM\n",
       "96    01/17/2018 05:20:44 PM\n",
       "97    01/17/2018 09:32:00 AM\n",
       "98    01/17/2018 10:21:51 AM\n",
       "99    01/17/2018 09:27:38 PM\n",
       "Name: Created Date, Length: 100, dtype: object"
      ]
     },
     "execution_count": 121,
     "metadata": {},
     "output_type": "execute_result"
    }
   ],
   "source": [
    "cab['Created Date']"
   ]
  },
  {
   "cell_type": "code",
   "execution_count": 122,
   "id": "476e6b02",
   "metadata": {},
   "outputs": [
    {
     "data": {
      "text/plain": [
       "0    2018-01-17 14:39:00\n",
       "1    2018-01-17 13:40:00\n",
       "2    2018-01-17 22:42:00\n",
       "3    2018-01-17 19:26:00\n",
       "4    2018-01-17 19:13:00\n",
       "             ...        \n",
       "95   2018-01-17 07:13:09\n",
       "96   2018-01-17 17:20:44\n",
       "97   2018-01-17 09:32:00\n",
       "98   2018-01-17 10:21:51\n",
       "99   2018-01-17 21:27:38\n",
       "Name: Created Date, Length: 100, dtype: datetime64[ns]"
      ]
     },
     "execution_count": 122,
     "metadata": {},
     "output_type": "execute_result"
    }
   ],
   "source": [
    "c.loc[0:99,'Created Date']"
   ]
  },
  {
   "cell_type": "code",
   "execution_count": 10,
   "id": "7cdd1bc8",
   "metadata": {},
   "outputs": [
    {
     "data": {
      "text/plain": [
       "Unique Key                                 int64\n",
       "Created Date                      datetime64[ns]\n",
       "Closed Date                               object\n",
       "Agency                                    object\n",
       "Agency Name                               object\n",
       "Complaint Type                            object\n",
       "Descriptor                                object\n",
       "Location Type                             object\n",
       "Incident Zip                             float64\n",
       "Incident Address                          object\n",
       "Street Name                               object\n",
       "Cross Street 1                            object\n",
       "Cross Street 2                            object\n",
       "Intersection Street 1                     object\n",
       "Intersection Street 2                     object\n",
       "Address Type                              object\n",
       "City                                      object\n",
       "Landmark                                 float64\n",
       "Facility Type                             object\n",
       "Status                                    object\n",
       "Due Date                                  object\n",
       "Resolution Description                    object\n",
       "Resolution Action Updated Date            object\n",
       "Community Board                           object\n",
       "BBL                                      float64\n",
       "Borough                                   object\n",
       "X Coordinate (State Plane)               float64\n",
       "Y Coordinate (State Plane)               float64\n",
       "Open Data Channel Type                    object\n",
       "Park Facility Name                        object\n",
       "Park Borough                              object\n",
       "Vehicle Type                             float64\n",
       "Taxi Company Borough                     float64\n",
       "Taxi Pick Up Location                    float64\n",
       "Bridge Highway Name                       object\n",
       "Bridge Highway Direction                  object\n",
       "Road Ramp                                 object\n",
       "Bridge Highway Segment                    object\n",
       "Latitude                                 float64\n",
       "Longitude                                float64\n",
       "Location                                  object\n",
       "Created Year                             float64\n",
       "dtype: object"
      ]
     },
     "execution_count": 10,
     "metadata": {},
     "output_type": "execute_result"
    }
   ],
   "source": [
    "cab.dtypes"
   ]
  },
  {
   "cell_type": "code",
   "execution_count": 11,
   "id": "b6c0ad54",
   "metadata": {},
   "outputs": [
    {
     "data": {
      "text/html": [
       "<div>\n",
       "<style scoped>\n",
       "    .dataframe tbody tr th:only-of-type {\n",
       "        vertical-align: middle;\n",
       "    }\n",
       "\n",
       "    .dataframe tbody tr th {\n",
       "        vertical-align: top;\n",
       "    }\n",
       "\n",
       "    .dataframe thead th {\n",
       "        text-align: right;\n",
       "    }\n",
       "</style>\n",
       "<table border=\"1\" class=\"dataframe\">\n",
       "  <thead>\n",
       "    <tr style=\"text-align: right;\">\n",
       "      <th></th>\n",
       "      <th>Created Date</th>\n",
       "      <th>Closed Date</th>\n",
       "      <th>Agency Name</th>\n",
       "      <th>Complaint Type</th>\n",
       "    </tr>\n",
       "  </thead>\n",
       "  <tbody>\n",
       "    <tr>\n",
       "      <th>0</th>\n",
       "      <td>2018-01-17 14:39:00</td>\n",
       "      <td>01/24/2018 12:00:00 AM</td>\n",
       "      <td>Department of Sanitation</td>\n",
       "      <td>Request Large Bulky Item Collection</td>\n",
       "    </tr>\n",
       "    <tr>\n",
       "      <th>1</th>\n",
       "      <td>2018-01-17 13:40:00</td>\n",
       "      <td>01/21/2018 12:00:00 AM</td>\n",
       "      <td>Department of Sanitation</td>\n",
       "      <td>Request Large Bulky Item Collection</td>\n",
       "    </tr>\n",
       "    <tr>\n",
       "      <th>2</th>\n",
       "      <td>2018-01-17 22:42:00</td>\n",
       "      <td>01/20/2018 10:02:00 PM</td>\n",
       "      <td>Department of Sanitation</td>\n",
       "      <td>Request Large Bulky Item Collection</td>\n",
       "    </tr>\n",
       "    <tr>\n",
       "      <th>3</th>\n",
       "      <td>2018-01-17 19:26:00</td>\n",
       "      <td>01/19/2018 12:00:00 AM</td>\n",
       "      <td>Department of Sanitation</td>\n",
       "      <td>Request Large Bulky Item Collection</td>\n",
       "    </tr>\n",
       "    <tr>\n",
       "      <th>4</th>\n",
       "      <td>2018-01-17 19:13:00</td>\n",
       "      <td>01/20/2018 07:41:00 PM</td>\n",
       "      <td>Department of Sanitation</td>\n",
       "      <td>Request Large Bulky Item Collection</td>\n",
       "    </tr>\n",
       "    <tr>\n",
       "      <th>5</th>\n",
       "      <td>2018-01-17 18:58:00</td>\n",
       "      <td>01/18/2018 10:00:00 PM</td>\n",
       "      <td>Department of Sanitation</td>\n",
       "      <td>Request Large Bulky Item Collection</td>\n",
       "    </tr>\n",
       "    <tr>\n",
       "      <th>6</th>\n",
       "      <td>2018-01-17 17:01:00</td>\n",
       "      <td>01/21/2018 12:00:00 AM</td>\n",
       "      <td>Department of Sanitation</td>\n",
       "      <td>Request Large Bulky Item Collection</td>\n",
       "    </tr>\n",
       "    <tr>\n",
       "      <th>7</th>\n",
       "      <td>2018-01-17 15:28:00</td>\n",
       "      <td>01/21/2018 12:00:00 AM</td>\n",
       "      <td>Department of Sanitation</td>\n",
       "      <td>Request Large Bulky Item Collection</td>\n",
       "    </tr>\n",
       "    <tr>\n",
       "      <th>8</th>\n",
       "      <td>2018-01-17 14:30:00</td>\n",
       "      <td>01/23/2018 12:00:00 AM</td>\n",
       "      <td>Department of Sanitation</td>\n",
       "      <td>Request Large Bulky Item Collection</td>\n",
       "    </tr>\n",
       "    <tr>\n",
       "      <th>9</th>\n",
       "      <td>2018-01-17 14:29:00</td>\n",
       "      <td>01/19/2018 08:34:00 PM</td>\n",
       "      <td>Department of Sanitation</td>\n",
       "      <td>Request Large Bulky Item Collection</td>\n",
       "    </tr>\n",
       "    <tr>\n",
       "      <th>10</th>\n",
       "      <td>2018-01-17 12:54:00</td>\n",
       "      <td>01/19/2018 08:42:00 PM</td>\n",
       "      <td>Department of Sanitation</td>\n",
       "      <td>Request Large Bulky Item Collection</td>\n",
       "    </tr>\n",
       "    <tr>\n",
       "      <th>11</th>\n",
       "      <td>2018-01-17 07:02:00</td>\n",
       "      <td>01/20/2018 12:00:00 AM</td>\n",
       "      <td>Department of Sanitation</td>\n",
       "      <td>Request Large Bulky Item Collection</td>\n",
       "    </tr>\n",
       "    <tr>\n",
       "      <th>12</th>\n",
       "      <td>2018-01-17 11:21:02</td>\n",
       "      <td>NaN</td>\n",
       "      <td>Department of Health and Mental Hygiene</td>\n",
       "      <td>Indoor Sewage</td>\n",
       "    </tr>\n",
       "    <tr>\n",
       "      <th>13</th>\n",
       "      <td>2018-01-17 11:59:28</td>\n",
       "      <td>01/24/2018 05:46:10 PM</td>\n",
       "      <td>Department of Transportation</td>\n",
       "      <td>Sidewalk Condition</td>\n",
       "    </tr>\n",
       "    <tr>\n",
       "      <th>14</th>\n",
       "      <td>2018-01-17 16:10:25</td>\n",
       "      <td>01/25/2018 05:01:02 PM</td>\n",
       "      <td>Department of Transportation</td>\n",
       "      <td>Sidewalk Condition</td>\n",
       "    </tr>\n",
       "    <tr>\n",
       "      <th>15</th>\n",
       "      <td>2018-01-17 02:44:59</td>\n",
       "      <td>01/17/2018 06:13:59 AM</td>\n",
       "      <td>New York City Police Department</td>\n",
       "      <td>Illegal Parking</td>\n",
       "    </tr>\n",
       "    <tr>\n",
       "      <th>16</th>\n",
       "      <td>2018-01-17 08:01:10</td>\n",
       "      <td>01/17/2018 09:12:14 AM</td>\n",
       "      <td>New York City Police Department</td>\n",
       "      <td>Illegal Parking</td>\n",
       "    </tr>\n",
       "    <tr>\n",
       "      <th>17</th>\n",
       "      <td>2018-01-17 06:25:00</td>\n",
       "      <td>01/24/2018 12:00:00 AM</td>\n",
       "      <td>Department of Sanitation</td>\n",
       "      <td>Request Large Bulky Item Collection</td>\n",
       "    </tr>\n",
       "    <tr>\n",
       "      <th>18</th>\n",
       "      <td>2018-01-17 20:59:39</td>\n",
       "      <td>04/09/2018 04:00:34 PM</td>\n",
       "      <td>Department of Parks and Recreation</td>\n",
       "      <td>New Tree Request</td>\n",
       "    </tr>\n",
       "    <tr>\n",
       "      <th>19</th>\n",
       "      <td>2018-01-17 13:22:23</td>\n",
       "      <td>NaN</td>\n",
       "      <td>Department of Parks and Recreation</td>\n",
       "      <td>New Tree Request</td>\n",
       "    </tr>\n",
       "    <tr>\n",
       "      <th>20</th>\n",
       "      <td>2018-01-17 18:51:23</td>\n",
       "      <td>NaN</td>\n",
       "      <td>Department of Parks and Recreation</td>\n",
       "      <td>New Tree Request</td>\n",
       "    </tr>\n",
       "  </tbody>\n",
       "</table>\n",
       "</div>"
      ],
      "text/plain": [
       "          Created Date             Closed Date  \\\n",
       "0  2018-01-17 14:39:00  01/24/2018 12:00:00 AM   \n",
       "1  2018-01-17 13:40:00  01/21/2018 12:00:00 AM   \n",
       "2  2018-01-17 22:42:00  01/20/2018 10:02:00 PM   \n",
       "3  2018-01-17 19:26:00  01/19/2018 12:00:00 AM   \n",
       "4  2018-01-17 19:13:00  01/20/2018 07:41:00 PM   \n",
       "5  2018-01-17 18:58:00  01/18/2018 10:00:00 PM   \n",
       "6  2018-01-17 17:01:00  01/21/2018 12:00:00 AM   \n",
       "7  2018-01-17 15:28:00  01/21/2018 12:00:00 AM   \n",
       "8  2018-01-17 14:30:00  01/23/2018 12:00:00 AM   \n",
       "9  2018-01-17 14:29:00  01/19/2018 08:34:00 PM   \n",
       "10 2018-01-17 12:54:00  01/19/2018 08:42:00 PM   \n",
       "11 2018-01-17 07:02:00  01/20/2018 12:00:00 AM   \n",
       "12 2018-01-17 11:21:02                     NaN   \n",
       "13 2018-01-17 11:59:28  01/24/2018 05:46:10 PM   \n",
       "14 2018-01-17 16:10:25  01/25/2018 05:01:02 PM   \n",
       "15 2018-01-17 02:44:59  01/17/2018 06:13:59 AM   \n",
       "16 2018-01-17 08:01:10  01/17/2018 09:12:14 AM   \n",
       "17 2018-01-17 06:25:00  01/24/2018 12:00:00 AM   \n",
       "18 2018-01-17 20:59:39  04/09/2018 04:00:34 PM   \n",
       "19 2018-01-17 13:22:23                     NaN   \n",
       "20 2018-01-17 18:51:23                     NaN   \n",
       "\n",
       "                                Agency Name  \\\n",
       "0                  Department of Sanitation   \n",
       "1                  Department of Sanitation   \n",
       "2                  Department of Sanitation   \n",
       "3                  Department of Sanitation   \n",
       "4                  Department of Sanitation   \n",
       "5                  Department of Sanitation   \n",
       "6                  Department of Sanitation   \n",
       "7                  Department of Sanitation   \n",
       "8                  Department of Sanitation   \n",
       "9                  Department of Sanitation   \n",
       "10                 Department of Sanitation   \n",
       "11                 Department of Sanitation   \n",
       "12  Department of Health and Mental Hygiene   \n",
       "13             Department of Transportation   \n",
       "14             Department of Transportation   \n",
       "15          New York City Police Department   \n",
       "16          New York City Police Department   \n",
       "17                 Department of Sanitation   \n",
       "18       Department of Parks and Recreation   \n",
       "19       Department of Parks and Recreation   \n",
       "20       Department of Parks and Recreation   \n",
       "\n",
       "                         Complaint Type  \n",
       "0   Request Large Bulky Item Collection  \n",
       "1   Request Large Bulky Item Collection  \n",
       "2   Request Large Bulky Item Collection  \n",
       "3   Request Large Bulky Item Collection  \n",
       "4   Request Large Bulky Item Collection  \n",
       "5   Request Large Bulky Item Collection  \n",
       "6   Request Large Bulky Item Collection  \n",
       "7   Request Large Bulky Item Collection  \n",
       "8   Request Large Bulky Item Collection  \n",
       "9   Request Large Bulky Item Collection  \n",
       "10  Request Large Bulky Item Collection  \n",
       "11  Request Large Bulky Item Collection  \n",
       "12                        Indoor Sewage  \n",
       "13                   Sidewalk Condition  \n",
       "14                   Sidewalk Condition  \n",
       "15                      Illegal Parking  \n",
       "16                      Illegal Parking  \n",
       "17  Request Large Bulky Item Collection  \n",
       "18                     New Tree Request  \n",
       "19                     New Tree Request  \n",
       "20                     New Tree Request  "
      ]
     },
     "execution_count": 11,
     "metadata": {},
     "output_type": "execute_result"
    }
   ],
   "source": [
    "c.loc[:20, ['Created Date', 'Closed Date', 'Agency Name', 'Complaint Type']]"
   ]
  },
  {
   "cell_type": "markdown",
   "id": "f7aa5a30",
   "metadata": {},
   "source": [
    "Explore different complaint types that exist."
   ]
  },
  {
   "cell_type": "code",
   "execution_count": 12,
   "id": "376b6ccc",
   "metadata": {},
   "outputs": [
    {
     "data": {
      "text/plain": [
       "100              Noise - Residential\n",
       "101              Noise - Residential\n",
       "102              Noise - Residential\n",
       "103              Noise - Residential\n",
       "104              Noise - Residential\n",
       "105              Noise - Residential\n",
       "106                            Noise\n",
       "107      Non-Emergency Police Matter\n",
       "108                      Air Quality\n",
       "109                             Lead\n",
       "110                             Lead\n",
       "111                     Water System\n",
       "112                    Drug Activity\n",
       "113                            Noise\n",
       "114                            Noise\n",
       "115                 Street Condition\n",
       "116                            Noise\n",
       "117             Sanitation Condition\n",
       "118             Sanitation Condition\n",
       "119                            Sewer\n",
       "120                            Sewer\n",
       "121    Root/Sewer/Sidewalk Condition\n",
       "122          Overgrown Tree/Branches\n",
       "123               Water Conservation\n",
       "124               Water Conservation\n",
       "125               Consumer Complaint\n",
       "Name: Complaint Type, dtype: object"
      ]
     },
     "execution_count": 12,
     "metadata": {},
     "output_type": "execute_result"
    }
   ],
   "source": [
    "c.loc[100:125,'Complaint Type']"
   ]
  },
  {
   "cell_type": "code",
   "execution_count": 13,
   "id": "97251e9e",
   "metadata": {},
   "outputs": [
    {
     "name": "stdout",
     "output_type": "stream",
     "text": [
      "['AGENCY' 'APPLIANCE' 'ATF' 'Abandoned Vehicle' 'Adopt-A-Basket'\n",
      " 'Advocate - Levy' 'Advocate - Lien' 'Advocate - Other' 'Advocate - RPIE'\n",
      " 'Advocate-Business Tax' 'Advocate-Co-opCondo Abatement'\n",
      " 'Advocate-Commercial Exemptions' 'Advocate-Personal Exemptions'\n",
      " 'Advocate-Prop Class Incorrect' 'Advocate-Prop Refunds/Credits'\n",
      " 'Advocate-Property Value' 'Advocate-SCRIE/DRIE' 'Advocate-UBT'\n",
      " 'Air Quality' \"Alzheimer's Care\" 'Animal Abuse'\n",
      " 'Animal Facility - No Permit' 'Animal in a Park' 'Animal-Abuse'\n",
      " 'Asbestos' 'Asbestos/Garbage Nuisance' 'BEST/Site Safety'\n",
      " 'Beach/Pool/Sauna Complaint' 'Benefit Card Replacement'\n",
      " 'Bereavement Support Group' 'Bike Rack Condition'\n",
      " 'Bike/Roller/Skate Chronic' 'Blocked Driveway' 'Boilers' 'Borough Office'\n",
      " 'Bottled Water' 'Bridge Condition' 'Broken Muni Meter'\n",
      " 'Broken Parking Meter' 'Building Condition' 'Building Marshals office'\n",
      " 'Building/Use' 'Bus Stop Shelter Complaint' 'Bus Stop Shelter Placement'\n",
      " 'Calorie Labeling' 'Case Management Agency Complaint'\n",
      " 'City Vehicle Placard Complaint' 'Collection Truck Noise' 'Comments'\n",
      " 'Construction' 'Construction Safety Enforcement' 'Consumer Complaint'\n",
      " 'Cooling Tower' 'Cranes and Derricks' 'Curb Condition'\n",
      " 'DCA / DOH New License Application Request' 'DOF Parking - DMV Clearance'\n",
      " 'DOF Parking - Payment Issue' 'DOF Parking - Request Copy'\n",
      " 'DOF Parking - Request Status' 'DOF Parking - Tax Exemption'\n",
      " 'DOF Property - City Rebate' 'DOF Property - Owner Issue'\n",
      " 'DOF Property - Payment Issue' 'DOF Property - Property Value'\n",
      " 'DOF Property - RPIE Issue' 'DOF Property - Reduction Issue'\n",
      " 'DOF Property - Request Copy' 'DOF Property - Update Account'\n",
      " 'DOOR/WINDOW' 'DOR Literature Request' 'DPR Internal' 'DRIE'\n",
      " 'Damaged Tree' 'Day Care' 'Dead Tree' 'Dead/Dying Tree'\n",
      " 'Dept of Investigations' 'Derelict Bicycle' 'Derelict Vehicle'\n",
      " 'Derelict Vehicles' 'Dirty Conditions' 'Disorderly Youth'\n",
      " 'Dispatched Taxi Complaint' 'Drinking' 'Drinking Water' 'Drug Activity'\n",
      " 'ELECTRIC' 'ELEVATOR' 'Elder Abuse' 'Electrical' 'Electronics Waste'\n",
      " 'Electronics Waste Appointment' 'Elevator'\n",
      " 'Emergency Response Team (ERT)' 'Executive Inspections' 'FATF' 'FCST'\n",
      " 'FHV Licensee Complaint' 'FLOORING/STAIRS' 'Facades' 'Ferry Complaint'\n",
      " 'Ferry Inquiry' 'Ferry Permit' 'Fire Alarm - Modification'\n",
      " 'Fire Alarm - New System' 'Fire Alarm - Reinspection'\n",
      " 'Food Establishment' 'Food Poisoning' 'For Hire Vehicle Complaint'\n",
      " 'For Hire Vehicle Report' 'Forensic Engineering' 'Forms' 'Found Property'\n",
      " 'GENERAL' 'Gas Station Discharge Lines' 'General'\n",
      " 'General Construction/Plumbing' 'General Question' 'Graffiti'\n",
      " 'HEAT/HOT WATER' 'HPD Literature Request' 'Harboring Bees/Wasps'\n",
      " 'Hazardous Materials' 'Hazmat Storage/Use' 'Highway Condition'\n",
      " 'Highway Sign - Damaged' 'Highway Sign - Dangling'\n",
      " 'Highway Sign - Missing' 'Home Care Provider Complaint'\n",
      " 'Home Delivered Meal - Missed Delivery' 'Home Delivered Meal Complaint'\n",
      " 'Homebound Evacuation 4' 'Homeless Encampment'\n",
      " 'Homeless Person Assistance' 'Housing - Low Income Senior'\n",
      " 'Housing Options' 'Illegal Animal - Sold/Kept'\n",
      " 'Illegal Animal Kept as Pet' 'Illegal Animal Sold' 'Illegal Fireworks'\n",
      " 'Illegal Parking' 'Illegal Tree Damage' 'Indoor Air Quality'\n",
      " 'Indoor Sewage' 'Industrial Waste' 'Injured Wildlife' 'Interior Demo'\n",
      " 'Investigations and Discipline (IAD)' 'LEAD' 'Lead'\n",
      " 'Legal Services Provider Complaint' 'Lifeguard' 'LinkNYC'\n",
      " 'Litter Basket / Request' 'Lost Property' 'MOLD'\n",
      " 'Maintenance or Facility' 'Miscellaneous Categories'\n",
      " 'Missed Collection (All Materials)' 'Mobile Food Vendor' 'Mold'\n",
      " 'Mosquitoes' 'Municipal Parking Facility' 'NORC Complaint'\n",
      " 'New Tree Request' 'Noise' 'Noise - Commercial' 'Noise - Helicopter'\n",
      " 'Noise - House of Worship' 'Noise - Park' 'Noise - Residential'\n",
      " 'Noise - Street/Sidewalk' 'Noise - Vehicle' 'Non-Emergency Police Matter'\n",
      " 'Non-Residential Heat' 'OEM Disabled Vehicle' 'OEM Literature Request'\n",
      " 'OUTSIDE BUILDING' 'Open Flame Permit' 'Other Enforcement'\n",
      " 'Overflowing Litter Baskets' 'Overflowing Recycling Baskets'\n",
      " 'Overgrown Tree/Branches' 'PAINT/PLASTER' 'PLUMBING' 'Panhandling'\n",
      " 'Parking Card' 'Pet Shop' 'Plant' 'Plumbing' 'Poison Ivy'\n",
      " 'Posting Advertisement' 'Public Assembly' 'Public Assembly - Temporary'\n",
      " 'Public Payphone Complaint' 'Public Toilet' 'Quality of Life' 'Question'\n",
      " 'Radioactive Material' 'Rangehood' 'Recycling Enforcement'\n",
      " 'Request Large Bulky Item Collection' 'Request Xmas Tree Collection'\n",
      " 'Research Questions' 'Rodent' 'Root/Sewer/Sidewalk Condition' 'SAFETY'\n",
      " 'SCRIE' 'SNW' 'SRDE' 'Safety' 'Sanitation Condition' 'Scaffold Safety'\n",
      " 'School Maintenance' 'Select Message Type...' 'Senior Center Complaint'\n",
      " 'Sewer' 'Sidewalk Condition' 'Smoking' 'Snow' 'Special Enforcement'\n",
      " 'Special Natural Area District (SNAD)' 'Special Operations'\n",
      " 'Special Projects Inspection Team (SPIT)' 'Sprinkler - Mechanical'\n",
      " 'Squeegee' 'Stalled Sites' 'Standing Water' 'Street Condition'\n",
      " 'Street Light Condition' 'Street Sign - Damaged' 'Street Sign - Dangling'\n",
      " 'Street Sign - Missing' 'Sustainability Enforcement'\n",
      " 'Sweeping/Inadequate' 'Sweeping/Missed' 'Sweeping/Missed-Inadequate'\n",
      " 'Tanning' 'Tattooing' 'Taxi Complaint' 'Taxi Compliment'\n",
      " 'Taxi Licensee Complaint' 'Taxi Report' 'Taxpayer Advocate Inquiry'\n",
      " 'Traffic' 'Traffic Signal Condition' 'Trans Fat'\n",
      " 'Transportation Provider Complaint' 'Trapping Pigeon' 'Tunnel Condition'\n",
      " 'UNSANITARY CONDITION' 'Unleashed Dog' 'Unlicensed Dog'\n",
      " 'Unsanitary Animal Facility' 'Unsanitary Animal Pvt Property'\n",
      " 'Unsanitary Condition' 'Unsanitary Pigeon Condition'\n",
      " 'Urinating in Public' 'VACANT APARTMENT' 'Vacant Lot' 'Vending'\n",
      " 'Violation of Park Rules' 'WATER LEAK' 'Water Conservation'\n",
      " 'Water Quality' 'Water System' 'Window Guard' 'X-Ray Machine/Equipment'\n",
      " 'ZSYSTEST' 'ZTESTINT']\n",
      "Number of unique complaint types:  271\n"
     ]
    }
   ],
   "source": [
    "complaint_types = np.unique(c.loc[:,'Complaint Type'])\n",
    "print(complaint_types)\n",
    "print('Number of unique complaint types: ' , len(complaint_types))"
   ]
  },
  {
   "cell_type": "markdown",
   "id": "9a0e5308",
   "metadata": {},
   "source": [
    "Check extent of locations (latitude and longitude). Appears to be only NYC (which is different from the weather, which has weather from all over the state)."
   ]
  },
  {
   "cell_type": "code",
   "execution_count": 14,
   "id": "d66504d7",
   "metadata": {},
   "outputs": [
    {
     "name": "stdout",
     "output_type": "stream",
     "text": [
      "40.49804421521046\n",
      "40.91294056699566\n",
      "-74.25521082506387\n",
      "-73.70038354802529\n"
     ]
    }
   ],
   "source": [
    "print(np.min(c.loc[:,'Latitude']))\n",
    "print(np.max(c.loc[:,'Latitude']))\n",
    "print(np.min(c.loc[:,'Longitude']))\n",
    "print(np.max(c.loc[:,'Longitude']))"
   ]
  },
  {
   "cell_type": "markdown",
   "id": "c2fb93c0",
   "metadata": {},
   "source": [
    "### Analysis of daily service request counts\n",
    "\n",
    "Explore frequency of complaints over time. (Using Created Date)"
   ]
  },
  {
   "cell_type": "code",
   "execution_count": 106,
   "id": "a4579673",
   "metadata": {},
   "outputs": [
    {
     "data": {
      "text/html": [
       "<div>\n",
       "<style scoped>\n",
       "    .dataframe tbody tr th:only-of-type {\n",
       "        vertical-align: middle;\n",
       "    }\n",
       "\n",
       "    .dataframe tbody tr th {\n",
       "        vertical-align: top;\n",
       "    }\n",
       "\n",
       "    .dataframe thead th {\n",
       "        text-align: right;\n",
       "    }\n",
       "</style>\n",
       "<table border=\"1\" class=\"dataframe\">\n",
       "  <thead>\n",
       "    <tr style=\"text-align: right;\">\n",
       "      <th></th>\n",
       "      <th>Unique Key</th>\n",
       "      <th>Created Date</th>\n",
       "      <th>Closed Date</th>\n",
       "      <th>Agency</th>\n",
       "      <th>Agency Name</th>\n",
       "      <th>Complaint Type</th>\n",
       "      <th>Descriptor</th>\n",
       "      <th>Location Type</th>\n",
       "      <th>Incident Zip</th>\n",
       "      <th>Incident Address</th>\n",
       "      <th>...</th>\n",
       "      <th>Taxi Company Borough</th>\n",
       "      <th>Taxi Pick Up Location</th>\n",
       "      <th>Bridge Highway Name</th>\n",
       "      <th>Bridge Highway Direction</th>\n",
       "      <th>Road Ramp</th>\n",
       "      <th>Bridge Highway Segment</th>\n",
       "      <th>Latitude</th>\n",
       "      <th>Longitude</th>\n",
       "      <th>Location</th>\n",
       "      <th>Created Year</th>\n",
       "    </tr>\n",
       "  </thead>\n",
       "  <tbody>\n",
       "    <tr>\n",
       "      <th>1945100</th>\n",
       "      <td>40795136</td>\n",
       "      <td>2016-08-12 13:28:01</td>\n",
       "      <td>08/14/2016 12:00:00 AM</td>\n",
       "      <td>DOB</td>\n",
       "      <td>Department of Buildings</td>\n",
       "      <td>General Construction/Plumbing</td>\n",
       "      <td>Adjacent Buildings Not Protected</td>\n",
       "      <td>NaN</td>\n",
       "      <td>11206</td>\n",
       "      <td>59 MONTROSE AVENUE</td>\n",
       "      <td>...</td>\n",
       "      <td>NaN</td>\n",
       "      <td>NaN</td>\n",
       "      <td>NaN</td>\n",
       "      <td>NaN</td>\n",
       "      <td>NaN</td>\n",
       "      <td>NaN</td>\n",
       "      <td>40.706918</td>\n",
       "      <td>-73.947578</td>\n",
       "      <td>(40.70691770450116, -73.94757838386167)</td>\n",
       "      <td>2016.0</td>\n",
       "    </tr>\n",
       "    <tr>\n",
       "      <th>1946039</th>\n",
       "      <td>40816705</td>\n",
       "      <td>2016-08-12 11:40:17</td>\n",
       "      <td>08/16/2016 12:00:00 AM</td>\n",
       "      <td>DOB</td>\n",
       "      <td>Department of Buildings</td>\n",
       "      <td>General Construction/Plumbing</td>\n",
       "      <td>Adjacent Buildings Not Protected</td>\n",
       "      <td>NaN</td>\n",
       "      <td>11233</td>\n",
       "      <td>586 BAINBRIDGE STREET</td>\n",
       "      <td>...</td>\n",
       "      <td>NaN</td>\n",
       "      <td>NaN</td>\n",
       "      <td>NaN</td>\n",
       "      <td>NaN</td>\n",
       "      <td>NaN</td>\n",
       "      <td>NaN</td>\n",
       "      <td>40.682985</td>\n",
       "      <td>-73.913449</td>\n",
       "      <td>(40.68298467109504, -73.91344919536284)</td>\n",
       "      <td>2016.0</td>\n",
       "    </tr>\n",
       "    <tr>\n",
       "      <th>2292474</th>\n",
       "      <td>42376770</td>\n",
       "      <td>2016-08-12 15:21:31</td>\n",
       "      <td>07/16/2019 12:00:00 AM</td>\n",
       "      <td>DOB</td>\n",
       "      <td>Department of Buildings</td>\n",
       "      <td>Miscellaneous Categories</td>\n",
       "      <td>Inspection Work Order (DOB)</td>\n",
       "      <td>NaN</td>\n",
       "      <td>10025</td>\n",
       "      <td>145 WEST   96 STREET</td>\n",
       "      <td>...</td>\n",
       "      <td>NaN</td>\n",
       "      <td>NaN</td>\n",
       "      <td>NaN</td>\n",
       "      <td>NaN</td>\n",
       "      <td>NaN</td>\n",
       "      <td>NaN</td>\n",
       "      <td>40.793421</td>\n",
       "      <td>-73.968840</td>\n",
       "      <td>(40.79342065232442, -73.9688398667975)</td>\n",
       "      <td>2016.0</td>\n",
       "    </tr>\n",
       "    <tr>\n",
       "      <th>2294013</th>\n",
       "      <td>42533874</td>\n",
       "      <td>2016-08-12 07:57:53</td>\n",
       "      <td>08/15/2016 12:00:00 AM</td>\n",
       "      <td>DOB</td>\n",
       "      <td>Department of Buildings</td>\n",
       "      <td>General Construction/Plumbing</td>\n",
       "      <td>Building Permit - None</td>\n",
       "      <td>NaN</td>\n",
       "      <td>11436</td>\n",
       "      <td>123-14 147 STREET</td>\n",
       "      <td>...</td>\n",
       "      <td>NaN</td>\n",
       "      <td>NaN</td>\n",
       "      <td>NaN</td>\n",
       "      <td>NaN</td>\n",
       "      <td>NaN</td>\n",
       "      <td>NaN</td>\n",
       "      <td>40.675379</td>\n",
       "      <td>-73.791408</td>\n",
       "      <td>(40.675378818722095, -73.79140752497212)</td>\n",
       "      <td>2016.0</td>\n",
       "    </tr>\n",
       "    <tr>\n",
       "      <th>2296295</th>\n",
       "      <td>42542955</td>\n",
       "      <td>2016-08-12 13:37:13</td>\n",
       "      <td>08/12/2016 01:37:13 PM</td>\n",
       "      <td>DOB</td>\n",
       "      <td>Department of Buildings</td>\n",
       "      <td>BEST/Site Safety</td>\n",
       "      <td>Demolition Notification Received</td>\n",
       "      <td>NaN</td>\n",
       "      <td>11355</td>\n",
       "      <td>41-14 HAIGHT STREET</td>\n",
       "      <td>...</td>\n",
       "      <td>NaN</td>\n",
       "      <td>NaN</td>\n",
       "      <td>NaN</td>\n",
       "      <td>NaN</td>\n",
       "      <td>NaN</td>\n",
       "      <td>NaN</td>\n",
       "      <td>40.755505</td>\n",
       "      <td>-73.834387</td>\n",
       "      <td>(40.75550528692892, -73.83438717963556)</td>\n",
       "      <td>2016.0</td>\n",
       "    </tr>\n",
       "    <tr>\n",
       "      <th>...</th>\n",
       "      <td>...</td>\n",
       "      <td>...</td>\n",
       "      <td>...</td>\n",
       "      <td>...</td>\n",
       "      <td>...</td>\n",
       "      <td>...</td>\n",
       "      <td>...</td>\n",
       "      <td>...</td>\n",
       "      <td>...</td>\n",
       "      <td>...</td>\n",
       "      <td>...</td>\n",
       "      <td>...</td>\n",
       "      <td>...</td>\n",
       "      <td>...</td>\n",
       "      <td>...</td>\n",
       "      <td>...</td>\n",
       "      <td>...</td>\n",
       "      <td>...</td>\n",
       "      <td>...</td>\n",
       "      <td>...</td>\n",
       "      <td>...</td>\n",
       "    </tr>\n",
       "    <tr>\n",
       "      <th>4530988</th>\n",
       "      <td>34103272</td>\n",
       "      <td>2016-08-12 06:11:57</td>\n",
       "      <td>08/15/2016 11:00:00 AM</td>\n",
       "      <td>DOT</td>\n",
       "      <td>Department of Transportation</td>\n",
       "      <td>Street Condition</td>\n",
       "      <td>Pothole</td>\n",
       "      <td>NaN</td>\n",
       "      <td>10475</td>\n",
       "      <td>NaN</td>\n",
       "      <td>...</td>\n",
       "      <td>NaN</td>\n",
       "      <td>NaN</td>\n",
       "      <td>NaN</td>\n",
       "      <td>NaN</td>\n",
       "      <td>NaN</td>\n",
       "      <td>NaN</td>\n",
       "      <td>40.885991</td>\n",
       "      <td>-73.827914</td>\n",
       "      <td>(40.88599088210431, -73.82791398812846)</td>\n",
       "      <td>2016.0</td>\n",
       "    </tr>\n",
       "    <tr>\n",
       "      <th>4531836</th>\n",
       "      <td>34104401</td>\n",
       "      <td>2016-08-12 06:27:50</td>\n",
       "      <td>08/15/2016 01:08:00 PM</td>\n",
       "      <td>DOT</td>\n",
       "      <td>Department of Transportation</td>\n",
       "      <td>Street Condition</td>\n",
       "      <td>Pothole</td>\n",
       "      <td>NaN</td>\n",
       "      <td>10455</td>\n",
       "      <td>880 EAST  147 STREET</td>\n",
       "      <td>...</td>\n",
       "      <td>NaN</td>\n",
       "      <td>NaN</td>\n",
       "      <td>NaN</td>\n",
       "      <td>NaN</td>\n",
       "      <td>NaN</td>\n",
       "      <td>NaN</td>\n",
       "      <td>40.810326</td>\n",
       "      <td>-73.904325</td>\n",
       "      <td>(40.810325615052456, -73.9043247693361)</td>\n",
       "      <td>2016.0</td>\n",
       "    </tr>\n",
       "    <tr>\n",
       "      <th>4532649</th>\n",
       "      <td>34105510</td>\n",
       "      <td>2016-08-12 06:14:10</td>\n",
       "      <td>08/15/2016 02:00:00 PM</td>\n",
       "      <td>DOT</td>\n",
       "      <td>Department of Transportation</td>\n",
       "      <td>Street Condition</td>\n",
       "      <td>Pothole</td>\n",
       "      <td>NaN</td>\n",
       "      <td>10473</td>\n",
       "      <td>NaN</td>\n",
       "      <td>...</td>\n",
       "      <td>NaN</td>\n",
       "      <td>NaN</td>\n",
       "      <td>NaN</td>\n",
       "      <td>NaN</td>\n",
       "      <td>NaN</td>\n",
       "      <td>NaN</td>\n",
       "      <td>40.821756</td>\n",
       "      <td>-73.860193</td>\n",
       "      <td>(40.82175623322948, -73.86019294631032)</td>\n",
       "      <td>2016.0</td>\n",
       "    </tr>\n",
       "    <tr>\n",
       "      <th>4564904</th>\n",
       "      <td>34147629</td>\n",
       "      <td>2016-08-12 12:49:34</td>\n",
       "      <td>08/22/2016 12:00:00 AM</td>\n",
       "      <td>DOB</td>\n",
       "      <td>Department of Buildings</td>\n",
       "      <td>General Construction/Plumbing</td>\n",
       "      <td>Sidewalk Shed/Pipe Scafford - Inadequate Defec...</td>\n",
       "      <td>NaN</td>\n",
       "      <td>11222</td>\n",
       "      <td>148 WEST STREET</td>\n",
       "      <td>...</td>\n",
       "      <td>NaN</td>\n",
       "      <td>NaN</td>\n",
       "      <td>NaN</td>\n",
       "      <td>NaN</td>\n",
       "      <td>NaN</td>\n",
       "      <td>NaN</td>\n",
       "      <td>40.732100</td>\n",
       "      <td>-73.959624</td>\n",
       "      <td>(40.732100239554605, -73.95962435981285)</td>\n",
       "      <td>2016.0</td>\n",
       "    </tr>\n",
       "    <tr>\n",
       "      <th>4623525</th>\n",
       "      <td>34224981</td>\n",
       "      <td>2016-08-12 12:34:03</td>\n",
       "      <td>09/01/2016 12:00:00 AM</td>\n",
       "      <td>DOB</td>\n",
       "      <td>Department of Buildings</td>\n",
       "      <td>Scaffold Safety</td>\n",
       "      <td>Suspended (Hanging) Scaffolds - No Pmt/Lic/Dan...</td>\n",
       "      <td>NaN</td>\n",
       "      <td>10022</td>\n",
       "      <td>11 EAST   52 STREET</td>\n",
       "      <td>...</td>\n",
       "      <td>NaN</td>\n",
       "      <td>NaN</td>\n",
       "      <td>NaN</td>\n",
       "      <td>NaN</td>\n",
       "      <td>NaN</td>\n",
       "      <td>NaN</td>\n",
       "      <td>40.759560</td>\n",
       "      <td>-73.975729</td>\n",
       "      <td>(40.75956048817871, -73.9757285323132)</td>\n",
       "      <td>2016.0</td>\n",
       "    </tr>\n",
       "  </tbody>\n",
       "</table>\n",
       "<p>6685 rows × 42 columns</p>\n",
       "</div>"
      ],
      "text/plain": [
       "         Unique Key        Created Date             Closed Date Agency  \\\n",
       "1945100    40795136 2016-08-12 13:28:01  08/14/2016 12:00:00 AM    DOB   \n",
       "1946039    40816705 2016-08-12 11:40:17  08/16/2016 12:00:00 AM    DOB   \n",
       "2292474    42376770 2016-08-12 15:21:31  07/16/2019 12:00:00 AM    DOB   \n",
       "2294013    42533874 2016-08-12 07:57:53  08/15/2016 12:00:00 AM    DOB   \n",
       "2296295    42542955 2016-08-12 13:37:13  08/12/2016 01:37:13 PM    DOB   \n",
       "...             ...                 ...                     ...    ...   \n",
       "4530988    34103272 2016-08-12 06:11:57  08/15/2016 11:00:00 AM    DOT   \n",
       "4531836    34104401 2016-08-12 06:27:50  08/15/2016 01:08:00 PM    DOT   \n",
       "4532649    34105510 2016-08-12 06:14:10  08/15/2016 02:00:00 PM    DOT   \n",
       "4564904    34147629 2016-08-12 12:49:34  08/22/2016 12:00:00 AM    DOB   \n",
       "4623525    34224981 2016-08-12 12:34:03  09/01/2016 12:00:00 AM    DOB   \n",
       "\n",
       "                          Agency Name                 Complaint Type  \\\n",
       "1945100       Department of Buildings  General Construction/Plumbing   \n",
       "1946039       Department of Buildings  General Construction/Plumbing   \n",
       "2292474       Department of Buildings       Miscellaneous Categories   \n",
       "2294013       Department of Buildings  General Construction/Plumbing   \n",
       "2296295       Department of Buildings               BEST/Site Safety   \n",
       "...                               ...                            ...   \n",
       "4530988  Department of Transportation               Street Condition   \n",
       "4531836  Department of Transportation               Street Condition   \n",
       "4532649  Department of Transportation               Street Condition   \n",
       "4564904       Department of Buildings  General Construction/Plumbing   \n",
       "4623525       Department of Buildings                Scaffold Safety   \n",
       "\n",
       "                                                Descriptor Location Type  \\\n",
       "1945100                   Adjacent Buildings Not Protected           NaN   \n",
       "1946039                   Adjacent Buildings Not Protected           NaN   \n",
       "2292474                        Inspection Work Order (DOB)           NaN   \n",
       "2294013                             Building Permit - None           NaN   \n",
       "2296295                   Demolition Notification Received           NaN   \n",
       "...                                                    ...           ...   \n",
       "4530988                                            Pothole           NaN   \n",
       "4531836                                            Pothole           NaN   \n",
       "4532649                                            Pothole           NaN   \n",
       "4564904  Sidewalk Shed/Pipe Scafford - Inadequate Defec...           NaN   \n",
       "4623525  Suspended (Hanging) Scaffolds - No Pmt/Lic/Dan...           NaN   \n",
       "\n",
       "        Incident Zip       Incident Address  ... Taxi Company Borough  \\\n",
       "1945100        11206     59 MONTROSE AVENUE  ...                  NaN   \n",
       "1946039        11233  586 BAINBRIDGE STREET  ...                  NaN   \n",
       "2292474        10025   145 WEST   96 STREET  ...                  NaN   \n",
       "2294013        11436      123-14 147 STREET  ...                  NaN   \n",
       "2296295        11355    41-14 HAIGHT STREET  ...                  NaN   \n",
       "...              ...                    ...  ...                  ...   \n",
       "4530988        10475                    NaN  ...                  NaN   \n",
       "4531836        10455   880 EAST  147 STREET  ...                  NaN   \n",
       "4532649        10473                    NaN  ...                  NaN   \n",
       "4564904        11222        148 WEST STREET  ...                  NaN   \n",
       "4623525        10022    11 EAST   52 STREET  ...                  NaN   \n",
       "\n",
       "        Taxi Pick Up Location Bridge Highway Name Bridge Highway Direction  \\\n",
       "1945100                   NaN                 NaN                      NaN   \n",
       "1946039                   NaN                 NaN                      NaN   \n",
       "2292474                   NaN                 NaN                      NaN   \n",
       "2294013                   NaN                 NaN                      NaN   \n",
       "2296295                   NaN                 NaN                      NaN   \n",
       "...                       ...                 ...                      ...   \n",
       "4530988                   NaN                 NaN                      NaN   \n",
       "4531836                   NaN                 NaN                      NaN   \n",
       "4532649                   NaN                 NaN                      NaN   \n",
       "4564904                   NaN                 NaN                      NaN   \n",
       "4623525                   NaN                 NaN                      NaN   \n",
       "\n",
       "        Road Ramp Bridge Highway Segment   Latitude  Longitude  \\\n",
       "1945100       NaN                    NaN  40.706918 -73.947578   \n",
       "1946039       NaN                    NaN  40.682985 -73.913449   \n",
       "2292474       NaN                    NaN  40.793421 -73.968840   \n",
       "2294013       NaN                    NaN  40.675379 -73.791408   \n",
       "2296295       NaN                    NaN  40.755505 -73.834387   \n",
       "...           ...                    ...        ...        ...   \n",
       "4530988       NaN                    NaN  40.885991 -73.827914   \n",
       "4531836       NaN                    NaN  40.810326 -73.904325   \n",
       "4532649       NaN                    NaN  40.821756 -73.860193   \n",
       "4564904       NaN                    NaN  40.732100 -73.959624   \n",
       "4623525       NaN                    NaN  40.759560 -73.975729   \n",
       "\n",
       "                                         Location Created Year  \n",
       "1945100   (40.70691770450116, -73.94757838386167)       2016.0  \n",
       "1946039   (40.68298467109504, -73.91344919536284)       2016.0  \n",
       "2292474    (40.79342065232442, -73.9688398667975)       2016.0  \n",
       "2294013  (40.675378818722095, -73.79140752497212)       2016.0  \n",
       "2296295   (40.75550528692892, -73.83438717963556)       2016.0  \n",
       "...                                           ...          ...  \n",
       "4530988   (40.88599088210431, -73.82791398812846)       2016.0  \n",
       "4531836   (40.810325615052456, -73.9043247693361)       2016.0  \n",
       "4532649   (40.82175623322948, -73.86019294631032)       2016.0  \n",
       "4564904  (40.732100239554605, -73.95962435981285)       2016.0  \n",
       "4623525    (40.75956048817871, -73.9757285323132)       2016.0  \n",
       "\n",
       "[6685 rows x 42 columns]"
      ]
     },
     "execution_count": 106,
     "metadata": {},
     "output_type": "execute_result"
    }
   ],
   "source": [
    "# Select all service requests on an individual day.\n",
    "c.loc[(c['Created Date'] > np.datetime64('2016-08-12')) & (c['Created Date'] < np.datetime64('2016-08-13'))]"
   ]
  },
  {
   "cell_type": "code",
   "execution_count": 107,
   "id": "f6eb3a22",
   "metadata": {},
   "outputs": [
    {
     "name": "stdout",
     "output_type": "stream",
     "text": [
      "Min Date:  2016-01-01 00:00:00\n",
      "Max Date:  2018-12-31 23:59:56\n"
     ]
    }
   ],
   "source": [
    "# Check which date range is present\n",
    "print('Min Date: ', np.min(c['Created Date']))\n",
    "print('Max Date: ', np.max(c['Created Date']))"
   ]
  },
  {
   "cell_type": "markdown",
   "id": "18a4d243",
   "metadata": {},
   "source": [
    "Build a dataframe to store all dates and the nubmer of service requests for each date."
   ]
  },
  {
   "cell_type": "code",
   "execution_count": 17,
   "id": "cda87a47",
   "metadata": {},
   "outputs": [],
   "source": [
    "dates = np.arange(np.datetime64('2016-01-01'), np.datetime64('2019-01-01'), np.timedelta64(1, 'D'))"
   ]
  },
  {
   "cell_type": "code",
   "execution_count": 18,
   "id": "0e3a21dc",
   "metadata": {},
   "outputs": [],
   "source": [
    "dict311 = {'Date': dates, 'call_count': np.full(len(dates), np.nan, dtype='float64')}\n",
    "\n",
    "d311 = pd.DataFrame(data = dict311)"
   ]
  },
  {
   "cell_type": "code",
   "execution_count": 19,
   "id": "2090fcf5",
   "metadata": {},
   "outputs": [
    {
     "data": {
      "text/html": [
       "<div>\n",
       "<style scoped>\n",
       "    .dataframe tbody tr th:only-of-type {\n",
       "        vertical-align: middle;\n",
       "    }\n",
       "\n",
       "    .dataframe tbody tr th {\n",
       "        vertical-align: top;\n",
       "    }\n",
       "\n",
       "    .dataframe thead th {\n",
       "        text-align: right;\n",
       "    }\n",
       "</style>\n",
       "<table border=\"1\" class=\"dataframe\">\n",
       "  <thead>\n",
       "    <tr style=\"text-align: right;\">\n",
       "      <th></th>\n",
       "      <th>Date</th>\n",
       "      <th>call_count</th>\n",
       "    </tr>\n",
       "  </thead>\n",
       "  <tbody>\n",
       "    <tr>\n",
       "      <th>0</th>\n",
       "      <td>2016-01-01</td>\n",
       "      <td>NaN</td>\n",
       "    </tr>\n",
       "    <tr>\n",
       "      <th>1</th>\n",
       "      <td>2016-01-02</td>\n",
       "      <td>NaN</td>\n",
       "    </tr>\n",
       "    <tr>\n",
       "      <th>2</th>\n",
       "      <td>2016-01-03</td>\n",
       "      <td>NaN</td>\n",
       "    </tr>\n",
       "    <tr>\n",
       "      <th>3</th>\n",
       "      <td>2016-01-04</td>\n",
       "      <td>NaN</td>\n",
       "    </tr>\n",
       "    <tr>\n",
       "      <th>4</th>\n",
       "      <td>2016-01-05</td>\n",
       "      <td>NaN</td>\n",
       "    </tr>\n",
       "    <tr>\n",
       "      <th>...</th>\n",
       "      <td>...</td>\n",
       "      <td>...</td>\n",
       "    </tr>\n",
       "    <tr>\n",
       "      <th>1091</th>\n",
       "      <td>2018-12-27</td>\n",
       "      <td>NaN</td>\n",
       "    </tr>\n",
       "    <tr>\n",
       "      <th>1092</th>\n",
       "      <td>2018-12-28</td>\n",
       "      <td>NaN</td>\n",
       "    </tr>\n",
       "    <tr>\n",
       "      <th>1093</th>\n",
       "      <td>2018-12-29</td>\n",
       "      <td>NaN</td>\n",
       "    </tr>\n",
       "    <tr>\n",
       "      <th>1094</th>\n",
       "      <td>2018-12-30</td>\n",
       "      <td>NaN</td>\n",
       "    </tr>\n",
       "    <tr>\n",
       "      <th>1095</th>\n",
       "      <td>2018-12-31</td>\n",
       "      <td>NaN</td>\n",
       "    </tr>\n",
       "  </tbody>\n",
       "</table>\n",
       "<p>1096 rows × 2 columns</p>\n",
       "</div>"
      ],
      "text/plain": [
       "           Date  call_count\n",
       "0    2016-01-01         NaN\n",
       "1    2016-01-02         NaN\n",
       "2    2016-01-03         NaN\n",
       "3    2016-01-04         NaN\n",
       "4    2016-01-05         NaN\n",
       "...         ...         ...\n",
       "1091 2018-12-27         NaN\n",
       "1092 2018-12-28         NaN\n",
       "1093 2018-12-29         NaN\n",
       "1094 2018-12-30         NaN\n",
       "1095 2018-12-31         NaN\n",
       "\n",
       "[1096 rows x 2 columns]"
      ]
     },
     "execution_count": 19,
     "metadata": {},
     "output_type": "execute_result"
    }
   ],
   "source": [
    "d311"
   ]
  },
  {
   "cell_type": "markdown",
   "id": "d6926b9b",
   "metadata": {},
   "source": [
    "Loop through dates and count nubmer of 311 requests each day.\n",
    "\n",
    "Note: I could easily expand this loop to count number of requests in each borough, or nubmer requests to each department, or nubmer of requests of each type. I may do so later to expand this analysis."
   ]
  },
  {
   "cell_type": "code",
   "execution_count": 20,
   "id": "f4b205bd",
   "metadata": {},
   "outputs": [],
   "source": [
    "for i in range(len(d311)-1):\n",
    "    temp = c.loc[(c['Created Date'] > d311.loc[i,'Date']) & (c['Created Date'] < d311.loc[(i+1),'Date'])]\n",
    "    d311.loc[i, 'call_count'] = len(temp)\n",
    "    \n",
    "# Last date is slightly weird since dates list doesn't have the date+1. Do it independently.\n",
    "d311.loc[len(d311)-1, 'call_count'] = len(c.loc[(c['Created Date'] > d311.loc[len(d311)-1,'Date']) \n",
    "                                          & (c['Created Date'] < np.datetime64('2019-01-01'))])"
   ]
  },
  {
   "cell_type": "code",
   "execution_count": 21,
   "id": "1c28c111",
   "metadata": {},
   "outputs": [
    {
     "data": {
      "text/html": [
       "<div>\n",
       "<style scoped>\n",
       "    .dataframe tbody tr th:only-of-type {\n",
       "        vertical-align: middle;\n",
       "    }\n",
       "\n",
       "    .dataframe tbody tr th {\n",
       "        vertical-align: top;\n",
       "    }\n",
       "\n",
       "    .dataframe thead th {\n",
       "        text-align: right;\n",
       "    }\n",
       "</style>\n",
       "<table border=\"1\" class=\"dataframe\">\n",
       "  <thead>\n",
       "    <tr style=\"text-align: right;\">\n",
       "      <th></th>\n",
       "      <th>Date</th>\n",
       "      <th>call_count</th>\n",
       "    </tr>\n",
       "  </thead>\n",
       "  <tbody>\n",
       "    <tr>\n",
       "      <th>0</th>\n",
       "      <td>2016-01-01</td>\n",
       "      <td>4260.0</td>\n",
       "    </tr>\n",
       "    <tr>\n",
       "      <th>1</th>\n",
       "      <td>2016-01-02</td>\n",
       "      <td>4505.0</td>\n",
       "    </tr>\n",
       "    <tr>\n",
       "      <th>2</th>\n",
       "      <td>2016-01-03</td>\n",
       "      <td>4749.0</td>\n",
       "    </tr>\n",
       "    <tr>\n",
       "      <th>3</th>\n",
       "      <td>2016-01-04</td>\n",
       "      <td>8900.0</td>\n",
       "    </tr>\n",
       "    <tr>\n",
       "      <th>4</th>\n",
       "      <td>2016-01-05</td>\n",
       "      <td>11936.0</td>\n",
       "    </tr>\n",
       "    <tr>\n",
       "      <th>...</th>\n",
       "      <td>...</td>\n",
       "      <td>...</td>\n",
       "    </tr>\n",
       "    <tr>\n",
       "      <th>1091</th>\n",
       "      <td>2018-12-27</td>\n",
       "      <td>7019.0</td>\n",
       "    </tr>\n",
       "    <tr>\n",
       "      <th>1092</th>\n",
       "      <td>2018-12-28</td>\n",
       "      <td>6923.0</td>\n",
       "    </tr>\n",
       "    <tr>\n",
       "      <th>1093</th>\n",
       "      <td>2018-12-29</td>\n",
       "      <td>5153.0</td>\n",
       "    </tr>\n",
       "    <tr>\n",
       "      <th>1094</th>\n",
       "      <td>2018-12-30</td>\n",
       "      <td>5112.0</td>\n",
       "    </tr>\n",
       "    <tr>\n",
       "      <th>1095</th>\n",
       "      <td>2018-12-31</td>\n",
       "      <td>6270.0</td>\n",
       "    </tr>\n",
       "  </tbody>\n",
       "</table>\n",
       "<p>1096 rows × 2 columns</p>\n",
       "</div>"
      ],
      "text/plain": [
       "           Date  call_count\n",
       "0    2016-01-01      4260.0\n",
       "1    2016-01-02      4505.0\n",
       "2    2016-01-03      4749.0\n",
       "3    2016-01-04      8900.0\n",
       "4    2016-01-05     11936.0\n",
       "...         ...         ...\n",
       "1091 2018-12-27      7019.0\n",
       "1092 2018-12-28      6923.0\n",
       "1093 2018-12-29      5153.0\n",
       "1094 2018-12-30      5112.0\n",
       "1095 2018-12-31      6270.0\n",
       "\n",
       "[1096 rows x 2 columns]"
      ]
     },
     "execution_count": 21,
     "metadata": {},
     "output_type": "execute_result"
    }
   ],
   "source": [
    "d311"
   ]
  },
  {
   "cell_type": "code",
   "execution_count": 110,
   "id": "249185e3",
   "metadata": {},
   "outputs": [],
   "source": [
    "# Save dataframe of call counts for each date to file.\n",
    "d311.to_csv('311_daily_counts.csv', index=False)"
   ]
  },
  {
   "cell_type": "markdown",
   "id": "71a5d810",
   "metadata": {},
   "source": [
    "### Plotting daily call counts over time"
   ]
  },
  {
   "cell_type": "code",
   "execution_count": 23,
   "id": "98393d05",
   "metadata": {},
   "outputs": [
    {
     "data": {
      "image/png": "[encoded data removed]",
      "text/plain": [
       "<Figure size 640x480 with 1 Axes>"
      ]
     },
     "metadata": {},
     "output_type": "display_data"
    }
   ],
   "source": [
    "fig, ax = plt.subplots()\n",
    "# common to all three:\n",
    "ax.plot('Date', 'call_count', data=d311)\n",
    "# Major ticks every half year, minor ticks every month,\n",
    "ax.xaxis.set_major_locator(mdates.MonthLocator(bymonth=(1, 7)))\n",
    "ax.xaxis.set_minor_locator(mdates.MonthLocator())\n",
    "ax.grid(True)\n",
    "ax.set_ylabel(r'Call count')\n",
    "ax.set_title('Calls per day', fontsize='medium')\n",
    "plt.show()"
   ]
  },
  {
   "cell_type": "markdown",
   "id": "27a9e3f3",
   "metadata": {},
   "source": [
    "### Initial interpretation -- 311 requests\n",
    "\n",
    "There appears to be variation over days, seasonal variation, some peak times (after New Years in 2016 and 2018), and possibly a general increasing trend over time."
   ]
  },
  {
   "cell_type": "markdown",
   "id": "2b8c239a",
   "metadata": {},
   "source": [
    "Expected calls per day matches with numbers we are seeing (about 7000)."
   ]
  },
  {
   "cell_type": "code",
   "execution_count": 29,
   "id": "b59d7415",
   "metadata": {
    "scrolled": true
   },
   "outputs": [
    {
     "name": "stdout",
     "output_type": "stream",
     "text": [
      "Total calls:  7631721\n",
      "Number of days:  1096\n",
      "Average calls per day:  6963.249087591241\n"
     ]
    }
   ],
   "source": [
    "print('Total calls: ', len(c))\n",
    "print('Number of days: ', len(d311))\n",
    "print('Average calls per day: ', len(c)/len(d311))"
   ]
  },
  {
   "cell_type": "markdown",
   "id": "bb3f577c",
   "metadata": {},
   "source": [
    "Lets look at a couple of weeks to see daily variation. Here I have plotted call counts over two weeks in April 2016, with the Monday dates labeled. It appears that 311 calls drop of noiticeably on weekends (Saturdays and Sundays)."
   ]
  },
  {
   "cell_type": "code",
   "execution_count": 58,
   "id": "bff938f4",
   "metadata": {},
   "outputs": [
    {
     "data": {
      "image/png": "[encoded data removed]",
      "text/plain": [
       "<Figure size 640x480 with 1 Axes>"
      ]
     },
     "metadata": {},
     "output_type": "display_data"
    }
   ],
   "source": [
    "fig, ax = plt.subplots()\n",
    "# common to all three:\n",
    "ax.plot(d311.loc[100:113,'Date'], d311.loc[100:113,'call_count'])\n",
    "ax.xaxis.set_major_locator(mdates.WeekdayLocator(byweekday=0)) # Zero selects mcondays for major labels\n",
    "ax.xaxis.set_minor_locator(mdates.WeekdayLocator(byweekday=range(1,8)))\n",
    "\n",
    "ax.grid(True)\n",
    "ax.set_ylabel(r'Call count')\n",
    "# ax.set_title('Calls per day', fontsize='medium')\n",
    "plt.show()"
   ]
  },
  {
   "cell_type": "markdown",
   "id": "0bd03cbf",
   "metadata": {},
   "source": [
    "Selecting a few random weeks in December 2017 shows a similar trend with fewer calls on weekends."
   ]
  },
  {
   "cell_type": "code",
   "execution_count": 63,
   "id": "be2cea2c",
   "metadata": {},
   "outputs": [
    {
     "data": {
      "image/png": "[encoded data removed]",
      "text/plain": [
       "<Figure size 640x480 with 1 Axes>"
      ]
     },
     "metadata": {},
     "output_type": "display_data"
    }
   ],
   "source": [
    "fig, ax = plt.subplots()\n",
    "# common to all three:\n",
    "ax.plot(d311.loc[700:721,'Date'], d311.loc[700:721,'call_count'])\n",
    "ax.xaxis.set_major_locator(mdates.WeekdayLocator(byweekday=0)) # Zero selects mcondays for major labels\n",
    "ax.xaxis.set_minor_locator(mdates.WeekdayLocator(byweekday=range(1,8)))\n",
    "\n",
    "ax.grid(True)\n",
    "ax.set_ylabel(r'Call count')\n",
    "# ax.set_title('Calls per day', fontsize='medium')\n",
    "plt.show()"
   ]
  },
  {
   "cell_type": "markdown",
   "id": "9df13c6c",
   "metadata": {},
   "source": [
    "### Probability distribution\n",
    "\n",
    "Look at histogram of call numbers. The distributiokn looks relatively close to normal, but has a long tail towards high numbers of requests. This histogram fits with what we see in the daily 311 request totals plotted over time (which shows some large peaks).\n",
    "\n",
    "I could consider either neglecting outliers in my prediction for the next 7 days or otherwise accounting for the possibility of large spikes in 311 requests."
   ]
  },
  {
   "cell_type": "code",
   "execution_count": 68,
   "id": "b32f381d",
   "metadata": {},
   "outputs": [
    {
     "name": "stderr",
     "output_type": "stream",
     "text": [
      "C:\\Users\\erics\\AppData\\Local\\Temp\\ipykernel_25360\\3614825516.py:12: UserWarning: Matplotlib is currently using module://matplotlib_inline.backend_inline, which is a non-GUI backend, so cannot show the figure.\n",
      "  fig1.show()\n"
     ]
    },
    {
     "data": {
      "image/png": "[encoded data removed]",
      "text/plain": [
       "<Figure size 640x480 with 1 Axes>"
      ]
     },
     "metadata": {},
     "output_type": "display_data"
    }
   ],
   "source": [
    "# Make histogram of number of call numbers\n",
    "h_311, bins_x_space = np.histogram(d311['call_count'], bins=50)\n",
    "\n",
    "# plot histogram with probability\n",
    "fig1, ax1 = plt.subplots()\n",
    "ax1.plot(bins_x_space[:-1],h_311/float(np.sum(d311['call_count'])), 'b:o')\n",
    "# ax1.set_xlim([0, 12])\n",
    "ax1.set_ylim(bottom=0)\n",
    "ax1.set_xlabel(r'Daily 311 requests', fontsize = 20)\n",
    "ax1.set_ylabel(r'Probability', fontsize = 20)\n",
    "#plt.legend()\n",
    "fig1.show()"
   ]
  },
  {
   "cell_type": "markdown",
   "id": "644c6356",
   "metadata": {},
   "source": [
    "### Linear regression for service requests over time\n",
    "\n",
    "Service requests appear to increase over time. Let's check if that is true using a simple linear regression."
   ]
  },
  {
   "cell_type": "code",
   "execution_count": 83,
   "id": "b7e4c63a",
   "metadata": {},
   "outputs": [],
   "source": [
    "from sklearn.linear_model import LinearRegression"
   ]
  },
  {
   "cell_type": "code",
   "execution_count": 84,
   "id": "7846bf0a",
   "metadata": {},
   "outputs": [],
   "source": [
    "# Make an array of call counts\n",
    "y = d311['call_count'].to_numpy()"
   ]
  },
  {
   "cell_type": "code",
   "execution_count": 85,
   "id": "5360e4ab",
   "metadata": {},
   "outputs": [
    {
     "data": {
      "text/plain": [
       "array([4260., 4505., 4749., ..., 5153., 5112., 6270.])"
      ]
     },
     "execution_count": 85,
     "metadata": {},
     "output_type": "execute_result"
    }
   ],
   "source": [
    "y"
   ]
  },
  {
   "cell_type": "code",
   "execution_count": 89,
   "id": "d415d7c1",
   "metadata": {},
   "outputs": [],
   "source": [
    "# Define an array for time. This is just days since the beginning of 2016.\n",
    "x = np.arange(len(y)).reshape((-1,1))"
   ]
  },
  {
   "cell_type": "code",
   "execution_count": 90,
   "id": "e57b0eef",
   "metadata": {},
   "outputs": [
    {
     "data": {
      "text/plain": [
       "array([[   0],\n",
       "       [   1],\n",
       "       [   2],\n",
       "       ...,\n",
       "       [1093],\n",
       "       [1094],\n",
       "       [1095]])"
      ]
     },
     "execution_count": 90,
     "metadata": {},
     "output_type": "execute_result"
    }
   ],
   "source": [
    "x"
   ]
  },
  {
   "cell_type": "code",
   "execution_count": 91,
   "id": "1f9e82a5",
   "metadata": {},
   "outputs": [],
   "source": [
    "# model = LinearRegression()\n",
    "# model.fit(x, y)\n",
    "model = LinearRegression().fit(x, y)"
   ]
  },
  {
   "cell_type": "code",
   "execution_count": 117,
   "id": "c16e9ee0",
   "metadata": {
    "scrolled": true
   },
   "outputs": [
    {
     "name": "stdout",
     "output_type": "stream",
     "text": [
      "coefficient of determination: 0.10860351178365502\n",
      "intercept: 6158.4556637545\n",
      "slope: [1.26386793]\n"
     ]
    }
   ],
   "source": [
    "r_sq = model.score(x, y)\n",
    "print(f\"coefficient of determination: {r_sq}\")\n",
    "print(f\"intercept: {model.intercept_}\")\n",
    "print(f\"slope: {model.coef_}\")"
   ]
  },
  {
   "cell_type": "code",
   "execution_count": 137,
   "id": "bbb5d9a1",
   "metadata": {},
   "outputs": [
    {
     "data": {
      "image/png": "[encoded data removed]",
      "text/plain": [
       "<Figure size 640x480 with 1 Axes>"
      ]
     },
     "metadata": {},
     "output_type": "display_data"
    }
   ],
   "source": [
    "fig, ax = plt.subplots()\n",
    "# common to all three:\n",
    "# ax.plot(np.arange(len(d311)), 'call_count', data=d311)\n",
    "# ax.plot(np.arange(len(d311)), np.arange(len(d311))*model.coef_[0] + model.intercept_)\n",
    "ax.plot('Date', 'call_count', data=d311)\n",
    "ax.plot(d311['Date'], model.predict(x))\n",
    "# Major ticks every half year, minor ticks every month,\n",
    "ax.xaxis.set_major_locator(mdates.MonthLocator(bymonth=(1, 7)))\n",
    "ax.xaxis.set_minor_locator(mdates.MonthLocator())\n",
    "ax.grid(True)\n",
    "# ax.set_xlabel(r'Days (since beginning of 2016)')\n",
    "ax.set_xlabel(r'Date')\n",
    "ax.set_ylabel(r'Call count')\n",
    "ax.set_title('Calls per day', fontsize='medium')\n",
    "plt.show()"
   ]
  },
  {
   "cell_type": "markdown",
   "id": "c8202318",
   "metadata": {},
   "source": [
    "While this fit doesn't capture any short-term variation, it does appear 311 requests increase over time in this dataset. I should include this variation in any modelling that I do."
   ]
  },
  {
   "cell_type": "markdown",
   "id": "954cc91b",
   "metadata": {},
   "source": [
    "Check: Should polynomial terms be included?"
   ]
  },
  {
   "cell_type": "code",
   "execution_count": 130,
   "id": "93096010",
   "metadata": {},
   "outputs": [
    {
     "data": {
      "text/plain": [
       "array([[      0,       0],\n",
       "       [      1,       1],\n",
       "       [      2,       4],\n",
       "       ...,\n",
       "       [   1093, 1194649],\n",
       "       [   1094, 1196836],\n",
       "       [   1095, 1199025]])"
      ]
     },
     "execution_count": 130,
     "metadata": {},
     "output_type": "execute_result"
    }
   ],
   "source": [
    "# Define an array for time. This is just days since the beginning of 2016.\n",
    "x = np.arange(len(y)).reshape((-1,1))\n",
    "# Add a column for x**2\n",
    "x = np.hstack((x, x**2))\n",
    "x"
   ]
  },
  {
   "cell_type": "code",
   "execution_count": 131,
   "id": "10e8af05",
   "metadata": {},
   "outputs": [],
   "source": [
    "# model = LinearRegression()\n",
    "# model.fit(x, y)\n",
    "model = LinearRegression().fit(x, y)"
   ]
  },
  {
   "cell_type": "code",
   "execution_count": 132,
   "id": "94467ff7",
   "metadata": {
    "scrolled": true
   },
   "outputs": [
    {
     "name": "stdout",
     "output_type": "stream",
     "text": [
      "coefficient of determination: 0.11554895736036197\n",
      "intercept: 6383.955279712999\n",
      "slope: [0.02712415 0.00112945]\n"
     ]
    }
   ],
   "source": [
    "r_sq = model.score(x, y)\n",
    "print(f\"coefficient of determination: {r_sq}\")\n",
    "print(f\"intercept: {model.intercept_}\")\n",
    "print(f\"slope: {model.coef_}\")"
   ]
  },
  {
   "cell_type": "code",
   "execution_count": 138,
   "id": "598abe9e",
   "metadata": {},
   "outputs": [
    {
     "data": {
      "image/png": "[encoded data removed]",
      "text/plain": [
       "<Figure size 640x480 with 1 Axes>"
      ]
     },
     "metadata": {},
     "output_type": "display_data"
    }
   ],
   "source": [
    "fig, ax = plt.subplots()\n",
    "# common to all three:\n",
    "# ax.plot(np.arange(len(d311)), 'call_count', data=d311)\n",
    "# ax.plot(np.arange(len(d311)), np.arange(len(d311))*model.coef_[0] + model.intercept_)\n",
    "ax.plot('Date', 'call_count', data=d311)\n",
    "ax.plot(d311['Date'], model.predict(x))\n",
    "# Major ticks every half year, minor ticks every month,\n",
    "ax.xaxis.set_major_locator(mdates.MonthLocator(bymonth=(1, 7)))\n",
    "ax.xaxis.set_minor_locator(mdates.MonthLocator())\n",
    "ax.grid(True)\n",
    "# ax.set_xlabel(r'Days (since beginning of 2016)')\n",
    "ax.set_xlabel(r'Date')\n",
    "ax.set_ylabel(r'Call count')\n",
    "ax.set_title('Calls per day', fontsize='medium')\n",
    "plt.show()"
   ]
  },
  {
   "cell_type": "markdown",
   "id": "bdcd6026",
   "metadata": {},
   "source": [
    "A polynomial term improves the fit a bit (R^2 is higher) and could be considered for modeling."
   ]
  },
  {
   "cell_type": "code",
   "execution_count": null,
   "id": "c2d9ca26",
   "metadata": {},
   "outputs": [],
   "source": []
  }
 ],
 "metadata": {
  "kernelspec": {
   "display_name": "Python 3 (ipykernel)",
   "language": "python",
   "name": "python3"
  },
  "language_info": {
   "codemirror_mode": {
    "name": "ipython",
    "version": 3
   },
   "file_extension": ".py",
   "mimetype": "text/x-python",
   "name": "python",
   "nbconvert_exporter": "python",
   "pygments_lexer": "ipython3",
   "version": "3.10.11"
  }
 },
 "nbformat": 4,
 "nbformat_minor": 5
}
